{
  "nbformat": 4,
  "nbformat_minor": 0,
  "metadata": {
    "kernelspec": {
      "display_name": "Python 3",
      "language": "python",
      "name": "python3"
    },
    "language_info": {
      "codemirror_mode": {
        "name": "ipython",
        "version": 3
      },
      "file_extension": ".py",
      "mimetype": "text/x-python",
      "name": "python",
      "nbconvert_exporter": "python",
      "pygments_lexer": "ipython3",
      "version": "3.6.9"
    },
    "colab": {
      "name": "main.ipynb",
      "provenance": [],
      "collapsed_sections": [],
      "toc_visible": true,
      "machine_shape": "hm"
    },
    "accelerator": "GPU",
    "widgets": {
      "application/vnd.jupyter.widget-state+json": {
        "920e78725c624c8c8d7f8c39b750620f": {
          "model_module": "@jupyter-widgets/controls",
          "model_name": "HBoxModel",
          "state": {
            "_view_name": "HBoxView",
            "_dom_classes": [],
            "_model_name": "HBoxModel",
            "_view_module": "@jupyter-widgets/controls",
            "_model_module_version": "1.5.0",
            "_view_count": null,
            "_view_module_version": "1.5.0",
            "box_style": "",
            "layout": "IPY_MODEL_7450ca355397418d8ec7d05b231057c4",
            "_model_module": "@jupyter-widgets/controls",
            "children": [
              "IPY_MODEL_20983a58327f4c3ebfe2d864a41d8c4d",
              "IPY_MODEL_b37ff04de9d5417e83b4e623a191c2a6"
            ]
          }
        },
        "7450ca355397418d8ec7d05b231057c4": {
          "model_module": "@jupyter-widgets/base",
          "model_name": "LayoutModel",
          "state": {
            "_view_name": "LayoutView",
            "grid_template_rows": null,
            "right": null,
            "justify_content": null,
            "_view_module": "@jupyter-widgets/base",
            "overflow": null,
            "_model_module_version": "1.2.0",
            "_view_count": null,
            "flex_flow": null,
            "width": null,
            "min_width": null,
            "border": null,
            "align_items": null,
            "bottom": null,
            "_model_module": "@jupyter-widgets/base",
            "top": null,
            "grid_column": null,
            "overflow_y": null,
            "overflow_x": null,
            "grid_auto_flow": null,
            "grid_area": null,
            "grid_template_columns": null,
            "flex": null,
            "_model_name": "LayoutModel",
            "justify_items": null,
            "grid_row": null,
            "max_height": null,
            "align_content": null,
            "visibility": null,
            "align_self": null,
            "height": null,
            "min_height": null,
            "padding": null,
            "grid_auto_rows": null,
            "grid_gap": null,
            "max_width": null,
            "order": null,
            "_view_module_version": "1.2.0",
            "grid_template_areas": null,
            "object_position": null,
            "object_fit": null,
            "grid_auto_columns": null,
            "margin": null,
            "display": null,
            "left": null
          }
        },
        "20983a58327f4c3ebfe2d864a41d8c4d": {
          "model_module": "@jupyter-widgets/controls",
          "model_name": "FloatProgressModel",
          "state": {
            "_view_name": "ProgressView",
            "style": "IPY_MODEL_e2191a6911d1493ca102a7ec06eab1a1",
            "_dom_classes": [],
            "description": "Downloading: 100%",
            "_model_name": "FloatProgressModel",
            "bar_style": "success",
            "max": 109540,
            "_view_module": "@jupyter-widgets/controls",
            "_model_module_version": "1.5.0",
            "value": 109540,
            "_view_count": null,
            "_view_module_version": "1.5.0",
            "orientation": "horizontal",
            "min": 0,
            "description_tooltip": null,
            "_model_module": "@jupyter-widgets/controls",
            "layout": "IPY_MODEL_4af0dea1379d4f3b904101cbf1654a8a"
          }
        },
        "b37ff04de9d5417e83b4e623a191c2a6": {
          "model_module": "@jupyter-widgets/controls",
          "model_name": "HTMLModel",
          "state": {
            "_view_name": "HTMLView",
            "style": "IPY_MODEL_0c23802bb43548eeb459fae36f57a8ed",
            "_dom_classes": [],
            "description": "",
            "_model_name": "HTMLModel",
            "placeholder": "​",
            "_view_module": "@jupyter-widgets/controls",
            "_model_module_version": "1.5.0",
            "value": " 110k/110k [00:00&lt;00:00, 136kB/s]",
            "_view_count": null,
            "_view_module_version": "1.5.0",
            "description_tooltip": null,
            "_model_module": "@jupyter-widgets/controls",
            "layout": "IPY_MODEL_b364ead544314132be3ce00934dc56bb"
          }
        },
        "e2191a6911d1493ca102a7ec06eab1a1": {
          "model_module": "@jupyter-widgets/controls",
          "model_name": "ProgressStyleModel",
          "state": {
            "_view_name": "StyleView",
            "_model_name": "ProgressStyleModel",
            "description_width": "initial",
            "_view_module": "@jupyter-widgets/base",
            "_model_module_version": "1.5.0",
            "_view_count": null,
            "_view_module_version": "1.2.0",
            "bar_color": null,
            "_model_module": "@jupyter-widgets/controls"
          }
        },
        "4af0dea1379d4f3b904101cbf1654a8a": {
          "model_module": "@jupyter-widgets/base",
          "model_name": "LayoutModel",
          "state": {
            "_view_name": "LayoutView",
            "grid_template_rows": null,
            "right": null,
            "justify_content": null,
            "_view_module": "@jupyter-widgets/base",
            "overflow": null,
            "_model_module_version": "1.2.0",
            "_view_count": null,
            "flex_flow": null,
            "width": null,
            "min_width": null,
            "border": null,
            "align_items": null,
            "bottom": null,
            "_model_module": "@jupyter-widgets/base",
            "top": null,
            "grid_column": null,
            "overflow_y": null,
            "overflow_x": null,
            "grid_auto_flow": null,
            "grid_area": null,
            "grid_template_columns": null,
            "flex": null,
            "_model_name": "LayoutModel",
            "justify_items": null,
            "grid_row": null,
            "max_height": null,
            "align_content": null,
            "visibility": null,
            "align_self": null,
            "height": null,
            "min_height": null,
            "padding": null,
            "grid_auto_rows": null,
            "grid_gap": null,
            "max_width": null,
            "order": null,
            "_view_module_version": "1.2.0",
            "grid_template_areas": null,
            "object_position": null,
            "object_fit": null,
            "grid_auto_columns": null,
            "margin": null,
            "display": null,
            "left": null
          }
        },
        "0c23802bb43548eeb459fae36f57a8ed": {
          "model_module": "@jupyter-widgets/controls",
          "model_name": "DescriptionStyleModel",
          "state": {
            "_view_name": "StyleView",
            "_model_name": "DescriptionStyleModel",
            "description_width": "",
            "_view_module": "@jupyter-widgets/base",
            "_model_module_version": "1.5.0",
            "_view_count": null,
            "_view_module_version": "1.2.0",
            "_model_module": "@jupyter-widgets/controls"
          }
        },
        "b364ead544314132be3ce00934dc56bb": {
          "model_module": "@jupyter-widgets/base",
          "model_name": "LayoutModel",
          "state": {
            "_view_name": "LayoutView",
            "grid_template_rows": null,
            "right": null,
            "justify_content": null,
            "_view_module": "@jupyter-widgets/base",
            "overflow": null,
            "_model_module_version": "1.2.0",
            "_view_count": null,
            "flex_flow": null,
            "width": null,
            "min_width": null,
            "border": null,
            "align_items": null,
            "bottom": null,
            "_model_module": "@jupyter-widgets/base",
            "top": null,
            "grid_column": null,
            "overflow_y": null,
            "overflow_x": null,
            "grid_auto_flow": null,
            "grid_area": null,
            "grid_template_columns": null,
            "flex": null,
            "_model_name": "LayoutModel",
            "justify_items": null,
            "grid_row": null,
            "max_height": null,
            "align_content": null,
            "visibility": null,
            "align_self": null,
            "height": null,
            "min_height": null,
            "padding": null,
            "grid_auto_rows": null,
            "grid_gap": null,
            "max_width": null,
            "order": null,
            "_view_module_version": "1.2.0",
            "grid_template_areas": null,
            "object_position": null,
            "object_fit": null,
            "grid_auto_columns": null,
            "margin": null,
            "display": null,
            "left": null
          }
        },
        "9866078f1d7442edaa0bbc78faf6809d": {
          "model_module": "@jupyter-widgets/controls",
          "model_name": "HBoxModel",
          "state": {
            "_view_name": "HBoxView",
            "_dom_classes": [],
            "_model_name": "HBoxModel",
            "_view_module": "@jupyter-widgets/controls",
            "_model_module_version": "1.5.0",
            "_view_count": null,
            "_view_module_version": "1.5.0",
            "box_style": "",
            "layout": "IPY_MODEL_0328cbb81c6d482db39a7d2c07099e04",
            "_model_module": "@jupyter-widgets/controls",
            "children": [
              "IPY_MODEL_54c5b04360bc447aa710896bba9097c9",
              "IPY_MODEL_e15dc6adf43d448ab4555b68c6ff2ec1"
            ]
          }
        },
        "0328cbb81c6d482db39a7d2c07099e04": {
          "model_module": "@jupyter-widgets/base",
          "model_name": "LayoutModel",
          "state": {
            "_view_name": "LayoutView",
            "grid_template_rows": null,
            "right": null,
            "justify_content": null,
            "_view_module": "@jupyter-widgets/base",
            "overflow": null,
            "_model_module_version": "1.2.0",
            "_view_count": null,
            "flex_flow": null,
            "width": null,
            "min_width": null,
            "border": null,
            "align_items": null,
            "bottom": null,
            "_model_module": "@jupyter-widgets/base",
            "top": null,
            "grid_column": null,
            "overflow_y": null,
            "overflow_x": null,
            "grid_auto_flow": null,
            "grid_area": null,
            "grid_template_columns": null,
            "flex": null,
            "_model_name": "LayoutModel",
            "justify_items": null,
            "grid_row": null,
            "max_height": null,
            "align_content": null,
            "visibility": null,
            "align_self": null,
            "height": null,
            "min_height": null,
            "padding": null,
            "grid_auto_rows": null,
            "grid_gap": null,
            "max_width": null,
            "order": null,
            "_view_module_version": "1.2.0",
            "grid_template_areas": null,
            "object_position": null,
            "object_fit": null,
            "grid_auto_columns": null,
            "margin": null,
            "display": null,
            "left": null
          }
        },
        "54c5b04360bc447aa710896bba9097c9": {
          "model_module": "@jupyter-widgets/controls",
          "model_name": "FloatProgressModel",
          "state": {
            "_view_name": "ProgressView",
            "style": "IPY_MODEL_f206e679d3134107866e502e165d43a5",
            "_dom_classes": [],
            "description": "Downloading: 100%",
            "_model_name": "FloatProgressModel",
            "bar_style": "success",
            "max": 2,
            "_view_module": "@jupyter-widgets/controls",
            "_model_module_version": "1.5.0",
            "value": 2,
            "_view_count": null,
            "_view_module_version": "1.5.0",
            "orientation": "horizontal",
            "min": 0,
            "description_tooltip": null,
            "_model_module": "@jupyter-widgets/controls",
            "layout": "IPY_MODEL_e396a41cd5fe4b2aa18e4239e6e7bd6f"
          }
        },
        "e15dc6adf43d448ab4555b68c6ff2ec1": {
          "model_module": "@jupyter-widgets/controls",
          "model_name": "HTMLModel",
          "state": {
            "_view_name": "HTMLView",
            "style": "IPY_MODEL_4a8a76fc008d497ea61c6f512ff4bf9c",
            "_dom_classes": [],
            "description": "",
            "_model_name": "HTMLModel",
            "placeholder": "​",
            "_view_module": "@jupyter-widgets/controls",
            "_model_module_version": "1.5.0",
            "value": " 2.00/2.00 [00:02&lt;00:00, 1.03s/B]",
            "_view_count": null,
            "_view_module_version": "1.5.0",
            "description_tooltip": null,
            "_model_module": "@jupyter-widgets/controls",
            "layout": "IPY_MODEL_42e0e55d6731457aa3c02f5fe029b742"
          }
        },
        "f206e679d3134107866e502e165d43a5": {
          "model_module": "@jupyter-widgets/controls",
          "model_name": "ProgressStyleModel",
          "state": {
            "_view_name": "StyleView",
            "_model_name": "ProgressStyleModel",
            "description_width": "initial",
            "_view_module": "@jupyter-widgets/base",
            "_model_module_version": "1.5.0",
            "_view_count": null,
            "_view_module_version": "1.2.0",
            "bar_color": null,
            "_model_module": "@jupyter-widgets/controls"
          }
        },
        "e396a41cd5fe4b2aa18e4239e6e7bd6f": {
          "model_module": "@jupyter-widgets/base",
          "model_name": "LayoutModel",
          "state": {
            "_view_name": "LayoutView",
            "grid_template_rows": null,
            "right": null,
            "justify_content": null,
            "_view_module": "@jupyter-widgets/base",
            "overflow": null,
            "_model_module_version": "1.2.0",
            "_view_count": null,
            "flex_flow": null,
            "width": null,
            "min_width": null,
            "border": null,
            "align_items": null,
            "bottom": null,
            "_model_module": "@jupyter-widgets/base",
            "top": null,
            "grid_column": null,
            "overflow_y": null,
            "overflow_x": null,
            "grid_auto_flow": null,
            "grid_area": null,
            "grid_template_columns": null,
            "flex": null,
            "_model_name": "LayoutModel",
            "justify_items": null,
            "grid_row": null,
            "max_height": null,
            "align_content": null,
            "visibility": null,
            "align_self": null,
            "height": null,
            "min_height": null,
            "padding": null,
            "grid_auto_rows": null,
            "grid_gap": null,
            "max_width": null,
            "order": null,
            "_view_module_version": "1.2.0",
            "grid_template_areas": null,
            "object_position": null,
            "object_fit": null,
            "grid_auto_columns": null,
            "margin": null,
            "display": null,
            "left": null
          }
        },
        "4a8a76fc008d497ea61c6f512ff4bf9c": {
          "model_module": "@jupyter-widgets/controls",
          "model_name": "DescriptionStyleModel",
          "state": {
            "_view_name": "StyleView",
            "_model_name": "DescriptionStyleModel",
            "description_width": "",
            "_view_module": "@jupyter-widgets/base",
            "_model_module_version": "1.5.0",
            "_view_count": null,
            "_view_module_version": "1.2.0",
            "_model_module": "@jupyter-widgets/controls"
          }
        },
        "42e0e55d6731457aa3c02f5fe029b742": {
          "model_module": "@jupyter-widgets/base",
          "model_name": "LayoutModel",
          "state": {
            "_view_name": "LayoutView",
            "grid_template_rows": null,
            "right": null,
            "justify_content": null,
            "_view_module": "@jupyter-widgets/base",
            "overflow": null,
            "_model_module_version": "1.2.0",
            "_view_count": null,
            "flex_flow": null,
            "width": null,
            "min_width": null,
            "border": null,
            "align_items": null,
            "bottom": null,
            "_model_module": "@jupyter-widgets/base",
            "top": null,
            "grid_column": null,
            "overflow_y": null,
            "overflow_x": null,
            "grid_auto_flow": null,
            "grid_area": null,
            "grid_template_columns": null,
            "flex": null,
            "_model_name": "LayoutModel",
            "justify_items": null,
            "grid_row": null,
            "max_height": null,
            "align_content": null,
            "visibility": null,
            "align_self": null,
            "height": null,
            "min_height": null,
            "padding": null,
            "grid_auto_rows": null,
            "grid_gap": null,
            "max_width": null,
            "order": null,
            "_view_module_version": "1.2.0",
            "grid_template_areas": null,
            "object_position": null,
            "object_fit": null,
            "grid_auto_columns": null,
            "margin": null,
            "display": null,
            "left": null
          }
        },
        "7312084dcc1b4ce89f1fb3cdc415ffd9": {
          "model_module": "@jupyter-widgets/controls",
          "model_name": "HBoxModel",
          "state": {
            "_view_name": "HBoxView",
            "_dom_classes": [],
            "_model_name": "HBoxModel",
            "_view_module": "@jupyter-widgets/controls",
            "_model_module_version": "1.5.0",
            "_view_count": null,
            "_view_module_version": "1.5.0",
            "box_style": "",
            "layout": "IPY_MODEL_a95f7fa279114de2b8dca34e0f0f5ab7",
            "_model_module": "@jupyter-widgets/controls",
            "children": [
              "IPY_MODEL_7e4d2737895c4e1382a4049b03052811",
              "IPY_MODEL_eee60c88808345a19a3ca00c780c0b6f"
            ]
          }
        },
        "a95f7fa279114de2b8dca34e0f0f5ab7": {
          "model_module": "@jupyter-widgets/base",
          "model_name": "LayoutModel",
          "state": {
            "_view_name": "LayoutView",
            "grid_template_rows": null,
            "right": null,
            "justify_content": null,
            "_view_module": "@jupyter-widgets/base",
            "overflow": null,
            "_model_module_version": "1.2.0",
            "_view_count": null,
            "flex_flow": null,
            "width": null,
            "min_width": null,
            "border": null,
            "align_items": null,
            "bottom": null,
            "_model_module": "@jupyter-widgets/base",
            "top": null,
            "grid_column": null,
            "overflow_y": null,
            "overflow_x": null,
            "grid_auto_flow": null,
            "grid_area": null,
            "grid_template_columns": null,
            "flex": null,
            "_model_name": "LayoutModel",
            "justify_items": null,
            "grid_row": null,
            "max_height": null,
            "align_content": null,
            "visibility": null,
            "align_self": null,
            "height": null,
            "min_height": null,
            "padding": null,
            "grid_auto_rows": null,
            "grid_gap": null,
            "max_width": null,
            "order": null,
            "_view_module_version": "1.2.0",
            "grid_template_areas": null,
            "object_position": null,
            "object_fit": null,
            "grid_auto_columns": null,
            "margin": null,
            "display": null,
            "left": null
          }
        },
        "7e4d2737895c4e1382a4049b03052811": {
          "model_module": "@jupyter-widgets/controls",
          "model_name": "FloatProgressModel",
          "state": {
            "_view_name": "ProgressView",
            "style": "IPY_MODEL_2b5167ed2d7a495aa8eb6221dff38248",
            "_dom_classes": [],
            "description": "Downloading: 100%",
            "_model_name": "FloatProgressModel",
            "bar_style": "success",
            "max": 112,
            "_view_module": "@jupyter-widgets/controls",
            "_model_module_version": "1.5.0",
            "value": 112,
            "_view_count": null,
            "_view_module_version": "1.5.0",
            "orientation": "horizontal",
            "min": 0,
            "description_tooltip": null,
            "_model_module": "@jupyter-widgets/controls",
            "layout": "IPY_MODEL_862e94117ec0430c819bca391e440f8e"
          }
        },
        "eee60c88808345a19a3ca00c780c0b6f": {
          "model_module": "@jupyter-widgets/controls",
          "model_name": "HTMLModel",
          "state": {
            "_view_name": "HTMLView",
            "style": "IPY_MODEL_2dfd40dc4dd24eafb42c378529710515",
            "_dom_classes": [],
            "description": "",
            "_model_name": "HTMLModel",
            "placeholder": "​",
            "_view_module": "@jupyter-widgets/controls",
            "_model_module_version": "1.5.0",
            "value": " 112/112 [00:01&lt;00:00, 98.2B/s]",
            "_view_count": null,
            "_view_module_version": "1.5.0",
            "description_tooltip": null,
            "_model_module": "@jupyter-widgets/controls",
            "layout": "IPY_MODEL_d7751de101654010b36ac2f9f7b3d8c9"
          }
        },
        "2b5167ed2d7a495aa8eb6221dff38248": {
          "model_module": "@jupyter-widgets/controls",
          "model_name": "ProgressStyleModel",
          "state": {
            "_view_name": "StyleView",
            "_model_name": "ProgressStyleModel",
            "description_width": "initial",
            "_view_module": "@jupyter-widgets/base",
            "_model_module_version": "1.5.0",
            "_view_count": null,
            "_view_module_version": "1.2.0",
            "bar_color": null,
            "_model_module": "@jupyter-widgets/controls"
          }
        },
        "862e94117ec0430c819bca391e440f8e": {
          "model_module": "@jupyter-widgets/base",
          "model_name": "LayoutModel",
          "state": {
            "_view_name": "LayoutView",
            "grid_template_rows": null,
            "right": null,
            "justify_content": null,
            "_view_module": "@jupyter-widgets/base",
            "overflow": null,
            "_model_module_version": "1.2.0",
            "_view_count": null,
            "flex_flow": null,
            "width": null,
            "min_width": null,
            "border": null,
            "align_items": null,
            "bottom": null,
            "_model_module": "@jupyter-widgets/base",
            "top": null,
            "grid_column": null,
            "overflow_y": null,
            "overflow_x": null,
            "grid_auto_flow": null,
            "grid_area": null,
            "grid_template_columns": null,
            "flex": null,
            "_model_name": "LayoutModel",
            "justify_items": null,
            "grid_row": null,
            "max_height": null,
            "align_content": null,
            "visibility": null,
            "align_self": null,
            "height": null,
            "min_height": null,
            "padding": null,
            "grid_auto_rows": null,
            "grid_gap": null,
            "max_width": null,
            "order": null,
            "_view_module_version": "1.2.0",
            "grid_template_areas": null,
            "object_position": null,
            "object_fit": null,
            "grid_auto_columns": null,
            "margin": null,
            "display": null,
            "left": null
          }
        },
        "2dfd40dc4dd24eafb42c378529710515": {
          "model_module": "@jupyter-widgets/controls",
          "model_name": "DescriptionStyleModel",
          "state": {
            "_view_name": "StyleView",
            "_model_name": "DescriptionStyleModel",
            "description_width": "",
            "_view_module": "@jupyter-widgets/base",
            "_model_module_version": "1.5.0",
            "_view_count": null,
            "_view_module_version": "1.2.0",
            "_model_module": "@jupyter-widgets/controls"
          }
        },
        "d7751de101654010b36ac2f9f7b3d8c9": {
          "model_module": "@jupyter-widgets/base",
          "model_name": "LayoutModel",
          "state": {
            "_view_name": "LayoutView",
            "grid_template_rows": null,
            "right": null,
            "justify_content": null,
            "_view_module": "@jupyter-widgets/base",
            "overflow": null,
            "_model_module_version": "1.2.0",
            "_view_count": null,
            "flex_flow": null,
            "width": null,
            "min_width": null,
            "border": null,
            "align_items": null,
            "bottom": null,
            "_model_module": "@jupyter-widgets/base",
            "top": null,
            "grid_column": null,
            "overflow_y": null,
            "overflow_x": null,
            "grid_auto_flow": null,
            "grid_area": null,
            "grid_template_columns": null,
            "flex": null,
            "_model_name": "LayoutModel",
            "justify_items": null,
            "grid_row": null,
            "max_height": null,
            "align_content": null,
            "visibility": null,
            "align_self": null,
            "height": null,
            "min_height": null,
            "padding": null,
            "grid_auto_rows": null,
            "grid_gap": null,
            "max_width": null,
            "order": null,
            "_view_module_version": "1.2.0",
            "grid_template_areas": null,
            "object_position": null,
            "object_fit": null,
            "grid_auto_columns": null,
            "margin": null,
            "display": null,
            "left": null
          }
        },
        "4f530e42a090483894ab734df0610498": {
          "model_module": "@jupyter-widgets/controls",
          "model_name": "HBoxModel",
          "state": {
            "_view_name": "HBoxView",
            "_dom_classes": [],
            "_model_name": "HBoxModel",
            "_view_module": "@jupyter-widgets/controls",
            "_model_module_version": "1.5.0",
            "_view_count": null,
            "_view_module_version": "1.5.0",
            "box_style": "",
            "layout": "IPY_MODEL_983abbe0546046dfae1105c3a0d62ba2",
            "_model_module": "@jupyter-widgets/controls",
            "children": [
              "IPY_MODEL_80e046065102478ab2857786ee83608f",
              "IPY_MODEL_2860785211934175953c75ceaa3b071c"
            ]
          }
        },
        "983abbe0546046dfae1105c3a0d62ba2": {
          "model_module": "@jupyter-widgets/base",
          "model_name": "LayoutModel",
          "state": {
            "_view_name": "LayoutView",
            "grid_template_rows": null,
            "right": null,
            "justify_content": null,
            "_view_module": "@jupyter-widgets/base",
            "overflow": null,
            "_model_module_version": "1.2.0",
            "_view_count": null,
            "flex_flow": null,
            "width": null,
            "min_width": null,
            "border": null,
            "align_items": null,
            "bottom": null,
            "_model_module": "@jupyter-widgets/base",
            "top": null,
            "grid_column": null,
            "overflow_y": null,
            "overflow_x": null,
            "grid_auto_flow": null,
            "grid_area": null,
            "grid_template_columns": null,
            "flex": null,
            "_model_name": "LayoutModel",
            "justify_items": null,
            "grid_row": null,
            "max_height": null,
            "align_content": null,
            "visibility": null,
            "align_self": null,
            "height": null,
            "min_height": null,
            "padding": null,
            "grid_auto_rows": null,
            "grid_gap": null,
            "max_width": null,
            "order": null,
            "_view_module_version": "1.2.0",
            "grid_template_areas": null,
            "object_position": null,
            "object_fit": null,
            "grid_auto_columns": null,
            "margin": null,
            "display": null,
            "left": null
          }
        },
        "80e046065102478ab2857786ee83608f": {
          "model_module": "@jupyter-widgets/controls",
          "model_name": "FloatProgressModel",
          "state": {
            "_view_name": "ProgressView",
            "style": "IPY_MODEL_a9f8d5ac9e114376bd8b4cc97600e8c3",
            "_dom_classes": [],
            "description": "Downloading: 100%",
            "_model_name": "FloatProgressModel",
            "bar_style": "success",
            "max": 19,
            "_view_module": "@jupyter-widgets/controls",
            "_model_module_version": "1.5.0",
            "value": 19,
            "_view_count": null,
            "_view_module_version": "1.5.0",
            "orientation": "horizontal",
            "min": 0,
            "description_tooltip": null,
            "_model_module": "@jupyter-widgets/controls",
            "layout": "IPY_MODEL_a6885785384e4d33bf7369bd3b6b8ab7"
          }
        },
        "2860785211934175953c75ceaa3b071c": {
          "model_module": "@jupyter-widgets/controls",
          "model_name": "HTMLModel",
          "state": {
            "_view_name": "HTMLView",
            "style": "IPY_MODEL_49951210abd7493d845a5516fa1ad57a",
            "_dom_classes": [],
            "description": "",
            "_model_name": "HTMLModel",
            "placeholder": "​",
            "_view_module": "@jupyter-widgets/controls",
            "_model_module_version": "1.5.0",
            "value": " 19.0/19.0 [00:00&lt;00:00, 32.7B/s]",
            "_view_count": null,
            "_view_module_version": "1.5.0",
            "description_tooltip": null,
            "_model_module": "@jupyter-widgets/controls",
            "layout": "IPY_MODEL_63a4cc7ac0f54682ae5accc553377e75"
          }
        },
        "a9f8d5ac9e114376bd8b4cc97600e8c3": {
          "model_module": "@jupyter-widgets/controls",
          "model_name": "ProgressStyleModel",
          "state": {
            "_view_name": "StyleView",
            "_model_name": "ProgressStyleModel",
            "description_width": "initial",
            "_view_module": "@jupyter-widgets/base",
            "_model_module_version": "1.5.0",
            "_view_count": null,
            "_view_module_version": "1.2.0",
            "bar_color": null,
            "_model_module": "@jupyter-widgets/controls"
          }
        },
        "a6885785384e4d33bf7369bd3b6b8ab7": {
          "model_module": "@jupyter-widgets/base",
          "model_name": "LayoutModel",
          "state": {
            "_view_name": "LayoutView",
            "grid_template_rows": null,
            "right": null,
            "justify_content": null,
            "_view_module": "@jupyter-widgets/base",
            "overflow": null,
            "_model_module_version": "1.2.0",
            "_view_count": null,
            "flex_flow": null,
            "width": null,
            "min_width": null,
            "border": null,
            "align_items": null,
            "bottom": null,
            "_model_module": "@jupyter-widgets/base",
            "top": null,
            "grid_column": null,
            "overflow_y": null,
            "overflow_x": null,
            "grid_auto_flow": null,
            "grid_area": null,
            "grid_template_columns": null,
            "flex": null,
            "_model_name": "LayoutModel",
            "justify_items": null,
            "grid_row": null,
            "max_height": null,
            "align_content": null,
            "visibility": null,
            "align_self": null,
            "height": null,
            "min_height": null,
            "padding": null,
            "grid_auto_rows": null,
            "grid_gap": null,
            "max_width": null,
            "order": null,
            "_view_module_version": "1.2.0",
            "grid_template_areas": null,
            "object_position": null,
            "object_fit": null,
            "grid_auto_columns": null,
            "margin": null,
            "display": null,
            "left": null
          }
        },
        "49951210abd7493d845a5516fa1ad57a": {
          "model_module": "@jupyter-widgets/controls",
          "model_name": "DescriptionStyleModel",
          "state": {
            "_view_name": "StyleView",
            "_model_name": "DescriptionStyleModel",
            "description_width": "",
            "_view_module": "@jupyter-widgets/base",
            "_model_module_version": "1.5.0",
            "_view_count": null,
            "_view_module_version": "1.2.0",
            "_model_module": "@jupyter-widgets/controls"
          }
        },
        "63a4cc7ac0f54682ae5accc553377e75": {
          "model_module": "@jupyter-widgets/base",
          "model_name": "LayoutModel",
          "state": {
            "_view_name": "LayoutView",
            "grid_template_rows": null,
            "right": null,
            "justify_content": null,
            "_view_module": "@jupyter-widgets/base",
            "overflow": null,
            "_model_module_version": "1.2.0",
            "_view_count": null,
            "flex_flow": null,
            "width": null,
            "min_width": null,
            "border": null,
            "align_items": null,
            "bottom": null,
            "_model_module": "@jupyter-widgets/base",
            "top": null,
            "grid_column": null,
            "overflow_y": null,
            "overflow_x": null,
            "grid_auto_flow": null,
            "grid_area": null,
            "grid_template_columns": null,
            "flex": null,
            "_model_name": "LayoutModel",
            "justify_items": null,
            "grid_row": null,
            "max_height": null,
            "align_content": null,
            "visibility": null,
            "align_self": null,
            "height": null,
            "min_height": null,
            "padding": null,
            "grid_auto_rows": null,
            "grid_gap": null,
            "max_width": null,
            "order": null,
            "_view_module_version": "1.2.0",
            "grid_template_areas": null,
            "object_position": null,
            "object_fit": null,
            "grid_auto_columns": null,
            "margin": null,
            "display": null,
            "left": null
          }
        },
        "925366b97b714c5cb8d8de1f8ac4efa4": {
          "model_module": "@jupyter-widgets/controls",
          "model_name": "HBoxModel",
          "state": {
            "_view_name": "HBoxView",
            "_dom_classes": [],
            "_model_name": "HBoxModel",
            "_view_module": "@jupyter-widgets/controls",
            "_model_module_version": "1.5.0",
            "_view_count": null,
            "_view_module_version": "1.5.0",
            "box_style": "",
            "layout": "IPY_MODEL_6e2e5215435a4421ba1ac0250fcdc098",
            "_model_module": "@jupyter-widgets/controls",
            "children": [
              "IPY_MODEL_d3933afc826c404aa50d5b5988b66b59",
              "IPY_MODEL_e92d8c7d68df4ac0a39f9f1814e38078"
            ]
          }
        },
        "6e2e5215435a4421ba1ac0250fcdc098": {
          "model_module": "@jupyter-widgets/base",
          "model_name": "LayoutModel",
          "state": {
            "_view_name": "LayoutView",
            "grid_template_rows": null,
            "right": null,
            "justify_content": null,
            "_view_module": "@jupyter-widgets/base",
            "overflow": null,
            "_model_module_version": "1.2.0",
            "_view_count": null,
            "flex_flow": null,
            "width": null,
            "min_width": null,
            "border": null,
            "align_items": null,
            "bottom": null,
            "_model_module": "@jupyter-widgets/base",
            "top": null,
            "grid_column": null,
            "overflow_y": null,
            "overflow_x": null,
            "grid_auto_flow": null,
            "grid_area": null,
            "grid_template_columns": null,
            "flex": null,
            "_model_name": "LayoutModel",
            "justify_items": null,
            "grid_row": null,
            "max_height": null,
            "align_content": null,
            "visibility": null,
            "align_self": null,
            "height": null,
            "min_height": null,
            "padding": null,
            "grid_auto_rows": null,
            "grid_gap": null,
            "max_width": null,
            "order": null,
            "_view_module_version": "1.2.0",
            "grid_template_areas": null,
            "object_position": null,
            "object_fit": null,
            "grid_auto_columns": null,
            "margin": null,
            "display": null,
            "left": null
          }
        },
        "d3933afc826c404aa50d5b5988b66b59": {
          "model_module": "@jupyter-widgets/controls",
          "model_name": "FloatProgressModel",
          "state": {
            "_view_name": "ProgressView",
            "style": "IPY_MODEL_5b1a32af7bfd4abc8231d69f7ff6e275",
            "_dom_classes": [],
            "description": "Downloading: 100%",
            "_model_name": "FloatProgressModel",
            "bar_style": "success",
            "max": 268961,
            "_view_module": "@jupyter-widgets/controls",
            "_model_module_version": "1.5.0",
            "value": 268961,
            "_view_count": null,
            "_view_module_version": "1.5.0",
            "orientation": "horizontal",
            "min": 0,
            "description_tooltip": null,
            "_model_module": "@jupyter-widgets/controls",
            "layout": "IPY_MODEL_3605b23a7d7e444891fe35f2f9cad050"
          }
        },
        "e92d8c7d68df4ac0a39f9f1814e38078": {
          "model_module": "@jupyter-widgets/controls",
          "model_name": "HTMLModel",
          "state": {
            "_view_name": "HTMLView",
            "style": "IPY_MODEL_a00e6fb77a644517948a988a652e4c0a",
            "_dom_classes": [],
            "description": "",
            "_model_name": "HTMLModel",
            "placeholder": "​",
            "_view_module": "@jupyter-widgets/controls",
            "_model_module_version": "1.5.0",
            "value": " 269k/269k [00:00&lt;00:00, 742kB/s]",
            "_view_count": null,
            "_view_module_version": "1.5.0",
            "description_tooltip": null,
            "_model_module": "@jupyter-widgets/controls",
            "layout": "IPY_MODEL_3a265c23ccf84d15a5c5103ac719a727"
          }
        },
        "5b1a32af7bfd4abc8231d69f7ff6e275": {
          "model_module": "@jupyter-widgets/controls",
          "model_name": "ProgressStyleModel",
          "state": {
            "_view_name": "StyleView",
            "_model_name": "ProgressStyleModel",
            "description_width": "initial",
            "_view_module": "@jupyter-widgets/base",
            "_model_module_version": "1.5.0",
            "_view_count": null,
            "_view_module_version": "1.2.0",
            "bar_color": null,
            "_model_module": "@jupyter-widgets/controls"
          }
        },
        "3605b23a7d7e444891fe35f2f9cad050": {
          "model_module": "@jupyter-widgets/base",
          "model_name": "LayoutModel",
          "state": {
            "_view_name": "LayoutView",
            "grid_template_rows": null,
            "right": null,
            "justify_content": null,
            "_view_module": "@jupyter-widgets/base",
            "overflow": null,
            "_model_module_version": "1.2.0",
            "_view_count": null,
            "flex_flow": null,
            "width": null,
            "min_width": null,
            "border": null,
            "align_items": null,
            "bottom": null,
            "_model_module": "@jupyter-widgets/base",
            "top": null,
            "grid_column": null,
            "overflow_y": null,
            "overflow_x": null,
            "grid_auto_flow": null,
            "grid_area": null,
            "grid_template_columns": null,
            "flex": null,
            "_model_name": "LayoutModel",
            "justify_items": null,
            "grid_row": null,
            "max_height": null,
            "align_content": null,
            "visibility": null,
            "align_self": null,
            "height": null,
            "min_height": null,
            "padding": null,
            "grid_auto_rows": null,
            "grid_gap": null,
            "max_width": null,
            "order": null,
            "_view_module_version": "1.2.0",
            "grid_template_areas": null,
            "object_position": null,
            "object_fit": null,
            "grid_auto_columns": null,
            "margin": null,
            "display": null,
            "left": null
          }
        },
        "a00e6fb77a644517948a988a652e4c0a": {
          "model_module": "@jupyter-widgets/controls",
          "model_name": "DescriptionStyleModel",
          "state": {
            "_view_name": "StyleView",
            "_model_name": "DescriptionStyleModel",
            "description_width": "",
            "_view_module": "@jupyter-widgets/base",
            "_model_module_version": "1.5.0",
            "_view_count": null,
            "_view_module_version": "1.2.0",
            "_model_module": "@jupyter-widgets/controls"
          }
        },
        "3a265c23ccf84d15a5c5103ac719a727": {
          "model_module": "@jupyter-widgets/base",
          "model_name": "LayoutModel",
          "state": {
            "_view_name": "LayoutView",
            "grid_template_rows": null,
            "right": null,
            "justify_content": null,
            "_view_module": "@jupyter-widgets/base",
            "overflow": null,
            "_model_module_version": "1.2.0",
            "_view_count": null,
            "flex_flow": null,
            "width": null,
            "min_width": null,
            "border": null,
            "align_items": null,
            "bottom": null,
            "_model_module": "@jupyter-widgets/base",
            "top": null,
            "grid_column": null,
            "overflow_y": null,
            "overflow_x": null,
            "grid_auto_flow": null,
            "grid_area": null,
            "grid_template_columns": null,
            "flex": null,
            "_model_name": "LayoutModel",
            "justify_items": null,
            "grid_row": null,
            "max_height": null,
            "align_content": null,
            "visibility": null,
            "align_self": null,
            "height": null,
            "min_height": null,
            "padding": null,
            "grid_auto_rows": null,
            "grid_gap": null,
            "max_width": null,
            "order": null,
            "_view_module_version": "1.2.0",
            "grid_template_areas": null,
            "object_position": null,
            "object_fit": null,
            "grid_auto_columns": null,
            "margin": null,
            "display": null,
            "left": null
          }
        },
        "cfa48c017c2d4a14a71a486131092966": {
          "model_module": "@jupyter-widgets/controls",
          "model_name": "HBoxModel",
          "state": {
            "_view_name": "HBoxView",
            "_dom_classes": [],
            "_model_name": "HBoxModel",
            "_view_module": "@jupyter-widgets/controls",
            "_model_module_version": "1.5.0",
            "_view_count": null,
            "_view_module_version": "1.5.0",
            "box_style": "",
            "layout": "IPY_MODEL_7e81f5bdc0af4060adf2b93bcc9a7e1b",
            "_model_module": "@jupyter-widgets/controls",
            "children": [
              "IPY_MODEL_3a3478350c394d2bbda62b3269060061",
              "IPY_MODEL_d9a6f3f4c90f486385d566f48915e1d9"
            ]
          }
        },
        "7e81f5bdc0af4060adf2b93bcc9a7e1b": {
          "model_module": "@jupyter-widgets/base",
          "model_name": "LayoutModel",
          "state": {
            "_view_name": "LayoutView",
            "grid_template_rows": null,
            "right": null,
            "justify_content": null,
            "_view_module": "@jupyter-widgets/base",
            "overflow": null,
            "_model_module_version": "1.2.0",
            "_view_count": null,
            "flex_flow": null,
            "width": null,
            "min_width": null,
            "border": null,
            "align_items": null,
            "bottom": null,
            "_model_module": "@jupyter-widgets/base",
            "top": null,
            "grid_column": null,
            "overflow_y": null,
            "overflow_x": null,
            "grid_auto_flow": null,
            "grid_area": null,
            "grid_template_columns": null,
            "flex": null,
            "_model_name": "LayoutModel",
            "justify_items": null,
            "grid_row": null,
            "max_height": null,
            "align_content": null,
            "visibility": null,
            "align_self": null,
            "height": null,
            "min_height": null,
            "padding": null,
            "grid_auto_rows": null,
            "grid_gap": null,
            "max_width": null,
            "order": null,
            "_view_module_version": "1.2.0",
            "grid_template_areas": null,
            "object_position": null,
            "object_fit": null,
            "grid_auto_columns": null,
            "margin": null,
            "display": null,
            "left": null
          }
        },
        "3a3478350c394d2bbda62b3269060061": {
          "model_module": "@jupyter-widgets/controls",
          "model_name": "FloatProgressModel",
          "state": {
            "_view_name": "ProgressView",
            "style": "IPY_MODEL_32be038035d8494d9b127ccfedbd7cdf",
            "_dom_classes": [],
            "description": "Downloading: 100%",
            "_model_name": "FloatProgressModel",
            "bar_style": "success",
            "max": 647,
            "_view_module": "@jupyter-widgets/controls",
            "_model_module_version": "1.5.0",
            "value": 647,
            "_view_count": null,
            "_view_module_version": "1.5.0",
            "orientation": "horizontal",
            "min": 0,
            "description_tooltip": null,
            "_model_module": "@jupyter-widgets/controls",
            "layout": "IPY_MODEL_6a4134ba4b79419497098d59ad25598c"
          }
        },
        "d9a6f3f4c90f486385d566f48915e1d9": {
          "model_module": "@jupyter-widgets/controls",
          "model_name": "HTMLModel",
          "state": {
            "_view_name": "HTMLView",
            "style": "IPY_MODEL_16ceba41b7b04d9c9a2027ad21a15411",
            "_dom_classes": [],
            "description": "",
            "_model_name": "HTMLModel",
            "placeholder": "​",
            "_view_module": "@jupyter-widgets/controls",
            "_model_module_version": "1.5.0",
            "value": " 647/647 [00:00&lt;00:00, 1.70kB/s]",
            "_view_count": null,
            "_view_module_version": "1.5.0",
            "description_tooltip": null,
            "_model_module": "@jupyter-widgets/controls",
            "layout": "IPY_MODEL_6527c3eff942437eb0a86299b73712dd"
          }
        },
        "32be038035d8494d9b127ccfedbd7cdf": {
          "model_module": "@jupyter-widgets/controls",
          "model_name": "ProgressStyleModel",
          "state": {
            "_view_name": "StyleView",
            "_model_name": "ProgressStyleModel",
            "description_width": "initial",
            "_view_module": "@jupyter-widgets/base",
            "_model_module_version": "1.5.0",
            "_view_count": null,
            "_view_module_version": "1.2.0",
            "bar_color": null,
            "_model_module": "@jupyter-widgets/controls"
          }
        },
        "6a4134ba4b79419497098d59ad25598c": {
          "model_module": "@jupyter-widgets/base",
          "model_name": "LayoutModel",
          "state": {
            "_view_name": "LayoutView",
            "grid_template_rows": null,
            "right": null,
            "justify_content": null,
            "_view_module": "@jupyter-widgets/base",
            "overflow": null,
            "_model_module_version": "1.2.0",
            "_view_count": null,
            "flex_flow": null,
            "width": null,
            "min_width": null,
            "border": null,
            "align_items": null,
            "bottom": null,
            "_model_module": "@jupyter-widgets/base",
            "top": null,
            "grid_column": null,
            "overflow_y": null,
            "overflow_x": null,
            "grid_auto_flow": null,
            "grid_area": null,
            "grid_template_columns": null,
            "flex": null,
            "_model_name": "LayoutModel",
            "justify_items": null,
            "grid_row": null,
            "max_height": null,
            "align_content": null,
            "visibility": null,
            "align_self": null,
            "height": null,
            "min_height": null,
            "padding": null,
            "grid_auto_rows": null,
            "grid_gap": null,
            "max_width": null,
            "order": null,
            "_view_module_version": "1.2.0",
            "grid_template_areas": null,
            "object_position": null,
            "object_fit": null,
            "grid_auto_columns": null,
            "margin": null,
            "display": null,
            "left": null
          }
        },
        "16ceba41b7b04d9c9a2027ad21a15411": {
          "model_module": "@jupyter-widgets/controls",
          "model_name": "DescriptionStyleModel",
          "state": {
            "_view_name": "StyleView",
            "_model_name": "DescriptionStyleModel",
            "description_width": "",
            "_view_module": "@jupyter-widgets/base",
            "_model_module_version": "1.5.0",
            "_view_count": null,
            "_view_module_version": "1.2.0",
            "_model_module": "@jupyter-widgets/controls"
          }
        },
        "6527c3eff942437eb0a86299b73712dd": {
          "model_module": "@jupyter-widgets/base",
          "model_name": "LayoutModel",
          "state": {
            "_view_name": "LayoutView",
            "grid_template_rows": null,
            "right": null,
            "justify_content": null,
            "_view_module": "@jupyter-widgets/base",
            "overflow": null,
            "_model_module_version": "1.2.0",
            "_view_count": null,
            "flex_flow": null,
            "width": null,
            "min_width": null,
            "border": null,
            "align_items": null,
            "bottom": null,
            "_model_module": "@jupyter-widgets/base",
            "top": null,
            "grid_column": null,
            "overflow_y": null,
            "overflow_x": null,
            "grid_auto_flow": null,
            "grid_area": null,
            "grid_template_columns": null,
            "flex": null,
            "_model_name": "LayoutModel",
            "justify_items": null,
            "grid_row": null,
            "max_height": null,
            "align_content": null,
            "visibility": null,
            "align_self": null,
            "height": null,
            "min_height": null,
            "padding": null,
            "grid_auto_rows": null,
            "grid_gap": null,
            "max_width": null,
            "order": null,
            "_view_module_version": "1.2.0",
            "grid_template_areas": null,
            "object_position": null,
            "object_fit": null,
            "grid_auto_columns": null,
            "margin": null,
            "display": null,
            "left": null
          }
        },
        "f78a3e395d004736b9134116fa82bc11": {
          "model_module": "@jupyter-widgets/controls",
          "model_name": "HBoxModel",
          "state": {
            "_view_name": "HBoxView",
            "_dom_classes": [],
            "_model_name": "HBoxModel",
            "_view_module": "@jupyter-widgets/controls",
            "_model_module_version": "1.5.0",
            "_view_count": null,
            "_view_module_version": "1.5.0",
            "box_style": "",
            "layout": "IPY_MODEL_73abc5f462fa4583b18766a6eda8295e",
            "_model_module": "@jupyter-widgets/controls",
            "children": [
              "IPY_MODEL_97077ac28c7c41f399168e46e4628d3b",
              "IPY_MODEL_c8e82a71c58c436f99a991bbf21b15fc"
            ]
          }
        },
        "73abc5f462fa4583b18766a6eda8295e": {
          "model_module": "@jupyter-widgets/base",
          "model_name": "LayoutModel",
          "state": {
            "_view_name": "LayoutView",
            "grid_template_rows": null,
            "right": null,
            "justify_content": null,
            "_view_module": "@jupyter-widgets/base",
            "overflow": null,
            "_model_module_version": "1.2.0",
            "_view_count": null,
            "flex_flow": null,
            "width": null,
            "min_width": null,
            "border": null,
            "align_items": null,
            "bottom": null,
            "_model_module": "@jupyter-widgets/base",
            "top": null,
            "grid_column": null,
            "overflow_y": null,
            "overflow_x": null,
            "grid_auto_flow": null,
            "grid_area": null,
            "grid_template_columns": null,
            "flex": null,
            "_model_name": "LayoutModel",
            "justify_items": null,
            "grid_row": null,
            "max_height": null,
            "align_content": null,
            "visibility": null,
            "align_self": null,
            "height": null,
            "min_height": null,
            "padding": null,
            "grid_auto_rows": null,
            "grid_gap": null,
            "max_width": null,
            "order": null,
            "_view_module_version": "1.2.0",
            "grid_template_areas": null,
            "object_position": null,
            "object_fit": null,
            "grid_auto_columns": null,
            "margin": null,
            "display": null,
            "left": null
          }
        },
        "97077ac28c7c41f399168e46e4628d3b": {
          "model_module": "@jupyter-widgets/controls",
          "model_name": "FloatProgressModel",
          "state": {
            "_view_name": "ProgressView",
            "style": "IPY_MODEL_dd39b0f45179482eaafbc4a69618c087",
            "_dom_classes": [],
            "description": "Downloading: 100%",
            "_model_name": "FloatProgressModel",
            "bar_style": "success",
            "max": 411578458,
            "_view_module": "@jupyter-widgets/controls",
            "_model_module_version": "1.5.0",
            "value": 411578458,
            "_view_count": null,
            "_view_module_version": "1.5.0",
            "orientation": "horizontal",
            "min": 0,
            "description_tooltip": null,
            "_model_module": "@jupyter-widgets/controls",
            "layout": "IPY_MODEL_4fa848c4d2634196a9ecef8b04414c9a"
          }
        },
        "c8e82a71c58c436f99a991bbf21b15fc": {
          "model_module": "@jupyter-widgets/controls",
          "model_name": "HTMLModel",
          "state": {
            "_view_name": "HTMLView",
            "style": "IPY_MODEL_d8b566cb51524d4d804ee30fc4aa7b1f",
            "_dom_classes": [],
            "description": "",
            "_model_name": "HTMLModel",
            "placeholder": "​",
            "_view_module": "@jupyter-widgets/controls",
            "_model_module_version": "1.5.0",
            "value": " 412M/412M [00:16&lt;00:00, 24.5MB/s]",
            "_view_count": null,
            "_view_module_version": "1.5.0",
            "description_tooltip": null,
            "_model_module": "@jupyter-widgets/controls",
            "layout": "IPY_MODEL_ece7e880ecc049af8d7212f4012dd762"
          }
        },
        "dd39b0f45179482eaafbc4a69618c087": {
          "model_module": "@jupyter-widgets/controls",
          "model_name": "ProgressStyleModel",
          "state": {
            "_view_name": "StyleView",
            "_model_name": "ProgressStyleModel",
            "description_width": "initial",
            "_view_module": "@jupyter-widgets/base",
            "_model_module_version": "1.5.0",
            "_view_count": null,
            "_view_module_version": "1.2.0",
            "bar_color": null,
            "_model_module": "@jupyter-widgets/controls"
          }
        },
        "4fa848c4d2634196a9ecef8b04414c9a": {
          "model_module": "@jupyter-widgets/base",
          "model_name": "LayoutModel",
          "state": {
            "_view_name": "LayoutView",
            "grid_template_rows": null,
            "right": null,
            "justify_content": null,
            "_view_module": "@jupyter-widgets/base",
            "overflow": null,
            "_model_module_version": "1.2.0",
            "_view_count": null,
            "flex_flow": null,
            "width": null,
            "min_width": null,
            "border": null,
            "align_items": null,
            "bottom": null,
            "_model_module": "@jupyter-widgets/base",
            "top": null,
            "grid_column": null,
            "overflow_y": null,
            "overflow_x": null,
            "grid_auto_flow": null,
            "grid_area": null,
            "grid_template_columns": null,
            "flex": null,
            "_model_name": "LayoutModel",
            "justify_items": null,
            "grid_row": null,
            "max_height": null,
            "align_content": null,
            "visibility": null,
            "align_self": null,
            "height": null,
            "min_height": null,
            "padding": null,
            "grid_auto_rows": null,
            "grid_gap": null,
            "max_width": null,
            "order": null,
            "_view_module_version": "1.2.0",
            "grid_template_areas": null,
            "object_position": null,
            "object_fit": null,
            "grid_auto_columns": null,
            "margin": null,
            "display": null,
            "left": null
          }
        },
        "d8b566cb51524d4d804ee30fc4aa7b1f": {
          "model_module": "@jupyter-widgets/controls",
          "model_name": "DescriptionStyleModel",
          "state": {
            "_view_name": "StyleView",
            "_model_name": "DescriptionStyleModel",
            "description_width": "",
            "_view_module": "@jupyter-widgets/base",
            "_model_module_version": "1.5.0",
            "_view_count": null,
            "_view_module_version": "1.2.0",
            "_model_module": "@jupyter-widgets/controls"
          }
        },
        "ece7e880ecc049af8d7212f4012dd762": {
          "model_module": "@jupyter-widgets/base",
          "model_name": "LayoutModel",
          "state": {
            "_view_name": "LayoutView",
            "grid_template_rows": null,
            "right": null,
            "justify_content": null,
            "_view_module": "@jupyter-widgets/base",
            "overflow": null,
            "_model_module_version": "1.2.0",
            "_view_count": null,
            "flex_flow": null,
            "width": null,
            "min_width": null,
            "border": null,
            "align_items": null,
            "bottom": null,
            "_model_module": "@jupyter-widgets/base",
            "top": null,
            "grid_column": null,
            "overflow_y": null,
            "overflow_x": null,
            "grid_auto_flow": null,
            "grid_area": null,
            "grid_template_columns": null,
            "flex": null,
            "_model_name": "LayoutModel",
            "justify_items": null,
            "grid_row": null,
            "max_height": null,
            "align_content": null,
            "visibility": null,
            "align_self": null,
            "height": null,
            "min_height": null,
            "padding": null,
            "grid_auto_rows": null,
            "grid_gap": null,
            "max_width": null,
            "order": null,
            "_view_module_version": "1.2.0",
            "grid_template_areas": null,
            "object_position": null,
            "object_fit": null,
            "grid_auto_columns": null,
            "margin": null,
            "display": null,
            "left": null
          }
        }
      }
    }
  },
  "cells": [
    {
      "cell_type": "markdown",
      "metadata": {
        "id": "6TH6ssGOezLy"
      },
      "source": [
        "# 数据预处理"
      ]
    },
    {
      "cell_type": "code",
      "metadata": {
        "colab": {
          "base_uri": "https://localhost:8080/"
        },
        "id": "FaMbqh3yfEDk",
        "outputId": "dad35876-52b3-437a-a778-2b3301ab48b1"
      },
      "source": [
        "from google.colab import drive\r\n",
        "drive.mount('/content/drive')"
      ],
      "execution_count": null,
      "outputs": [
        {
          "output_type": "stream",
          "text": [
            "Mounted at /content/drive\n"
          ],
          "name": "stdout"
        }
      ]
    },
    {
      "cell_type": "code",
      "metadata": {
        "id": "wklPk1JSezLz"
      },
      "source": [
        "import json\n",
        "import pandas as pd"
      ],
      "execution_count": null,
      "outputs": []
    },
    {
      "cell_type": "code",
      "metadata": {
        "colab": {
          "base_uri": "https://localhost:8080/"
        },
        "id": "AalDo7NYezLz",
        "outputId": "c8abcbb3-31ed-4953-f661-ae4adefe877b"
      },
      "source": [
        "with open('/content/drive/MyDrive/data/haihua/train.json','r',encoding='utf-8')as f: #读入json文件\n",
        "    train_data = json.load(f)\n",
        "    \n",
        "train_df = []\n",
        "\n",
        "for i in range(len(train_data)): #将每个文章-问题-答案作为一条数据\n",
        "    data = train_data[i]\n",
        "    content = data['Content']\n",
        "    questions = data['Questions']\n",
        "    for question in questions:\n",
        "        question['Content'] = content\n",
        "        train_df.append(question)\n",
        "        \n",
        "train_df[0]"
      ],
      "execution_count": null,
      "outputs": [
        {
          "output_type": "execute_result",
          "data": {
            "text/plain": [
              "{'Answer': 'A',\n",
              " 'Choices': ['A．作者写作此诗之时，皮日休正患病居家，闭门谢客，与外界不通音讯。',\n",
              "  'B．由于友人患病，原有的约会被暂时搁置，作者游春的诗篇也未能写出。',\n",
              "  'C．作者虽然身在书斋从事教学，但心中盼望能走进自然，领略美好春光。',\n",
              "  'D．尾联使用了关于沈约的典故，可以由此推测皮日休所患的疾病是目疾。'],\n",
              " 'Content': '奉和袭美抱疾杜门见寄次韵  陆龟蒙虽失春城醉上期，下帷裁遍未裁诗。因吟郢岸百亩蕙，欲采商崖三秀芝。栖野鹤笼宽使织，施山僧饭别教炊。但医沈约重瞳健，不怕江花不满枝。',\n",
              " 'Q_id': '000101',\n",
              " 'Question': '下列对这首诗的理解和赏析，不正确的一项是'}"
            ]
          },
          "metadata": {
            "tags": []
          },
          "execution_count": 3
        }
      ]
    },
    {
      "cell_type": "code",
      "metadata": {
        "colab": {
          "base_uri": "https://localhost:8080/",
          "height": 629
        },
        "id": "7FaveQmZezL0",
        "outputId": "2b451286-9d77-477e-aa90-a4c5a75d2d27"
      },
      "source": [
        "train_df =  pd.DataFrame(train_df) #转换成csv表格更好看一点\n",
        "\n",
        "train_df.head()"
      ],
      "execution_count": null,
      "outputs": [
        {
          "output_type": "execute_result",
          "data": {
            "text/html": [
              "<div>\n",
              "<style scoped>\n",
              "    .dataframe tbody tr th:only-of-type {\n",
              "        vertical-align: middle;\n",
              "    }\n",
              "\n",
              "    .dataframe tbody tr th {\n",
              "        vertical-align: top;\n",
              "    }\n",
              "\n",
              "    .dataframe thead th {\n",
              "        text-align: right;\n",
              "    }\n",
              "</style>\n",
              "<table border=\"1\" class=\"dataframe\">\n",
              "  <thead>\n",
              "    <tr style=\"text-align: right;\">\n",
              "      <th></th>\n",
              "      <th>Question</th>\n",
              "      <th>Choices</th>\n",
              "      <th>Answer</th>\n",
              "      <th>Q_id</th>\n",
              "      <th>Content</th>\n",
              "    </tr>\n",
              "  </thead>\n",
              "  <tbody>\n",
              "    <tr>\n",
              "      <th>0</th>\n",
              "      <td>下列对这首诗的理解和赏析，不正确的一项是</td>\n",
              "      <td>[A．作者写作此诗之时，皮日休正患病居家，闭门谢客，与外界不通音讯。, B．由于友人患病，原...</td>\n",
              "      <td>A</td>\n",
              "      <td>000101</td>\n",
              "      <td>奉和袭美抱疾杜门见寄次韵  陆龟蒙虽失春城醉上期，下帷裁遍未裁诗。因吟郢岸百亩蕙，欲采商崖三...</td>\n",
              "    </tr>\n",
              "    <tr>\n",
              "      <th>1</th>\n",
              "      <td>1. 文中“肆虐”“凋凌”“昼夜兼程”“版图”“稚嫩”“嫣然”“抱憾退出”的词语中，有错别字...</td>\n",
              "      <td>[A. 肆虐  凋凌, B. 集结  昼夜兼程, C. 版图  稚嫩, D. 嫣然  抱憾退出]</td>\n",
              "      <td>A</td>\n",
              "      <td>000201</td>\n",
              "      <td>隆冬之际，西伯利亚的寒流（笼罩/席卷）欧亚大陆，狂风肆虐，草木凋凌，而那些春天的元素——温暖...</td>\n",
              "    </tr>\n",
              "    <tr>\n",
              "      <th>2</th>\n",
              "      <td>依次选用文中括号里的词语，最恰当的一项是</td>\n",
              "      <td>[A. 席卷  系  扩展, B. 笼罩  停  扩展, C. 席卷  停  扩充, D. ...</td>\n",
              "      <td>A</td>\n",
              "      <td>000202</td>\n",
              "      <td>隆冬之际，西伯利亚的寒流（笼罩/席卷）欧亚大陆，狂风肆虐，草木凋凌，而那些春天的元素——温暖...</td>\n",
              "    </tr>\n",
              "    <tr>\n",
              "      <th>3</th>\n",
              "      <td>下列对材料相关内容的理解，不正确的一项是</td>\n",
              "      <td>[A.量子通信把量子物理与信息技术结合起来，利用量子调控技术对信息进行编码、存储、传输和操纵...</td>\n",
              "      <td>D</td>\n",
              "      <td>000301</td>\n",
              "      <td>材料一：日前，中国科学院在京召开新闻发布会对外宣布“墨子号”进行科学实验卫星提前并圆满实现全...</td>\n",
              "    </tr>\n",
              "    <tr>\n",
              "      <th>4</th>\n",
              "      <td>下列对材料相关内容的概括和分析，不正确的一项是</td>\n",
              "      <td>[A.利用“墨子号”科学实验卫星研究量子密钥发布和量子隐形形态的量子通信技术，对国家信息安全...</td>\n",
              "      <td>C</td>\n",
              "      <td>000302</td>\n",
              "      <td>材料一：日前，中国科学院在京召开新闻发布会对外宣布“墨子号”进行科学实验卫星提前并圆满实现全...</td>\n",
              "    </tr>\n",
              "  </tbody>\n",
              "</table>\n",
              "</div>"
            ],
            "text/plain": [
              "                                            Question  ...                                            Content\n",
              "0                               下列对这首诗的理解和赏析，不正确的一项是  ...  奉和袭美抱疾杜门见寄次韵  陆龟蒙虽失春城醉上期，下帷裁遍未裁诗。因吟郢岸百亩蕙，欲采商崖三...\n",
              "1  1. 文中“肆虐”“凋凌”“昼夜兼程”“版图”“稚嫩”“嫣然”“抱憾退出”的词语中，有错别字...  ...  隆冬之际，西伯利亚的寒流（笼罩/席卷）欧亚大陆，狂风肆虐，草木凋凌，而那些春天的元素——温暖...\n",
              "2                               依次选用文中括号里的词语，最恰当的一项是  ...  隆冬之际，西伯利亚的寒流（笼罩/席卷）欧亚大陆，狂风肆虐，草木凋凌，而那些春天的元素——温暖...\n",
              "3                               下列对材料相关内容的理解，不正确的一项是  ...  材料一：日前，中国科学院在京召开新闻发布会对外宣布“墨子号”进行科学实验卫星提前并圆满实现全...\n",
              "4                            下列对材料相关内容的概括和分析，不正确的一项是  ...  材料一：日前，中国科学院在京召开新闻发布会对外宣布“墨子号”进行科学实验卫星提前并圆满实现全...\n",
              "\n",
              "[5 rows x 5 columns]"
            ]
          },
          "metadata": {
            "tags": []
          },
          "execution_count": 4
        }
      ]
    },
    {
      "cell_type": "code",
      "metadata": {
        "colab": {
          "base_uri": "https://localhost:8080/",
          "height": 629
        },
        "id": "q7JQB3NLezL0",
        "outputId": "d1deb8eb-8465-49d3-b7bc-7195c6dea9ff"
      },
      "source": [
        "with open('/content/drive/MyDrive/data/haihua/validation.json','r',encoding='utf-8')as f:\n",
        "    test_data = json.load(f)\n",
        "    \n",
        "test_df = []\n",
        "\n",
        "for i in range(len(test_data)):\n",
        "    data = test_data[i]\n",
        "    content = data['Content']\n",
        "    questions = data['Questions']\n",
        "    cls = data['Type']\n",
        "    diff = data['Diff']\n",
        "    for question in questions:\n",
        "        question['Content'] = content\n",
        "        question['Type'] = cls\n",
        "        question['Diff'] = diff\n",
        "        test_df.append(question)\n",
        "        \n",
        "test_df =  pd.DataFrame(test_df)\n",
        "test_df.head()"
      ],
      "execution_count": null,
      "outputs": [
        {
          "output_type": "execute_result",
          "data": {
            "text/html": [
              "<div>\n",
              "<style scoped>\n",
              "    .dataframe tbody tr th:only-of-type {\n",
              "        vertical-align: middle;\n",
              "    }\n",
              "\n",
              "    .dataframe tbody tr th {\n",
              "        vertical-align: top;\n",
              "    }\n",
              "\n",
              "    .dataframe thead th {\n",
              "        text-align: right;\n",
              "    }\n",
              "</style>\n",
              "<table border=\"1\" class=\"dataframe\">\n",
              "  <thead>\n",
              "    <tr style=\"text-align: right;\">\n",
              "      <th></th>\n",
              "      <th>Question</th>\n",
              "      <th>Choices</th>\n",
              "      <th>Q_id</th>\n",
              "      <th>Content</th>\n",
              "      <th>Type</th>\n",
              "      <th>Diff</th>\n",
              "    </tr>\n",
              "  </thead>\n",
              "  <tbody>\n",
              "    <tr>\n",
              "      <th>0</th>\n",
              "      <td>文中“自是豪强屏息”中“屏”的意思是</td>\n",
              "      <td>[A、屏住呼吸, B、收敛行迹, C、退避迁徙, D、抑止打压]</td>\n",
              "      <td>000101</td>\n",
              "      <td>周鼎传①公讳鼎，字实甫，自为童子时即以言动自持，趋立多中礼。早岁善属文，补邑诸生，坚意嗜读，...</td>\n",
              "      <td>11</td>\n",
              "      <td>1</td>\n",
              "    </tr>\n",
              "    <tr>\n",
              "      <th>1</th>\n",
              "      <td>文中“多意沮而寝”中“寝”的意思是</td>\n",
              "      <td>[A、睡觉, B、丑陋, C、隐蔽, D、停止]</td>\n",
              "      <td>000102</td>\n",
              "      <td>周鼎传①公讳鼎，字实甫，自为童子时即以言动自持，趋立多中礼。早岁善属文，补邑诸生，坚意嗜读，...</td>\n",
              "      <td>11</td>\n",
              "      <td>1</td>\n",
              "    </tr>\n",
              "    <tr>\n",
              "      <th>2</th>\n",
              "      <td>第④段断句正确的一项是</td>\n",
              "      <td>[A、立捕两奴/及舟械至奴/犹称相国/从者意不下。, B、立捕两奴/及舟/械至奴/犹称相国/...</td>\n",
              "      <td>000103</td>\n",
              "      <td>周鼎传①公讳鼎，字实甫，自为童子时即以言动自持，趋立多中礼。早岁善属文，补邑诸生，坚意嗜读，...</td>\n",
              "      <td>11</td>\n",
              "      <td>1</td>\n",
              "    </tr>\n",
              "    <tr>\n",
              "      <th>3</th>\n",
              "      <td>下列对文中\"三年权知礼部贡举会大雪苦寒士坐庭中噤未能言轼宽其禁约使得尽技巡铺内侍每摧辱举子且...</td>\n",
              "      <td>[A．三年/权知礼部贡举/会大雪苦寒/士坐庭中/噤未能言/轼宽其禁约/使得尽技/巡辅内侍每摧...</td>\n",
              "      <td>000201</td>\n",
              "      <td>苏轼字子瞻，眉州眉山人。母程氏亲授以书，闻古今成败，辄能语其要。嘉佑二年，试礼部，主司欧阳修...</td>\n",
              "      <td>11</td>\n",
              "      <td>6</td>\n",
              "    </tr>\n",
              "    <tr>\n",
              "      <th>4</th>\n",
              "      <td>下列对原文有关内容的概括和分析，不正确的一项是</td>\n",
              "      <td>[A．苏轼自幼聪颖，深受时贤赏识。母亲亲自为他授课，他往往能说出要点。欧阳修十分看重他，曾对...</td>\n",
              "      <td>000202</td>\n",
              "      <td>苏轼字子瞻，眉州眉山人。母程氏亲授以书，闻古今成败，辄能语其要。嘉佑二年，试礼部，主司欧阳修...</td>\n",
              "      <td>11</td>\n",
              "      <td>6</td>\n",
              "    </tr>\n",
              "  </tbody>\n",
              "</table>\n",
              "</div>"
            ],
            "text/plain": [
              "                                            Question  ... Diff\n",
              "0                                 文中“自是豪强屏息”中“屏”的意思是  ...    1\n",
              "1                                  文中“多意沮而寝”中“寝”的意思是  ...    1\n",
              "2                                        第④段断句正确的一项是  ...    1\n",
              "3  下列对文中\"三年权知礼部贡举会大雪苦寒士坐庭中噤未能言轼宽其禁约使得尽技巡铺内侍每摧辱举子且...  ...    6\n",
              "4                            下列对原文有关内容的概括和分析，不正确的一项是  ...    6\n",
              "\n",
              "[5 rows x 6 columns]"
            ]
          },
          "metadata": {
            "tags": []
          },
          "execution_count": 5
        }
      ]
    },
    {
      "cell_type": "code",
      "metadata": {
        "id": "-ZECRs18ezL1"
      },
      "source": [
        "train_df.to_csv('/content/drive/MyDrive/data/haihua/tmp/train.csv',index=False)\n",
        "test_df.to_csv('/content/drive/MyDrive/data/haihua/tmp/test.csv',index=False)"
      ],
      "execution_count": null,
      "outputs": []
    },
    {
      "cell_type": "markdown",
      "metadata": {
        "id": "5pwnAWBbezL1"
      },
      "source": [
        "# 数据分析"
      ]
    },
    {
      "cell_type": "code",
      "metadata": {
        "id": "lpvRIjbGezL2"
      },
      "source": [
        "import numpy as np\n",
        "import matplotlib.pyplot as plt"
      ],
      "execution_count": null,
      "outputs": []
    },
    {
      "cell_type": "code",
      "metadata": {
        "id": "EwQzTEjcezL2",
        "colab": {
          "base_uri": "https://localhost:8080/"
        },
        "outputId": "b478a353-0f40-4dce-b655-b203906edcc6"
      },
      "source": [
        "train_df['content_len'] = train_df['Content'].apply(len) #统计content文本长度\n",
        "test_df['content_len'] = test_df['Content'].apply(len)\n",
        "\n",
        "print(train_df.content_len.describe())\n",
        "print(test_df.content_len.describe())"
      ],
      "execution_count": null,
      "outputs": [
        {
          "output_type": "stream",
          "text": [
            "count    15425.000000\n",
            "mean      1039.678768\n",
            "std        435.579691\n",
            "min         38.000000\n",
            "25%        744.000000\n",
            "50%       1067.000000\n",
            "75%       1251.000000\n",
            "max       3047.000000\n",
            "Name: content_len, dtype: float64\n",
            "count    2444.000000\n",
            "mean     1054.175941\n",
            "std       438.861006\n",
            "min        52.000000\n",
            "25%       758.000000\n",
            "50%      1067.000000\n",
            "75%      1262.000000\n",
            "max      4640.000000\n",
            "Name: content_len, dtype: float64\n"
          ],
          "name": "stdout"
        }
      ]
    },
    {
      "cell_type": "code",
      "metadata": {
        "id": "iNFvdNJsezL2",
        "colab": {
          "base_uri": "https://localhost:8080/",
          "height": 281
        },
        "outputId": "8aed67a2-57ba-4e06-af32-50055aa8be78"
      },
      "source": [
        "plt.title('content_length') #content非常长，绝大部分都远大于512\n",
        "plt.plot(sorted(train_df.content_len))\n",
        "plt.show()"
      ],
      "execution_count": null,
      "outputs": [
        {
          "output_type": "display_data",
          "data": {
            "image/png": "[encoded data removed]",
            "text/plain": [
              "<Figure size 432x288 with 1 Axes>"
            ]
          },
          "metadata": {
            "tags": [],
            "needs_background": "light"
          }
        }
      ]
    },
    {
      "cell_type": "code",
      "metadata": {
        "id": "co66YcjeezL3",
        "colab": {
          "base_uri": "https://localhost:8080/",
          "height": 279
        },
        "outputId": "f6c391a2-c333-4072-c2af-51f487f4e5da"
      },
      "source": [
        "plt.title('answer') #答案个数，C最多\n",
        "train_df.Answer.value_counts().plot.bar()\n",
        "plt.show()"
      ],
      "execution_count": null,
      "outputs": [
        {
          "output_type": "display_data",
          "data": {
            "image/png": "[encoded data removed]",
            "text/plain": [
              "<Figure size 432x288 with 1 Axes>"
            ]
          },
          "metadata": {
            "tags": [],
            "needs_background": "light"
          }
        }
      ]
    },
    {
      "cell_type": "code",
      "metadata": {
        "id": "fb77khVZezL3",
        "colab": {
          "base_uri": "https://localhost:8080/"
        },
        "outputId": "68dce653-ff35-480d-a2bf-0191a3c0a423"
      },
      "source": [
        "train_df['num_choices'] = train_df.Choices.apply(lambda x:len(x)) #绝大多数是四个选项\n",
        "train_df['num_choices'].value_counts()"
      ],
      "execution_count": null,
      "outputs": [
        {
          "output_type": "execute_result",
          "data": {
            "text/plain": [
              "4    15329\n",
              "3       71\n",
              "2       25\n",
              "Name: num_choices, dtype: int64"
            ]
          },
          "metadata": {
            "tags": []
          },
          "execution_count": 11
        }
      ]
    },
    {
      "cell_type": "markdown",
      "metadata": {
        "id": "uJOgbMfLezL3"
      },
      "source": [
        "# 代码部分"
      ]
    },
    {
      "cell_type": "code",
      "metadata": {
        "id": "NSGhh8t9ezL4",
        "colab": {
          "base_uri": "https://localhost:8080/"
        },
        "outputId": "9538abae-d76b-4f95-999e-0942a8289199"
      },
      "source": [
        "import json \n",
        "import pandas as pd\n",
        "import numpy as np\n",
        "import torch\n",
        "import torch.nn as nn\n",
        "import torch.nn.functional as F\n",
        "from torch.utils.data import Dataset, DataLoader\n",
        "from torch.cuda.amp import autocast, GradScaler\n",
        "from tqdm import tqdm\n",
        "import random\n",
        "import os\n",
        "import time\n",
        "from sklearn.model_selection import *\n",
        "!pip install transformers\n",
        "from transformers import *"
      ],
      "execution_count": null,
      "outputs": [
        {
          "output_type": "stream",
          "text": [
            "Collecting transformers\n",
            "\u001b[?25l  Downloading https://files.pythonhosted.org/packages/f9/54/5ca07ec9569d2f232f3166de5457b63943882f7950ddfcc887732fc7fb23/transformers-4.3.3-py3-none-any.whl (1.9MB)\n",
            "\r\u001b[K     |▏                               | 10kB 19.2MB/s eta 0:00:01\r\u001b[K     |▍                               | 20kB 27.0MB/s eta 0:00:01\r\u001b[K     |▌                               | 30kB 31.5MB/s eta 0:00:01\r\u001b[K     |▊                               | 40kB 22.8MB/s eta 0:00:01\r\u001b[K     |▉                               | 51kB 16.7MB/s eta 0:00:01\r\u001b[K     |█                               | 61kB 15.4MB/s eta 0:00:01\r\u001b[K     |█▏                              | 71kB 12.9MB/s eta 0:00:01\r\u001b[K     |█▍                              | 81kB 13.5MB/s eta 0:00:01\r\u001b[K     |█▌                              | 92kB 13.3MB/s eta 0:00:01\r\u001b[K     |█▊                              | 102kB 12.3MB/s eta 0:00:01\r\u001b[K     |██                              | 112kB 12.3MB/s eta 0:00:01\r\u001b[K     |██                              | 122kB 12.3MB/s eta 0:00:01\r\u001b[K     |██▎                             | 133kB 12.3MB/s eta 0:00:01\r\u001b[K     |██▍                             | 143kB 12.3MB/s eta 0:00:01\r\u001b[K     |██▋                             | 153kB 12.3MB/s eta 0:00:01\r\u001b[K     |██▊                             | 163kB 12.3MB/s eta 0:00:01\r\u001b[K     |███                             | 174kB 12.3MB/s eta 0:00:01\r\u001b[K     |███                             | 184kB 12.3MB/s eta 0:00:01\r\u001b[K     |███▎                            | 194kB 12.3MB/s eta 0:00:01\r\u001b[K     |███▌                            | 204kB 12.3MB/s eta 0:00:01\r\u001b[K     |███▋                            | 215kB 12.3MB/s eta 0:00:01\r\u001b[K     |███▉                            | 225kB 12.3MB/s eta 0:00:01\r\u001b[K     |████                            | 235kB 12.3MB/s eta 0:00:01\r\u001b[K     |████▏                           | 245kB 12.3MB/s eta 0:00:01\r\u001b[K     |████▎                           | 256kB 12.3MB/s eta 0:00:01\r\u001b[K     |████▌                           | 266kB 12.3MB/s eta 0:00:01\r\u001b[K     |████▋                           | 276kB 12.3MB/s eta 0:00:01\r\u001b[K     |████▉                           | 286kB 12.3MB/s eta 0:00:01\r\u001b[K     |█████                           | 296kB 12.3MB/s eta 0:00:01\r\u001b[K     |█████▏                          | 307kB 12.3MB/s eta 0:00:01\r\u001b[K     |█████▍                          | 317kB 12.3MB/s eta 0:00:01\r\u001b[K     |█████▌                          | 327kB 12.3MB/s eta 0:00:01\r\u001b[K     |█████▊                          | 337kB 12.3MB/s eta 0:00:01\r\u001b[K     |█████▉                          | 348kB 12.3MB/s eta 0:00:01\r\u001b[K     |██████                          | 358kB 12.3MB/s eta 0:00:01\r\u001b[K     |██████▏                         | 368kB 12.3MB/s eta 0:00:01\r\u001b[K     |██████▍                         | 378kB 12.3MB/s eta 0:00:01\r\u001b[K     |██████▋                         | 389kB 12.3MB/s eta 0:00:01\r\u001b[K     |██████▊                         | 399kB 12.3MB/s eta 0:00:01\r\u001b[K     |███████                         | 409kB 12.3MB/s eta 0:00:01\r\u001b[K     |███████                         | 419kB 12.3MB/s eta 0:00:01\r\u001b[K     |███████▎                        | 430kB 12.3MB/s eta 0:00:01\r\u001b[K     |███████▍                        | 440kB 12.3MB/s eta 0:00:01\r\u001b[K     |███████▋                        | 450kB 12.3MB/s eta 0:00:01\r\u001b[K     |███████▊                        | 460kB 12.3MB/s eta 0:00:01\r\u001b[K     |████████                        | 471kB 12.3MB/s eta 0:00:01\r\u001b[K     |████████▏                       | 481kB 12.3MB/s eta 0:00:01\r\u001b[K     |████████▎                       | 491kB 12.3MB/s eta 0:00:01\r\u001b[K     |████████▌                       | 501kB 12.3MB/s eta 0:00:01\r\u001b[K     |████████▋                       | 512kB 12.3MB/s eta 0:00:01\r\u001b[K     |████████▉                       | 522kB 12.3MB/s eta 0:00:01\r\u001b[K     |█████████                       | 532kB 12.3MB/s eta 0:00:01\r\u001b[K     |█████████▏                      | 542kB 12.3MB/s eta 0:00:01\r\u001b[K     |█████████▎                      | 552kB 12.3MB/s eta 0:00:01\r\u001b[K     |█████████▌                      | 563kB 12.3MB/s eta 0:00:01\r\u001b[K     |█████████▊                      | 573kB 12.3MB/s eta 0:00:01\r\u001b[K     |█████████▉                      | 583kB 12.3MB/s eta 0:00:01\r\u001b[K     |██████████                      | 593kB 12.3MB/s eta 0:00:01\r\u001b[K     |██████████▏                     | 604kB 12.3MB/s eta 0:00:01\r\u001b[K     |██████████▍                     | 614kB 12.3MB/s eta 0:00:01\r\u001b[K     |██████████▌                     | 624kB 12.3MB/s eta 0:00:01\r\u001b[K     |██████████▊                     | 634kB 12.3MB/s eta 0:00:01\r\u001b[K     |██████████▉                     | 645kB 12.3MB/s eta 0:00:01\r\u001b[K     |███████████                     | 655kB 12.3MB/s eta 0:00:01\r\u001b[K     |███████████▎                    | 665kB 12.3MB/s eta 0:00:01\r\u001b[K     |███████████▍                    | 675kB 12.3MB/s eta 0:00:01\r\u001b[K     |███████████▋                    | 686kB 12.3MB/s eta 0:00:01\r\u001b[K     |███████████▊                    | 696kB 12.3MB/s eta 0:00:01\r\u001b[K     |████████████                    | 706kB 12.3MB/s eta 0:00:01\r\u001b[K     |████████████                    | 716kB 12.3MB/s eta 0:00:01\r\u001b[K     |████████████▎                   | 727kB 12.3MB/s eta 0:00:01\r\u001b[K     |████████████▍                   | 737kB 12.3MB/s eta 0:00:01\r\u001b[K     |████████████▋                   | 747kB 12.3MB/s eta 0:00:01\r\u001b[K     |████████████▉                   | 757kB 12.3MB/s eta 0:00:01\r\u001b[K     |█████████████                   | 768kB 12.3MB/s eta 0:00:01\r\u001b[K     |█████████████▏                  | 778kB 12.3MB/s eta 0:00:01\r\u001b[K     |█████████████▎                  | 788kB 12.3MB/s eta 0:00:01\r\u001b[K     |█████████████▌                  | 798kB 12.3MB/s eta 0:00:01\r\u001b[K     |█████████████▋                  | 808kB 12.3MB/s eta 0:00:01\r\u001b[K     |█████████████▉                  | 819kB 12.3MB/s eta 0:00:01\r\u001b[K     |██████████████                  | 829kB 12.3MB/s eta 0:00:01\r\u001b[K     |██████████████▏                 | 839kB 12.3MB/s eta 0:00:01\r\u001b[K     |██████████████▍                 | 849kB 12.3MB/s eta 0:00:01\r\u001b[K     |██████████████▌                 | 860kB 12.3MB/s eta 0:00:01\r\u001b[K     |██████████████▊                 | 870kB 12.3MB/s eta 0:00:01\r\u001b[K     |██████████████▉                 | 880kB 12.3MB/s eta 0:00:01\r\u001b[K     |███████████████                 | 890kB 12.3MB/s eta 0:00:01\r\u001b[K     |███████████████▏                | 901kB 12.3MB/s eta 0:00:01\r\u001b[K     |███████████████▍                | 911kB 12.3MB/s eta 0:00:01\r\u001b[K     |███████████████▌                | 921kB 12.3MB/s eta 0:00:01\r\u001b[K     |███████████████▊                | 931kB 12.3MB/s eta 0:00:01\r\u001b[K     |████████████████                | 942kB 12.3MB/s eta 0:00:01\r\u001b[K     |████████████████                | 952kB 12.3MB/s eta 0:00:01\r\u001b[K     |████████████████▎               | 962kB 12.3MB/s eta 0:00:01\r\u001b[K     |████████████████▍               | 972kB 12.3MB/s eta 0:00:01\r\u001b[K     |████████████████▋               | 983kB 12.3MB/s eta 0:00:01\r\u001b[K     |████████████████▊               | 993kB 12.3MB/s eta 0:00:01\r\u001b[K     |█████████████████               | 1.0MB 12.3MB/s eta 0:00:01\r\u001b[K     |█████████████████               | 1.0MB 12.3MB/s eta 0:00:01\r\u001b[K     |█████████████████▎              | 1.0MB 12.3MB/s eta 0:00:01\r\u001b[K     |█████████████████▍              | 1.0MB 12.3MB/s eta 0:00:01\r\u001b[K     |█████████████████▋              | 1.0MB 12.3MB/s eta 0:00:01\r\u001b[K     |█████████████████▉              | 1.1MB 12.3MB/s eta 0:00:01\r\u001b[K     |██████████████████              | 1.1MB 12.3MB/s eta 0:00:01\r\u001b[K     |██████████████████▏             | 1.1MB 12.3MB/s eta 0:00:01\r\u001b[K     |██████████████████▎             | 1.1MB 12.3MB/s eta 0:00:01\r\u001b[K     |██████████████████▌             | 1.1MB 12.3MB/s eta 0:00:01\r\u001b[K     |██████████████████▋             | 1.1MB 12.3MB/s eta 0:00:01\r\u001b[K     |██████████████████▉             | 1.1MB 12.3MB/s eta 0:00:01\r\u001b[K     |███████████████████             | 1.1MB 12.3MB/s eta 0:00:01\r\u001b[K     |███████████████████▏            | 1.1MB 12.3MB/s eta 0:00:01\r\u001b[K     |███████████████████▍            | 1.1MB 12.3MB/s eta 0:00:01\r\u001b[K     |███████████████████▌            | 1.2MB 12.3MB/s eta 0:00:01\r\u001b[K     |███████████████████▊            | 1.2MB 12.3MB/s eta 0:00:01\r\u001b[K     |███████████████████▉            | 1.2MB 12.3MB/s eta 0:00:01\r\u001b[K     |████████████████████            | 1.2MB 12.3MB/s eta 0:00:01\r\u001b[K     |████████████████████▏           | 1.2MB 12.3MB/s eta 0:00:01\r\u001b[K     |████████████████████▍           | 1.2MB 12.3MB/s eta 0:00:01\r\u001b[K     |████████████████████▌           | 1.2MB 12.3MB/s eta 0:00:01\r\u001b[K     |████████████████████▊           | 1.2MB 12.3MB/s eta 0:00:01\r\u001b[K     |█████████████████████           | 1.2MB 12.3MB/s eta 0:00:01\r\u001b[K     |█████████████████████           | 1.2MB 12.3MB/s eta 0:00:01\r\u001b[K     |█████████████████████▎          | 1.3MB 12.3MB/s eta 0:00:01\r\u001b[K     |█████████████████████▍          | 1.3MB 12.3MB/s eta 0:00:01\r\u001b[K     |█████████████████████▋          | 1.3MB 12.3MB/s eta 0:00:01\r\u001b[K     |█████████████████████▊          | 1.3MB 12.3MB/s eta 0:00:01\r\u001b[K     |██████████████████████          | 1.3MB 12.3MB/s eta 0:00:01\r\u001b[K     |██████████████████████          | 1.3MB 12.3MB/s eta 0:00:01\r\u001b[K     |██████████████████████▎         | 1.3MB 12.3MB/s eta 0:00:01\r\u001b[K     |██████████████████████▌         | 1.3MB 12.3MB/s eta 0:00:01\r\u001b[K     |██████████████████████▋         | 1.3MB 12.3MB/s eta 0:00:01\r\u001b[K     |██████████████████████▉         | 1.4MB 12.3MB/s eta 0:00:01\r\u001b[K     |███████████████████████         | 1.4MB 12.3MB/s eta 0:00:01\r\u001b[K     |███████████████████████▏        | 1.4MB 12.3MB/s eta 0:00:01\r\u001b[K     |███████████████████████▎        | 1.4MB 12.3MB/s eta 0:00:01\r\u001b[K     |███████████████████████▌        | 1.4MB 12.3MB/s eta 0:00:01\r\u001b[K     |███████████████████████▋        | 1.4MB 12.3MB/s eta 0:00:01\r\u001b[K     |███████████████████████▉        | 1.4MB 12.3MB/s eta 0:00:01\r\u001b[K     |████████████████████████        | 1.4MB 12.3MB/s eta 0:00:01\r\u001b[K     |████████████████████████▏       | 1.4MB 12.3MB/s eta 0:00:01\r\u001b[K     |████████████████████████▍       | 1.4MB 12.3MB/s eta 0:00:01\r\u001b[K     |████████████████████████▌       | 1.5MB 12.3MB/s eta 0:00:01\r\u001b[K     |████████████████████████▊       | 1.5MB 12.3MB/s eta 0:00:01\r\u001b[K     |████████████████████████▉       | 1.5MB 12.3MB/s eta 0:00:01\r\u001b[K     |█████████████████████████       | 1.5MB 12.3MB/s eta 0:00:01\r\u001b[K     |█████████████████████████▏      | 1.5MB 12.3MB/s eta 0:00:01\r\u001b[K     |█████████████████████████▍      | 1.5MB 12.3MB/s eta 0:00:01\r\u001b[K     |█████████████████████████▋      | 1.5MB 12.3MB/s eta 0:00:01\r\u001b[K     |█████████████████████████▊      | 1.5MB 12.3MB/s eta 0:00:01\r\u001b[K     |██████████████████████████      | 1.5MB 12.3MB/s eta 0:00:01\r\u001b[K     |██████████████████████████      | 1.5MB 12.3MB/s eta 0:00:01\r\u001b[K     |██████████████████████████▎     | 1.6MB 12.3MB/s eta 0:00:01\r\u001b[K     |██████████████████████████▍     | 1.6MB 12.3MB/s eta 0:00:01\r\u001b[K     |██████████████████████████▋     | 1.6MB 12.3MB/s eta 0:00:01\r\u001b[K     |██████████████████████████▊     | 1.6MB 12.3MB/s eta 0:00:01\r\u001b[K     |███████████████████████████     | 1.6MB 12.3MB/s eta 0:00:01\r\u001b[K     |███████████████████████████▏    | 1.6MB 12.3MB/s eta 0:00:01\r\u001b[K     |███████████████████████████▎    | 1.6MB 12.3MB/s eta 0:00:01\r\u001b[K     |███████████████████████████▌    | 1.6MB 12.3MB/s eta 0:00:01\r\u001b[K     |███████████████████████████▋    | 1.6MB 12.3MB/s eta 0:00:01\r\u001b[K     |███████████████████████████▉    | 1.6MB 12.3MB/s eta 0:00:01\r\u001b[K     |████████████████████████████    | 1.7MB 12.3MB/s eta 0:00:01\r\u001b[K     |████████████████████████████▏   | 1.7MB 12.3MB/s eta 0:00:01\r\u001b[K     |████████████████████████████▎   | 1.7MB 12.3MB/s eta 0:00:01\r\u001b[K     |████████████████████████████▌   | 1.7MB 12.3MB/s eta 0:00:01\r\u001b[K     |████████████████████████████▊   | 1.7MB 12.3MB/s eta 0:00:01\r\u001b[K     |████████████████████████████▉   | 1.7MB 12.3MB/s eta 0:00:01\r\u001b[K     |█████████████████████████████   | 1.7MB 12.3MB/s eta 0:00:01\r\u001b[K     |█████████████████████████████▏  | 1.7MB 12.3MB/s eta 0:00:01\r\u001b[K     |█████████████████████████████▍  | 1.7MB 12.3MB/s eta 0:00:01\r\u001b[K     |█████████████████████████████▌  | 1.8MB 12.3MB/s eta 0:00:01\r\u001b[K     |█████████████████████████████▊  | 1.8MB 12.3MB/s eta 0:00:01\r\u001b[K     |█████████████████████████████▉  | 1.8MB 12.3MB/s eta 0:00:01\r\u001b[K     |██████████████████████████████  | 1.8MB 12.3MB/s eta 0:00:01\r\u001b[K     |██████████████████████████████▎ | 1.8MB 12.3MB/s eta 0:00:01\r\u001b[K     |██████████████████████████████▍ | 1.8MB 12.3MB/s eta 0:00:01\r\u001b[K     |██████████████████████████████▋ | 1.8MB 12.3MB/s eta 0:00:01\r\u001b[K     |██████████████████████████████▊ | 1.8MB 12.3MB/s eta 0:00:01\r\u001b[K     |███████████████████████████████ | 1.8MB 12.3MB/s eta 0:00:01\r\u001b[K     |███████████████████████████████ | 1.8MB 12.3MB/s eta 0:00:01\r\u001b[K     |███████████████████████████████▎| 1.9MB 12.3MB/s eta 0:00:01\r\u001b[K     |███████████████████████████████▍| 1.9MB 12.3MB/s eta 0:00:01\r\u001b[K     |███████████████████████████████▋| 1.9MB 12.3MB/s eta 0:00:01\r\u001b[K     |███████████████████████████████▉| 1.9MB 12.3MB/s eta 0:00:01\r\u001b[K     |████████████████████████████████| 1.9MB 12.3MB/s eta 0:00:01\r\u001b[K     |████████████████████████████████| 1.9MB 12.3MB/s \n",
            "\u001b[?25hRequirement already satisfied: packaging in /usr/local/lib/python3.7/dist-packages (from transformers) (20.9)\n",
            "Requirement already satisfied: numpy>=1.17 in /usr/local/lib/python3.7/dist-packages (from transformers) (1.19.5)\n",
            "Requirement already satisfied: tqdm>=4.27 in /usr/local/lib/python3.7/dist-packages (from transformers) (4.41.1)\n",
            "Requirement already satisfied: requests in /usr/local/lib/python3.7/dist-packages (from transformers) (2.23.0)\n",
            "Requirement already satisfied: filelock in /usr/local/lib/python3.7/dist-packages (from transformers) (3.0.12)\n",
            "Requirement already satisfied: importlib-metadata; python_version < \"3.8\" in /usr/local/lib/python3.7/dist-packages (from transformers) (3.7.0)\n",
            "Collecting sacremoses\n",
            "\u001b[?25l  Downloading https://files.pythonhosted.org/packages/7d/34/09d19aff26edcc8eb2a01bed8e98f13a1537005d31e95233fd48216eed10/sacremoses-0.0.43.tar.gz (883kB)\n",
            "\u001b[K     |████████████████████████████████| 890kB 66.8MB/s \n",
            "\u001b[?25hCollecting tokenizers<0.11,>=0.10.1\n",
            "\u001b[?25l  Downloading https://files.pythonhosted.org/packages/71/23/2ddc317b2121117bf34dd00f5b0de194158f2a44ee2bf5e47c7166878a97/tokenizers-0.10.1-cp37-cp37m-manylinux2010_x86_64.whl (3.2MB)\n",
            "\u001b[K     |████████████████████████████████| 3.2MB 58.3MB/s \n",
            "\u001b[?25hRequirement already satisfied: regex!=2019.12.17 in /usr/local/lib/python3.7/dist-packages (from transformers) (2019.12.20)\n",
            "Requirement already satisfied: pyparsing>=2.0.2 in /usr/local/lib/python3.7/dist-packages (from packaging->transformers) (2.4.7)\n",
            "Requirement already satisfied: idna<3,>=2.5 in /usr/local/lib/python3.7/dist-packages (from requests->transformers) (2.10)\n",
            "Requirement already satisfied: urllib3!=1.25.0,!=1.25.1,<1.26,>=1.21.1 in /usr/local/lib/python3.7/dist-packages (from requests->transformers) (1.24.3)\n",
            "Requirement already satisfied: certifi>=2017.4.17 in /usr/local/lib/python3.7/dist-packages (from requests->transformers) (2020.12.5)\n",
            "Requirement already satisfied: chardet<4,>=3.0.2 in /usr/local/lib/python3.7/dist-packages (from requests->transformers) (3.0.4)\n",
            "Requirement already satisfied: zipp>=0.5 in /usr/local/lib/python3.7/dist-packages (from importlib-metadata; python_version < \"3.8\"->transformers) (3.4.0)\n",
            "Requirement already satisfied: typing-extensions>=3.6.4; python_version < \"3.8\" in /usr/local/lib/python3.7/dist-packages (from importlib-metadata; python_version < \"3.8\"->transformers) (3.7.4.3)\n",
            "Requirement already satisfied: six in /usr/local/lib/python3.7/dist-packages (from sacremoses->transformers) (1.15.0)\n",
            "Requirement already satisfied: click in /usr/local/lib/python3.7/dist-packages (from sacremoses->transformers) (7.1.2)\n",
            "Requirement already satisfied: joblib in /usr/local/lib/python3.7/dist-packages (from sacremoses->transformers) (1.0.1)\n",
            "Building wheels for collected packages: sacremoses\n",
            "  Building wheel for sacremoses (setup.py) ... \u001b[?25l\u001b[?25hdone\n",
            "  Created wheel for sacremoses: filename=sacremoses-0.0.43-cp37-none-any.whl size=893262 sha256=251b2fd8648bf3dd85401930cfbf683e84c35cfd32c1901a55203579ff138683\n",
            "  Stored in directory: /root/.cache/pip/wheels/29/3c/fd/7ce5c3f0666dab31a50123635e6fb5e19ceb42ce38d4e58f45\n",
            "Successfully built sacremoses\n",
            "Installing collected packages: sacremoses, tokenizers, transformers\n",
            "Successfully installed sacremoses-0.0.43 tokenizers-0.10.1 transformers-4.3.3\n"
          ],
          "name": "stdout"
        }
      ]
    },
    {
      "cell_type": "code",
      "metadata": {
        "id": "BPLUSSUQezL4"
      },
      "source": [
        "CFG = { #训练的参数配置\n",
        "    'fold_num': 3, #五折交叉验证\n",
        "    'seed': 42,\n",
        "    'model': 'hfl/chinese-bert-wwm-ext', #预训练模型\n",
        "    'max_len': 512, #文本截断的最大长度\n",
        "    'epochs': 8,\n",
        "    'train_bs': 4, #batch_size，可根据自己的显存调整\n",
        "    'valid_bs': 4,\n",
        "    'lr': 2e-5, #学习率\n",
        "    'num_workers': 16,\n",
        "    'accum_iter': 4, #梯度累积，相当于将batch_size*2\n",
        "    'weight_decay': 1e-4, #权重衰减，防止过拟合\n",
        "    'device': 0,\n",
        "}"
      ],
      "execution_count": null,
      "outputs": []
    },
    {
      "cell_type": "code",
      "metadata": {
        "id": "wCw8X-sNezL5"
      },
      "source": [
        "def seed_everything(seed):\n",
        "    random.seed(seed)\n",
        "    os.environ['PYTHONHASHSEED'] = str(seed)\n",
        "    np.random.seed(seed)\n",
        "    torch.manual_seed(seed)\n",
        "    torch.cuda.manual_seed(seed)\n",
        "    torch.cuda.manual_seed_all(seed)\n",
        "    torch.backends.cudnn.deterministic = True\n",
        "    torch.backends.cudnn.benchmark = False\n",
        "\n",
        "seed_everything(CFG['seed']) #固定随机种子\n",
        "\n",
        "torch.cuda.set_device(CFG['device'])\n",
        "device = torch.device('cuda' if torch.cuda.is_available() else 'cpu')"
      ],
      "execution_count": null,
      "outputs": []
    },
    {
      "cell_type": "code",
      "metadata": {
        "id": "q9-2aITAezL5"
      },
      "source": [
        "train_df =  pd.read_csv('/content/drive/MyDrive/data/haihua/tmp/train.csv')\n",
        "test_df =  pd.read_csv('/content/drive/MyDrive/data/haihua/tmp/test.csv')"
      ],
      "execution_count": null,
      "outputs": []
    },
    {
      "cell_type": "code",
      "metadata": {
        "id": "DSp4gr9sezL5"
      },
      "source": [
        "train_df['label'] = train_df['Answer'].apply(lambda x:['A','B','C','D'].index(x)) #将标签从ABCD转成0123\n",
        "test_df['label'] = 0"
      ],
      "execution_count": null,
      "outputs": []
    },
    {
      "cell_type": "code",
      "metadata": {
        "id": "kEGHUNHlezL6",
        "colab": {
          "base_uri": "https://localhost:8080/",
          "height": 267,
          "referenced_widgets": [
            "920e78725c624c8c8d7f8c39b750620f",
            "7450ca355397418d8ec7d05b231057c4",
            "20983a58327f4c3ebfe2d864a41d8c4d",
            "b37ff04de9d5417e83b4e623a191c2a6",
            "e2191a6911d1493ca102a7ec06eab1a1",
            "4af0dea1379d4f3b904101cbf1654a8a",
            "0c23802bb43548eeb459fae36f57a8ed",
            "b364ead544314132be3ce00934dc56bb",
            "9866078f1d7442edaa0bbc78faf6809d",
            "0328cbb81c6d482db39a7d2c07099e04",
            "54c5b04360bc447aa710896bba9097c9",
            "e15dc6adf43d448ab4555b68c6ff2ec1",
            "f206e679d3134107866e502e165d43a5",
            "e396a41cd5fe4b2aa18e4239e6e7bd6f",
            "4a8a76fc008d497ea61c6f512ff4bf9c",
            "42e0e55d6731457aa3c02f5fe029b742",
            "7312084dcc1b4ce89f1fb3cdc415ffd9",
            "a95f7fa279114de2b8dca34e0f0f5ab7",
            "7e4d2737895c4e1382a4049b03052811",
            "eee60c88808345a19a3ca00c780c0b6f",
            "2b5167ed2d7a495aa8eb6221dff38248",
            "862e94117ec0430c819bca391e440f8e",
            "2dfd40dc4dd24eafb42c378529710515",
            "d7751de101654010b36ac2f9f7b3d8c9",
            "4f530e42a090483894ab734df0610498",
            "983abbe0546046dfae1105c3a0d62ba2",
            "80e046065102478ab2857786ee83608f",
            "2860785211934175953c75ceaa3b071c",
            "a9f8d5ac9e114376bd8b4cc97600e8c3",
            "a6885785384e4d33bf7369bd3b6b8ab7",
            "49951210abd7493d845a5516fa1ad57a",
            "63a4cc7ac0f54682ae5accc553377e75",
            "925366b97b714c5cb8d8de1f8ac4efa4",
            "6e2e5215435a4421ba1ac0250fcdc098",
            "d3933afc826c404aa50d5b5988b66b59",
            "e92d8c7d68df4ac0a39f9f1814e38078",
            "5b1a32af7bfd4abc8231d69f7ff6e275",
            "3605b23a7d7e444891fe35f2f9cad050",
            "a00e6fb77a644517948a988a652e4c0a",
            "3a265c23ccf84d15a5c5103ac719a727"
          ]
        },
        "outputId": "e1f39f45-cff8-4fcd-d45d-42ffcc03d577"
      },
      "source": [
        "tokenizer = BertTokenizer.from_pretrained(CFG['model']) #加载bert的分词器"
      ],
      "execution_count": null,
      "outputs": [
        {
          "output_type": "display_data",
          "data": {
            "application/vnd.jupyter.widget-view+json": {
              "model_id": "920e78725c624c8c8d7f8c39b750620f",
              "version_minor": 0,
              "version_major": 2
            },
            "text/plain": [
              "HBox(children=(FloatProgress(value=0.0, description='Downloading', max=109540.0, style=ProgressStyle(descripti…"
            ]
          },
          "metadata": {
            "tags": []
          }
        },
        {
          "output_type": "stream",
          "text": [
            "\n"
          ],
          "name": "stdout"
        },
        {
          "output_type": "display_data",
          "data": {
            "application/vnd.jupyter.widget-view+json": {
              "model_id": "9866078f1d7442edaa0bbc78faf6809d",
              "version_minor": 0,
              "version_major": 2
            },
            "text/plain": [
              "HBox(children=(FloatProgress(value=0.0, description='Downloading', max=2.0, style=ProgressStyle(description_wi…"
            ]
          },
          "metadata": {
            "tags": []
          }
        },
        {
          "output_type": "stream",
          "text": [
            "\n"
          ],
          "name": "stdout"
        },
        {
          "output_type": "display_data",
          "data": {
            "application/vnd.jupyter.widget-view+json": {
              "model_id": "7312084dcc1b4ce89f1fb3cdc415ffd9",
              "version_minor": 0,
              "version_major": 2
            },
            "text/plain": [
              "HBox(children=(FloatProgress(value=0.0, description='Downloading', max=112.0, style=ProgressStyle(description_…"
            ]
          },
          "metadata": {
            "tags": []
          }
        },
        {
          "output_type": "stream",
          "text": [
            "\n"
          ],
          "name": "stdout"
        },
        {
          "output_type": "display_data",
          "data": {
            "application/vnd.jupyter.widget-view+json": {
              "model_id": "4f530e42a090483894ab734df0610498",
              "version_minor": 0,
              "version_major": 2
            },
            "text/plain": [
              "HBox(children=(FloatProgress(value=0.0, description='Downloading', max=19.0, style=ProgressStyle(description_w…"
            ]
          },
          "metadata": {
            "tags": []
          }
        },
        {
          "output_type": "stream",
          "text": [
            "\n"
          ],
          "name": "stdout"
        },
        {
          "output_type": "display_data",
          "data": {
            "application/vnd.jupyter.widget-view+json": {
              "model_id": "925366b97b714c5cb8d8de1f8ac4efa4",
              "version_minor": 0,
              "version_major": 2
            },
            "text/plain": [
              "HBox(children=(FloatProgress(value=0.0, description='Downloading', max=268961.0, style=ProgressStyle(descripti…"
            ]
          },
          "metadata": {
            "tags": []
          }
        },
        {
          "output_type": "stream",
          "text": [
            "\n"
          ],
          "name": "stdout"
        }
      ]
    },
    {
      "cell_type": "code",
      "metadata": {
        "id": "WmKQNE-GezL6"
      },
      "source": [
        "class MyDataset(Dataset):\n",
        "    def __init__(self, dataframe):\n",
        "        self.df = dataframe\n",
        "    \n",
        "    def __len__(self):\n",
        "        return len(self.df)\n",
        "    \n",
        "    def __getitem__(self, idx): #将一条数据从(文章,问题,4个选项)转成(文章,问题,选项1)、(文章,问题,选项2)...\n",
        "        label = self.df.label.values[idx]\n",
        "        question = self.df.Question.values[idx]\n",
        "        content = self.df.Content.values[idx]\n",
        "        choice = self.df.Choices.values[idx][2:-2].split('\\', \\'')\n",
        "        if len(choice) < 4: #如果选项不满四个，就补“不知道”\n",
        "            for i in range(4-len(choice)):\n",
        "                choice.append('D．不知道')\n",
        "        \n",
        "        content = [content for i in range(len(choice))]\n",
        "        pair = [question + ' ' + i[2:] for i in choice]\n",
        "        \n",
        "        return content, pair, label"
      ],
      "execution_count": null,
      "outputs": []
    },
    {
      "cell_type": "code",
      "metadata": {
        "id": "ks_C6ul6ezL6"
      },
      "source": [
        "def collate_fn(data): #将文章问题选项拼在一起后，得到分词后的数字id，输出的size是(batch, n_choices, max_len)\n",
        "    input_ids, attention_mask, token_type_ids = [], [], []\n",
        "    for x in data:\n",
        "        text = tokenizer(x[1], text_pair=x[0], padding='max_length', truncation=True, max_length=CFG['max_len'], return_tensors='pt')\n",
        "        input_ids.append(text['input_ids'].tolist())\n",
        "        attention_mask.append(text['attention_mask'].tolist())\n",
        "        token_type_ids.append(text['token_type_ids'].tolist())\n",
        "    input_ids = torch.tensor(input_ids)\n",
        "    attention_mask = torch.tensor(attention_mask)\n",
        "    token_type_ids = torch.tensor(token_type_ids)\n",
        "    label = torch.tensor([x[-1] for x in data])\n",
        "    return input_ids, attention_mask, token_type_ids, label"
      ],
      "execution_count": null,
      "outputs": []
    },
    {
      "cell_type": "code",
      "metadata": {
        "id": "pgfwQ0ieezL7"
      },
      "source": [
        "class AverageMeter: #为了tqdm实时显示loss和acc\n",
        "    def __init__(self):\n",
        "        self.reset()\n",
        "\n",
        "    def reset(self):\n",
        "        self.val = 0\n",
        "        self.avg = 0\n",
        "        self.sum = 0\n",
        "        self.count = 0\n",
        "\n",
        "    def update(self, val, n=1):\n",
        "        self.val = val\n",
        "        self.sum += val * n\n",
        "        self.count += n\n",
        "        self.avg = self.sum / self.count\n",
        "        \n",
        "        \n",
        "def train_model(model, train_loader): #训练一个epoch\n",
        "    model.train() \n",
        "    \n",
        "    losses = AverageMeter()\n",
        "    accs = AverageMeter()\n",
        "    \n",
        "    optimizer.zero_grad()\n",
        "    \n",
        "    tk = tqdm(train_loader, total=len(train_loader), position=0, leave=True)\n",
        "    \n",
        "    for step, (input_ids, attention_mask, token_type_ids, y) in enumerate(tk):\n",
        "        input_ids, attention_mask, token_type_ids, y = input_ids.to(device), attention_mask.to(device), token_type_ids.to(device), y.to(device).long()\n",
        "\n",
        "        with autocast(): #使用半精度训练\n",
        "            output = model(input_ids, attention_mask, token_type_ids).logits\n",
        "\n",
        "            loss = criterion(output, y) / CFG['accum_iter']\n",
        "            scaler.scale(loss).backward()\n",
        "            \n",
        "            if ((step + 1) %  CFG['accum_iter'] == 0) or ((step + 1) == len(train_loader)): #梯度累加\n",
        "                scaler.step(optimizer)\n",
        "                scaler.update()\n",
        "                optimizer.zero_grad() \n",
        "                scheduler.step()\n",
        "        \n",
        "        acc = (output.argmax(1)==y).sum().item()/y.size(0)\n",
        "        \n",
        "        losses.update(loss.item()*CFG['accum_iter'], y.size(0))\n",
        "        accs.update(acc, y.size(0))\n",
        "        \n",
        "        tk.set_postfix(loss=losses.avg, acc=accs.avg)\n",
        "        \n",
        "    return losses.avg, accs.avg\n",
        "\n",
        "\n",
        "def test_model(model, val_loader): #验证\n",
        "    model.eval()\n",
        "    \n",
        "    losses = AverageMeter()\n",
        "    accs = AverageMeter()\n",
        "\n",
        "    y_truth, y_pred = [], []\n",
        "    \n",
        "    with torch.no_grad():\n",
        "        tk = tqdm(val_loader, total=len(val_loader), position=0, leave=True)\n",
        "        for idx, (input_ids, attention_mask, token_type_ids, y) in enumerate(tk):\n",
        "            input_ids, attention_mask, token_type_ids, y = input_ids.to(device), attention_mask.to(device), token_type_ids.to(device), y.to(device).long()\n",
        "\n",
        "            output = model(input_ids, attention_mask, token_type_ids).logits\n",
        "            \n",
        "            y_truth.extend(y.cpu().numpy())\n",
        "            y_pred.extend(output.argmax(1).cpu().numpy())\n",
        "            \n",
        "            loss = criterion(output, y) \n",
        "\n",
        "            acc = (output.argmax(1)==y).sum().item()/y.size(0)\n",
        "            \n",
        "            losses.update(loss.item(), y.size(0))\n",
        "            accs.update(acc, y.size(0))\n",
        "  \n",
        "            tk.set_postfix(loss=losses.avg, acc=accs.avg)\n",
        "            \n",
        "       \n",
        "    return losses.avg, accs.avg"
      ],
      "execution_count": null,
      "outputs": []
    },
    {
      "cell_type": "code",
      "metadata": {
        "id": "5blJxhsZezL7",
        "colab": {
          "base_uri": "https://localhost:8080/",
          "height": 1000,
          "referenced_widgets": [
            "cfa48c017c2d4a14a71a486131092966",
            "7e81f5bdc0af4060adf2b93bcc9a7e1b",
            "3a3478350c394d2bbda62b3269060061",
            "d9a6f3f4c90f486385d566f48915e1d9",
            "32be038035d8494d9b127ccfedbd7cdf",
            "6a4134ba4b79419497098d59ad25598c",
            "16ceba41b7b04d9c9a2027ad21a15411",
            "6527c3eff942437eb0a86299b73712dd",
            "f78a3e395d004736b9134116fa82bc11",
            "73abc5f462fa4583b18766a6eda8295e",
            "97077ac28c7c41f399168e46e4628d3b",
            "c8e82a71c58c436f99a991bbf21b15fc",
            "dd39b0f45179482eaafbc4a69618c087",
            "4fa848c4d2634196a9ecef8b04414c9a",
            "d8b566cb51524d4d804ee30fc4aa7b1f",
            "ece7e880ecc049af8d7212f4012dd762"
          ]
        },
        "outputId": "bfbd6e72-a4df-444c-8469-ca24b305de44"
      },
      "source": [
        "seed_everything(CFG['seed'])\n",
        "\n",
        "folds = StratifiedKFold(n_splits=CFG['fold_num'], shuffle=True, random_state=CFG['seed'])\\\n",
        "                    .split(np.arange(train_df.shape[0]), train_df.label.values) #五折交叉验证\n",
        "\n",
        "cv = [] #保存每折的最佳准确率\n",
        "\n",
        "for fold, (trn_idx, val_idx) in enumerate(folds):\n",
        "\n",
        "    train = train_df.loc[trn_idx]\n",
        "    val = train_df.loc[val_idx]\n",
        "    \n",
        "    train_set = MyDataset(train)\n",
        "    val_set = MyDataset(val)\n",
        "    \n",
        "    train_loader = DataLoader(train_set, batch_size=CFG['train_bs'], collate_fn=collate_fn, shuffle=True, num_workers=CFG['num_workers'])\n",
        "    val_loader = DataLoader(val_set, batch_size=CFG['valid_bs'], collate_fn=collate_fn, shuffle=False, num_workers=CFG['num_workers'])\n",
        "    \n",
        "    best_acc = 0\n",
        "    \n",
        "    model =  BertForMultipleChoice.from_pretrained(CFG['model']).to(device) #模型\n",
        "\n",
        "    scaler = GradScaler()\n",
        "    optimizer = AdamW(model.parameters(), lr=CFG['lr'], weight_decay=CFG['weight_decay']) #AdamW优化器\n",
        "    criterion = nn.CrossEntropyLoss()\n",
        "    scheduler = get_cosine_schedule_with_warmup(optimizer, len(train_loader)//CFG['accum_iter'], CFG['epochs']*len(train_loader)//CFG['accum_iter'])\n",
        "#get_cosine_schedule_with_warmup策略，学习率先warmup一个epoch，然后cos式下降\n",
        "\n",
        "    for epoch in range(CFG['epochs']):\n",
        "\n",
        "        print('epoch:',epoch)\n",
        "        time.sleep(0.2)\n",
        "\n",
        "        train_loss, train_acc = train_model(model, train_loader)\n",
        "        val_loss, val_acc = test_model(model, val_loader)\n",
        "\n",
        "        if val_acc > best_acc:\n",
        "            best_acc = val_acc\n",
        "            torch.save(model.state_dict(), '{}_fold_{}.pt'.format(CFG['model'].split('/')[-1], fold))\n",
        "            \n",
        "    cv.append(best_acc) "
      ],
      "execution_count": null,
      "outputs": [
        {
          "output_type": "display_data",
          "data": {
            "application/vnd.jupyter.widget-view+json": {
              "model_id": "cfa48c017c2d4a14a71a486131092966",
              "version_minor": 0,
              "version_major": 2
            },
            "text/plain": [
              "HBox(children=(FloatProgress(value=0.0, description='Downloading', max=647.0, style=ProgressStyle(description_…"
            ]
          },
          "metadata": {
            "tags": []
          }
        },
        {
          "output_type": "stream",
          "text": [
            "\n"
          ],
          "name": "stdout"
        },
        {
          "output_type": "display_data",
          "data": {
            "application/vnd.jupyter.widget-view+json": {
              "model_id": "f78a3e395d004736b9134116fa82bc11",
              "version_minor": 0,
              "version_major": 2
            },
            "text/plain": [
              "HBox(children=(FloatProgress(value=0.0, description='Downloading', max=411578458.0, style=ProgressStyle(descri…"
            ]
          },
          "metadata": {
            "tags": []
          }
        },
        {
          "output_type": "stream",
          "text": [
            "\n"
          ],
          "name": "stdout"
        },
        {
          "output_type": "stream",
          "text": [
            "Some weights of the model checkpoint at hfl/chinese-bert-wwm-ext were not used when initializing BertForMultipleChoice: ['cls.predictions.bias', 'cls.predictions.transform.dense.weight', 'cls.predictions.transform.dense.bias', 'cls.predictions.transform.LayerNorm.weight', 'cls.predictions.transform.LayerNorm.bias', 'cls.predictions.decoder.weight', 'cls.seq_relationship.weight', 'cls.seq_relationship.bias']\n",
            "- This IS expected if you are initializing BertForMultipleChoice from the checkpoint of a model trained on another task or with another architecture (e.g. initializing a BertForSequenceClassification model from a BertForPreTraining model).\n",
            "- This IS NOT expected if you are initializing BertForMultipleChoice from the checkpoint of a model that you expect to be exactly identical (initializing a BertForSequenceClassification model from a BertForSequenceClassification model).\n",
            "Some weights of BertForMultipleChoice were not initialized from the model checkpoint at hfl/chinese-bert-wwm-ext and are newly initialized: ['classifier.weight', 'classifier.bias']\n",
            "You should probably TRAIN this model on a down-stream task to be able to use it for predictions and inference.\n"
          ],
          "name": "stderr"
        },
        {
          "output_type": "stream",
          "text": [
            "epoch: 0\n"
          ],
          "name": "stdout"
        },
        {
          "output_type": "stream",
          "text": [
            "  0%|          | 3/2571 [00:02<58:26,  1.37s/it, acc=0.333, loss=1.36]  /usr/local/lib/python3.7/dist-packages/torch/optim/lr_scheduler.py:136: UserWarning: Detected call of `lr_scheduler.step()` before `optimizer.step()`. In PyTorch 1.1.0 and later, you should call them in the opposite order: `optimizer.step()` before `lr_scheduler.step()`.  Failure to do this will result in PyTorch skipping the first value of the learning rate schedule. See more details at https://pytorch.org/docs/stable/optim.html#how-to-adjust-learning-rate\n",
            "  \"https://pytorch.org/docs/stable/optim.html#how-to-adjust-learning-rate\", UserWarning)\n",
            "100%|██████████| 2571/2571 [09:06<00:00,  4.70it/s, acc=0.254, loss=1.39]\n",
            "100%|██████████| 1286/1286 [03:32<00:00,  6.04it/s, acc=0.279, loss=1.38]\n"
          ],
          "name": "stderr"
        },
        {
          "output_type": "stream",
          "text": [
            "epoch: 1\n"
          ],
          "name": "stdout"
        },
        {
          "output_type": "stream",
          "text": [
            "100%|██████████| 2571/2571 [09:06<00:00,  4.70it/s, acc=0.294, loss=1.38]\n",
            "100%|██████████| 1286/1286 [03:32<00:00,  6.05it/s, acc=0.349, loss=1.33]\n"
          ],
          "name": "stderr"
        },
        {
          "output_type": "stream",
          "text": [
            "epoch: 2\n"
          ],
          "name": "stdout"
        },
        {
          "output_type": "stream",
          "text": [
            "100%|██████████| 2571/2571 [09:05<00:00,  4.71it/s, acc=0.394, loss=1.28]\n",
            "100%|██████████| 1286/1286 [03:32<00:00,  6.05it/s, acc=0.412, loss=1.29]\n"
          ],
          "name": "stderr"
        },
        {
          "output_type": "stream",
          "text": [
            "epoch: 3\n"
          ],
          "name": "stdout"
        },
        {
          "output_type": "stream",
          "text": [
            "100%|██████████| 2571/2571 [09:05<00:00,  4.71it/s, acc=0.547, loss=1.04]\n",
            "100%|██████████| 1286/1286 [03:32<00:00,  6.05it/s, acc=0.418, loss=1.39]\n"
          ],
          "name": "stderr"
        },
        {
          "output_type": "stream",
          "text": [
            "epoch: 4\n"
          ],
          "name": "stdout"
        },
        {
          "output_type": "stream",
          "text": [
            "100%|██████████| 2571/2571 [09:05<00:00,  4.71it/s, acc=0.725, loss=0.664]\n",
            "100%|██████████| 1286/1286 [03:32<00:00,  6.05it/s, acc=0.432, loss=1.75]\n"
          ],
          "name": "stderr"
        },
        {
          "output_type": "stream",
          "text": [
            "epoch: 5\n"
          ],
          "name": "stdout"
        },
        {
          "output_type": "stream",
          "text": [
            "100%|██████████| 2571/2571 [09:05<00:00,  4.71it/s, acc=0.836, loss=0.414]\n",
            "100%|██████████| 1286/1286 [03:32<00:00,  6.05it/s, acc=0.439, loss=2.15]\n"
          ],
          "name": "stderr"
        },
        {
          "output_type": "stream",
          "text": [
            "epoch: 6\n"
          ],
          "name": "stdout"
        },
        {
          "output_type": "stream",
          "text": [
            "100%|██████████| 2571/2571 [09:04<00:00,  4.72it/s, acc=0.886, loss=0.289]\n",
            "100%|██████████| 1286/1286 [03:32<00:00,  6.05it/s, acc=0.44, loss=2.48]\n"
          ],
          "name": "stderr"
        },
        {
          "output_type": "stream",
          "text": [
            "epoch: 7\n"
          ],
          "name": "stdout"
        },
        {
          "output_type": "stream",
          "text": [
            "100%|██████████| 2571/2571 [09:04<00:00,  4.72it/s, acc=0.914, loss=0.231]\n",
            "100%|██████████| 1286/1286 [03:32<00:00,  6.05it/s, acc=0.439, loss=2.59]\n",
            "Some weights of the model checkpoint at hfl/chinese-bert-wwm-ext were not used when initializing BertForMultipleChoice: ['cls.predictions.bias', 'cls.predictions.transform.dense.weight', 'cls.predictions.transform.dense.bias', 'cls.predictions.transform.LayerNorm.weight', 'cls.predictions.transform.LayerNorm.bias', 'cls.predictions.decoder.weight', 'cls.seq_relationship.weight', 'cls.seq_relationship.bias']\n",
            "- This IS expected if you are initializing BertForMultipleChoice from the checkpoint of a model trained on another task or with another architecture (e.g. initializing a BertForSequenceClassification model from a BertForPreTraining model).\n",
            "- This IS NOT expected if you are initializing BertForMultipleChoice from the checkpoint of a model that you expect to be exactly identical (initializing a BertForSequenceClassification model from a BertForSequenceClassification model).\n",
            "Some weights of BertForMultipleChoice were not initialized from the model checkpoint at hfl/chinese-bert-wwm-ext and are newly initialized: ['classifier.weight', 'classifier.bias']\n",
            "You should probably TRAIN this model on a down-stream task to be able to use it for predictions and inference.\n"
          ],
          "name": "stderr"
        },
        {
          "output_type": "stream",
          "text": [
            "epoch: 0\n"
          ],
          "name": "stdout"
        },
        {
          "output_type": "stream",
          "text": [
            "100%|██████████| 2571/2571 [09:06<00:00,  4.70it/s, acc=0.247, loss=1.4]\n",
            "100%|██████████| 1286/1286 [03:30<00:00,  6.10it/s, acc=0.263, loss=1.39]\n"
          ],
          "name": "stderr"
        },
        {
          "output_type": "stream",
          "text": [
            "epoch: 1\n"
          ],
          "name": "stdout"
        },
        {
          "output_type": "stream",
          "text": [
            "100%|██████████| 2571/2571 [09:05<00:00,  4.71it/s, acc=0.256, loss=1.39]\n",
            "100%|██████████| 1286/1286 [03:32<00:00,  6.05it/s, acc=0.295, loss=1.38]\n"
          ],
          "name": "stderr"
        },
        {
          "output_type": "stream",
          "text": [
            "epoch: 2\n"
          ],
          "name": "stdout"
        },
        {
          "output_type": "stream",
          "text": [
            "100%|██████████| 2571/2571 [09:05<00:00,  4.71it/s, acc=0.259, loss=1.39]\n",
            "100%|██████████| 1286/1286 [03:29<00:00,  6.13it/s, acc=0.245, loss=1.39]\n"
          ],
          "name": "stderr"
        },
        {
          "output_type": "stream",
          "text": [
            "epoch: 3\n"
          ],
          "name": "stdout"
        },
        {
          "output_type": "stream",
          "text": [
            "100%|██████████| 2571/2571 [09:04<00:00,  4.72it/s, acc=0.251, loss=1.39]\n",
            "100%|██████████| 1286/1286 [03:29<00:00,  6.13it/s, acc=0.241, loss=1.39]\n"
          ],
          "name": "stderr"
        },
        {
          "output_type": "stream",
          "text": [
            "epoch: 4\n"
          ],
          "name": "stdout"
        },
        {
          "output_type": "stream",
          "text": [
            "100%|██████████| 2571/2571 [09:05<00:00,  4.71it/s, acc=0.258, loss=1.39]\n",
            "100%|██████████| 1286/1286 [03:30<00:00,  6.10it/s, acc=0.254, loss=1.39]\n"
          ],
          "name": "stderr"
        },
        {
          "output_type": "stream",
          "text": [
            "epoch: 5\n"
          ],
          "name": "stdout"
        },
        {
          "output_type": "stream",
          "text": [
            "100%|██████████| 2571/2571 [09:05<00:00,  4.71it/s, acc=0.247, loss=1.39]\n",
            "100%|██████████| 1286/1286 [03:29<00:00,  6.13it/s, acc=0.253, loss=1.39]\n"
          ],
          "name": "stderr"
        },
        {
          "output_type": "stream",
          "text": [
            "epoch: 6\n"
          ],
          "name": "stdout"
        },
        {
          "output_type": "stream",
          "text": [
            "100%|██████████| 2571/2571 [09:04<00:00,  4.72it/s, acc=0.254, loss=1.39]\n",
            "100%|██████████| 1286/1286 [03:29<00:00,  6.13it/s, acc=0.257, loss=1.39]\n"
          ],
          "name": "stderr"
        },
        {
          "output_type": "stream",
          "text": [
            "epoch: 7\n"
          ],
          "name": "stdout"
        },
        {
          "output_type": "stream",
          "text": [
            "100%|██████████| 2571/2571 [09:04<00:00,  4.72it/s, acc=0.243, loss=1.39]\n",
            "100%|██████████| 1286/1286 [03:29<00:00,  6.13it/s, acc=0.251, loss=1.39]\n",
            "Some weights of the model checkpoint at hfl/chinese-bert-wwm-ext were not used when initializing BertForMultipleChoice: ['cls.predictions.bias', 'cls.predictions.transform.dense.weight', 'cls.predictions.transform.dense.bias', 'cls.predictions.transform.LayerNorm.weight', 'cls.predictions.transform.LayerNorm.bias', 'cls.predictions.decoder.weight', 'cls.seq_relationship.weight', 'cls.seq_relationship.bias']\n",
            "- This IS expected if you are initializing BertForMultipleChoice from the checkpoint of a model trained on another task or with another architecture (e.g. initializing a BertForSequenceClassification model from a BertForPreTraining model).\n",
            "- This IS NOT expected if you are initializing BertForMultipleChoice from the checkpoint of a model that you expect to be exactly identical (initializing a BertForSequenceClassification model from a BertForSequenceClassification model).\n",
            "Some weights of BertForMultipleChoice were not initialized from the model checkpoint at hfl/chinese-bert-wwm-ext and are newly initialized: ['classifier.weight', 'classifier.bias']\n",
            "You should probably TRAIN this model on a down-stream task to be able to use it for predictions and inference.\n"
          ],
          "name": "stderr"
        },
        {
          "output_type": "stream",
          "text": [
            "epoch: 0\n"
          ],
          "name": "stdout"
        },
        {
          "output_type": "stream",
          "text": [
            "100%|██████████| 2571/2571 [09:05<00:00,  4.72it/s, acc=0.253, loss=1.4]\n",
            "100%|██████████| 1286/1286 [03:31<00:00,  6.09it/s, acc=0.305, loss=1.38]\n"
          ],
          "name": "stderr"
        },
        {
          "output_type": "stream",
          "text": [
            "epoch: 1\n"
          ],
          "name": "stdout"
        },
        {
          "output_type": "stream",
          "text": [
            "100%|██████████| 2571/2571 [09:04<00:00,  4.72it/s, acc=0.294, loss=1.38]\n",
            "100%|██████████| 1286/1286 [03:31<00:00,  6.08it/s, acc=0.336, loss=1.35]\n"
          ],
          "name": "stderr"
        },
        {
          "output_type": "stream",
          "text": [
            "epoch: 2\n"
          ],
          "name": "stdout"
        },
        {
          "output_type": "stream",
          "text": [
            "100%|██████████| 2571/2571 [09:04<00:00,  4.72it/s, acc=0.388, loss=1.29]\n",
            "100%|██████████| 1286/1286 [03:31<00:00,  6.08it/s, acc=0.407, loss=1.28]\n"
          ],
          "name": "stderr"
        },
        {
          "output_type": "stream",
          "text": [
            "epoch: 3\n"
          ],
          "name": "stdout"
        },
        {
          "output_type": "stream",
          "text": [
            "100%|██████████| 2571/2571 [09:05<00:00,  4.71it/s, acc=0.557, loss=1.02]\n",
            "100%|██████████| 1286/1286 [03:31<00:00,  6.08it/s, acc=0.429, loss=1.39]\n"
          ],
          "name": "stderr"
        },
        {
          "output_type": "stream",
          "text": [
            "epoch: 4\n"
          ],
          "name": "stdout"
        },
        {
          "output_type": "stream",
          "text": [
            "100%|██████████| 2571/2571 [09:04<00:00,  4.72it/s, acc=0.757, loss=0.607]\n",
            "100%|██████████| 1286/1286 [03:31<00:00,  6.08it/s, acc=0.433, loss=1.68]\n"
          ],
          "name": "stderr"
        },
        {
          "output_type": "stream",
          "text": [
            "epoch: 5\n"
          ],
          "name": "stdout"
        },
        {
          "output_type": "stream",
          "text": [
            "100%|██████████| 2571/2571 [09:03<00:00,  4.73it/s, acc=0.868, loss=0.339]\n",
            "100%|██████████| 1286/1286 [03:31<00:00,  6.08it/s, acc=0.43, loss=2.24]\n"
          ],
          "name": "stderr"
        },
        {
          "output_type": "stream",
          "text": [
            "epoch: 6\n"
          ],
          "name": "stdout"
        },
        {
          "output_type": "stream",
          "text": [
            "100%|██████████| 2571/2571 [09:04<00:00,  4.72it/s, acc=0.912, loss=0.231]\n",
            "100%|██████████| 1286/1286 [03:31<00:00,  6.07it/s, acc=0.429, loss=2.46]\n"
          ],
          "name": "stderr"
        },
        {
          "output_type": "stream",
          "text": [
            "epoch: 7\n"
          ],
          "name": "stdout"
        },
        {
          "output_type": "stream",
          "text": [
            "100%|██████████| 2571/2571 [09:04<00:00,  4.72it/s, acc=0.927, loss=0.191]\n",
            "100%|██████████| 1286/1286 [03:31<00:00,  6.08it/s, acc=0.428, loss=2.55]\n"
          ],
          "name": "stderr"
        }
      ]
    },
    {
      "cell_type": "code",
      "metadata": {
        "id": "9JKt-ipAezL9"
      },
      "source": [
        "test_set = MyDataset(test_df)\n",
        "test_loader = DataLoader(test_set, batch_size=CFG['valid_bs'], collate_fn=collate_fn, shuffle=False, num_workers=CFG['num_workers'])"
      ],
      "execution_count": null,
      "outputs": []
    },
    {
      "cell_type": "code",
      "metadata": {
        "id": "fz9-6QFAezL-",
        "colab": {
          "base_uri": "https://localhost:8080/"
        },
        "outputId": "f91f5d8d-eb54-4d9f-e5bd-50deae8197a7"
      },
      "source": [
        "model =  BertForMultipleChoice.from_pretrained(CFG['model']).to(device)\n",
        "\n",
        "predictions = []\n",
        "\n",
        "for fold in range(CFG['fold_num']): #把训练后的五个模型挨个进行预测\n",
        "    y_pred = []\n",
        "    model.load_state_dict(torch.load('{}_fold_{}.pt'.format(CFG['model'].split('/')[-1], fold)))\n",
        "    \n",
        "    with torch.no_grad():\n",
        "        tk = tqdm(test_loader, total=len(test_loader), position=0, leave=True)\n",
        "        for idx, (input_ids, attention_mask, token_type_ids, y) in enumerate(tk):\n",
        "            input_ids, attention_mask, token_type_ids, y = input_ids.to(device), attention_mask.to(device), token_type_ids.to(device), y.to(device).long()\n",
        "\n",
        "            output = model(input_ids, attention_mask, token_type_ids).logits.cpu().numpy()\n",
        "\n",
        "            y_pred.extend(output)\n",
        "            \n",
        "    predictions += [y_pred]"
      ],
      "execution_count": null,
      "outputs": [
        {
          "output_type": "stream",
          "text": [
            "Some weights of the model checkpoint at hfl/chinese-bert-wwm-ext were not used when initializing BertForMultipleChoice: ['cls.predictions.bias', 'cls.predictions.transform.dense.weight', 'cls.predictions.transform.dense.bias', 'cls.predictions.transform.LayerNorm.weight', 'cls.predictions.transform.LayerNorm.bias', 'cls.predictions.decoder.weight', 'cls.seq_relationship.weight', 'cls.seq_relationship.bias']\n",
            "- This IS expected if you are initializing BertForMultipleChoice from the checkpoint of a model trained on another task or with another architecture (e.g. initializing a BertForSequenceClassification model from a BertForPreTraining model).\n",
            "- This IS NOT expected if you are initializing BertForMultipleChoice from the checkpoint of a model that you expect to be exactly identical (initializing a BertForSequenceClassification model from a BertForSequenceClassification model).\n",
            "Some weights of BertForMultipleChoice were not initialized from the model checkpoint at hfl/chinese-bert-wwm-ext and are newly initialized: ['classifier.weight', 'classifier.bias']\n",
            "You should probably TRAIN this model on a down-stream task to be able to use it for predictions and inference.\n",
            "100%|██████████| 611/611 [01:40<00:00,  6.06it/s]\n",
            "100%|██████████| 611/611 [01:40<00:00,  6.06it/s]\n",
            "100%|██████████| 611/611 [01:40<00:00,  6.07it/s]\n"
          ],
          "name": "stderr"
        }
      ]
    },
    {
      "cell_type": "code",
      "metadata": {
        "id": "Bbfd3CC0ezL-"
      },
      "source": [
        "predictions = np.mean(predictions,0).argmax(1) #将结果按五折进行平均，然后argmax得到label"
      ],
      "execution_count": null,
      "outputs": []
    },
    {
      "cell_type": "code",
      "metadata": {
        "id": "dXWItx2UezL_"
      },
      "source": [
        "sub = pd.read_csv('/content/drive/MyDrive/data/haihua/sample.csv',dtype=object) #提交\n",
        "sub['label'] = predictions\n",
        "sub['label'] = sub['label'].apply(lambda x:['A','B','C','D'][x])\n",
        "\n",
        "sub.to_csv('/content/drive/MyDrive/data/haihua/tmp/sub01.csv',index=False)"
      ],
      "execution_count": null,
      "outputs": []
    },
    {
      "cell_type": "code",
      "metadata": {
        "id": "PBGRJGKdezL_",
        "colab": {
          "base_uri": "https://localhost:8080/"
        },
        "outputId": "474d5d86-52c4-4dd0-9a8e-58f3a7a1be4c"
      },
      "source": [
        "np.mean(cv)"
      ],
      "execution_count": null,
      "outputs": [
        {
          "output_type": "execute_result",
          "data": {
            "text/plain": [
              "0.3893707622663097"
            ]
          },
          "metadata": {
            "tags": []
          },
          "execution_count": 28
        }
      ]
    }
  ]
}