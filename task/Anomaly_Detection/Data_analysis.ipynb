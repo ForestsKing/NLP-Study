{
  "nbformat": 4,
  "nbformat_minor": 0,
  "metadata": {
    "colab": {
      "name": "Data analysis.ipynb",
      "provenance": [],
      "collapsed_sections": [],
      "toc_visible": true
    },
    "kernelspec": {
      "name": "python3",
      "display_name": "Python 3"
    }
  },
  "cells": [
    {
      "cell_type": "markdown",
      "metadata": {
        "id": "kasMp4BZ26Bj"
      },
      "source": [
        "对训练数据进行基本分析"
      ]
    },
    {
      "cell_type": "markdown",
      "metadata": {
        "id": "4udofaHb3Axc"
      },
      "source": [
        "# 导入数据\r\n",
        "链接云盘"
      ]
    },
    {
      "cell_type": "code",
      "metadata": {
        "colab": {
          "base_uri": "https://localhost:8080/"
        },
        "id": "4SxF_eQ0zL-J",
        "outputId": "23251ce3-2bcd-42d4-a587-e31e7b434416"
      },
      "source": [
        "from google.colab import drive\r\n",
        "drive.mount('/content/drive')"
      ],
      "execution_count": 1,
      "outputs": [
        {
          "output_type": "stream",
          "text": [
            "Mounted at /content/drive\n"
          ],
          "name": "stdout"
        }
      ]
    },
    {
      "cell_type": "markdown",
      "metadata": {
        "id": "atfEHWqT3D-s"
      },
      "source": [
        "导入数据"
      ]
    },
    {
      "cell_type": "code",
      "metadata": {
        "id": "HN3S7xSYzQ73",
        "colab": {
          "base_uri": "https://localhost:8080/"
        },
        "outputId": "9cb09cc6-c12b-4950-f979-abf3baf4010b"
      },
      "source": [
        "import pandas as pd\r\n",
        "train_df = pd.read_csv('/content/drive/MyDrive/data/track1/track1_round1_train_20210222.csv', sep=\"\\|,\\|\",header=None,names=['id','text','label'])\r\n",
        "test_df = pd.read_csv('/content/drive/MyDrive/data/track1/track1_round1_testA_20210222.csv', sep=\"\\|,\\|\",header=None,names=['id','text'])\r\n",
        "\r\n",
        "# train_df = pd.read_csv('/content/drive/MyDrive/data/News classification/train_set.csv', sep='\\t', nrows=100) # 读取的行数"
      ],
      "execution_count": 2,
      "outputs": [
        {
          "output_type": "stream",
          "text": [
            "/usr/local/lib/python3.7/dist-packages/ipykernel_launcher.py:2: ParserWarning: Falling back to the 'python' engine because the 'c' engine does not support regex separators (separators > 1 char and different from '\\s+' are interpreted as regex); you can avoid this warning by specifying engine='python'.\n",
            "  \n",
            "/usr/local/lib/python3.7/dist-packages/ipykernel_launcher.py:3: ParserWarning: Falling back to the 'python' engine because the 'c' engine does not support regex separators (separators > 1 char and different from '\\s+' are interpreted as regex); you can avoid this warning by specifying engine='python'.\n",
            "  This is separate from the ipykernel package so we can avoid doing imports until\n"
          ],
          "name": "stderr"
        }
      ]
    },
    {
      "cell_type": "markdown",
      "metadata": {
        "id": "mP1Z7tzh3HWz"
      },
      "source": [
        "\r\n",
        "查看数据"
      ]
    },
    {
      "cell_type": "code",
      "metadata": {
        "colab": {
          "base_uri": "https://localhost:8080/",
          "height": 204
        },
        "id": "6nkE91-A0X0F",
        "outputId": "7bc950d5-2eca-4a7e-da16-a0044197adc0"
      },
      "source": [
        "train_df.head()"
      ],
      "execution_count": 3,
      "outputs": [
        {
          "output_type": "execute_result",
          "data": {
            "text/html": [
              "<div>\n",
              "<style scoped>\n",
              "    .dataframe tbody tr th:only-of-type {\n",
              "        vertical-align: middle;\n",
              "    }\n",
              "\n",
              "    .dataframe tbody tr th {\n",
              "        vertical-align: top;\n",
              "    }\n",
              "\n",
              "    .dataframe thead th {\n",
              "        text-align: right;\n",
              "    }\n",
              "</style>\n",
              "<table border=\"1\" class=\"dataframe\">\n",
              "  <thead>\n",
              "    <tr style=\"text-align: right;\">\n",
              "      <th></th>\n",
              "      <th>id</th>\n",
              "      <th>text</th>\n",
              "      <th>label</th>\n",
              "    </tr>\n",
              "  </thead>\n",
              "  <tbody>\n",
              "    <tr>\n",
              "      <th>0</th>\n",
              "      <td>0</td>\n",
              "      <td>623 328 538 382 399 400 478 842 698 137 492 26...</td>\n",
              "      <td>2</td>\n",
              "    </tr>\n",
              "    <tr>\n",
              "      <th>1</th>\n",
              "      <td>1</td>\n",
              "      <td>48 328 538 382 809 623 434 355 382 382 363 145...</td>\n",
              "      <td>NaN</td>\n",
              "    </tr>\n",
              "    <tr>\n",
              "      <th>2</th>\n",
              "      <td>2</td>\n",
              "      <td>623 656 293 851 636 842 698 493 338 266 369 69...</td>\n",
              "      <td>15</td>\n",
              "    </tr>\n",
              "    <tr>\n",
              "      <th>3</th>\n",
              "      <td>3</td>\n",
              "      <td>48 328 380 259 439 107 380 265 172 470 290 693...</td>\n",
              "      <td>NaN</td>\n",
              "    </tr>\n",
              "    <tr>\n",
              "      <th>4</th>\n",
              "      <td>4</td>\n",
              "      <td>623 328 399 698 493 338 266 14 177 415 511 647...</td>\n",
              "      <td>16</td>\n",
              "    </tr>\n",
              "  </tbody>\n",
              "</table>\n",
              "</div>"
            ],
            "text/plain": [
              "   id                                               text label\n",
              "0   0  623 328 538 382 399 400 478 842 698 137 492 26...     2\n",
              "1   1  48 328 538 382 809 623 434 355 382 382 363 145...   NaN\n",
              "2   2  623 656 293 851 636 842 698 493 338 266 369 69...    15\n",
              "3   3  48 328 380 259 439 107 380 265 172 470 290 693...   NaN\n",
              "4   4  623 328 399 698 493 338 266 14 177 415 511 647...    16"
            ]
          },
          "metadata": {
            "tags": []
          },
          "execution_count": 3
        }
      ]
    },
    {
      "cell_type": "code",
      "metadata": {
        "colab": {
          "base_uri": "https://localhost:8080/",
          "height": 204
        },
        "id": "0v3ASELmBARw",
        "outputId": "fa410041-afd7-4149-b3fa-5fb86ffbf6c5"
      },
      "source": [
        "test_df.head()"
      ],
      "execution_count": 4,
      "outputs": [
        {
          "output_type": "execute_result",
          "data": {
            "text/html": [
              "<div>\n",
              "<style scoped>\n",
              "    .dataframe tbody tr th:only-of-type {\n",
              "        vertical-align: middle;\n",
              "    }\n",
              "\n",
              "    .dataframe tbody tr th {\n",
              "        vertical-align: top;\n",
              "    }\n",
              "\n",
              "    .dataframe thead th {\n",
              "        text-align: right;\n",
              "    }\n",
              "</style>\n",
              "<table border=\"1\" class=\"dataframe\">\n",
              "  <thead>\n",
              "    <tr style=\"text-align: right;\">\n",
              "      <th></th>\n",
              "      <th>id</th>\n",
              "      <th>text</th>\n",
              "    </tr>\n",
              "  </thead>\n",
              "  <tbody>\n",
              "    <tr>\n",
              "      <th>0</th>\n",
              "      <td>0</td>\n",
              "      <td>852 328 697 538 142 355 582 800 728 4 647 169 ...</td>\n",
              "    </tr>\n",
              "    <tr>\n",
              "      <th>1</th>\n",
              "      <td>1</td>\n",
              "      <td>380 358 343 654 171 832 47 832 690 693 48 563 ...</td>\n",
              "    </tr>\n",
              "    <tr>\n",
              "      <th>2</th>\n",
              "      <td>2</td>\n",
              "      <td>751 335 834 582 717 583 585 693 623 328 107 38...</td>\n",
              "    </tr>\n",
              "    <tr>\n",
              "      <th>3</th>\n",
              "      <td>3</td>\n",
              "      <td>623 328 649 582 488 12 578 623 538 382 382 265...</td>\n",
              "    </tr>\n",
              "    <tr>\n",
              "      <th>4</th>\n",
              "      <td>4</td>\n",
              "      <td>83 293 398 797 382 363 145 424 693 698 800 691...</td>\n",
              "    </tr>\n",
              "  </tbody>\n",
              "</table>\n",
              "</div>"
            ],
            "text/plain": [
              "   id                                               text\n",
              "0   0  852 328 697 538 142 355 582 800 728 4 647 169 ...\n",
              "1   1  380 358 343 654 171 832 47 832 690 693 48 563 ...\n",
              "2   2  751 335 834 582 717 583 585 693 623 328 107 38...\n",
              "3   3  623 328 649 582 488 12 578 623 538 382 382 265...\n",
              "4   4  83 293 398 797 382 363 145 424 693 698 800 691..."
            ]
          },
          "metadata": {
            "tags": []
          },
          "execution_count": 4
        }
      ]
    },
    {
      "cell_type": "markdown",
      "metadata": {
        "id": "WZnT7-xG3JR8"
      },
      "source": [
        "# 文本分析\r\n"
      ]
    },
    {
      "cell_type": "code",
      "metadata": {
        "colab": {
          "base_uri": "https://localhost:8080/"
        },
        "id": "j9z9_-kY1CMJ",
        "outputId": "6671062c-b4fe-4b7c-fc36-42f68813dd6f"
      },
      "source": [
        "train_df['text_len'] = train_df['text'].apply(lambda x: len(x.split(' ')))\r\n",
        "print(train_df['text_len'].describe())"
      ],
      "execution_count": 5,
      "outputs": [
        {
          "output_type": "stream",
          "text": [
            "count    10000.000000\n",
            "mean        42.564800\n",
            "std         18.349127\n",
            "min          5.000000\n",
            "25%         30.000000\n",
            "50%         39.000000\n",
            "75%         53.000000\n",
            "max        105.000000\n",
            "Name: text_len, dtype: float64\n"
          ],
          "name": "stdout"
        }
      ]
    },
    {
      "cell_type": "code",
      "metadata": {
        "colab": {
          "base_uri": "https://localhost:8080/"
        },
        "id": "cQuOBJH8BRuz",
        "outputId": "0b004fc7-4d3f-401e-ff5d-83abdbf17c9e"
      },
      "source": [
        "test_df['text_len'] = test_df['text'].apply(lambda x: len(x.split(' ')))\r\n",
        "print(test_df['text_len'].describe())"
      ],
      "execution_count": 6,
      "outputs": [
        {
          "output_type": "stream",
          "text": [
            "count    3000.000000\n",
            "mean       40.409667\n",
            "std        17.695561\n",
            "min         4.000000\n",
            "25%        28.000000\n",
            "50%        37.000000\n",
            "75%        50.000000\n",
            "max       102.000000\n",
            "Name: text_len, dtype: float64\n"
          ],
          "name": "stdout"
        }
      ]
    },
    {
      "cell_type": "code",
      "metadata": {
        "colab": {
          "base_uri": "https://localhost:8080/",
          "height": 313
        },
        "id": "PqKXeblr1eUn",
        "outputId": "6b63cb41-da40-440c-acdb-477d80858f0e"
      },
      "source": [
        "import matplotlib.pyplot as plt\r\n",
        "_ = plt.hist(train_df['text_len'], bins=200)\r\n",
        "plt.xlabel('Text char count')\r\n",
        "plt.title(\"Histogram of char count\")"
      ],
      "execution_count": 7,
      "outputs": [
        {
          "output_type": "execute_result",
          "data": {
            "text/plain": [
              "Text(0.5, 1.0, 'Histogram of char count')"
            ]
          },
          "metadata": {
            "tags": []
          },
          "execution_count": 7
        },
        {
          "output_type": "display_data",
          "data": {
            "image/png": "[encoded data removed]",
            "text/plain": [
              "<Figure size 432x288 with 1 Axes>"
            ]
          },
          "metadata": {
            "tags": [],
            "needs_background": "light"
          }
        }
      ]
    },
    {
      "cell_type": "code",
      "metadata": {
        "colab": {
          "base_uri": "https://localhost:8080/",
          "height": 313
        },
        "id": "FyNzpGq6BhxL",
        "outputId": "1d24a6d0-079c-4860-94a4-680028c60a48"
      },
      "source": [
        "_ = plt.hist(test_df['text_len'], bins=200)\r\n",
        "plt.xlabel('Text char count')\r\n",
        "plt.title(\"Histogram of char count\")"
      ],
      "execution_count": 8,
      "outputs": [
        {
          "output_type": "execute_result",
          "data": {
            "text/plain": [
              "Text(0.5, 1.0, 'Histogram of char count')"
            ]
          },
          "metadata": {
            "tags": []
          },
          "execution_count": 8
        },
        {
          "output_type": "display_data",
          "data": {
            "image/png": "[encoded data removed]",
            "text/plain": [
              "<Figure size 432x288 with 1 Axes>"
            ]
          },
          "metadata": {
            "tags": [],
            "needs_background": "light"
          }
        }
      ]
    },
    {
      "cell_type": "code",
      "metadata": {
        "colab": {
          "base_uri": "https://localhost:8080/"
        },
        "id": "TKcspH8RVbSJ",
        "outputId": "77eb11cb-90c3-4d3e-918e-159d7829065c"
      },
      "source": [
        "import numpy as np\r\n",
        "np.percentile(train_df['text_len'].tolist(), 99)"
      ],
      "execution_count": 12,
      "outputs": [
        {
          "output_type": "execute_result",
          "data": {
            "text/plain": [
              "96.0"
            ]
          },
          "metadata": {
            "tags": []
          },
          "execution_count": 12
        }
      ]
    },
    {
      "cell_type": "markdown",
      "metadata": {
        "id": "MYPf4lou4g0R"
      },
      "source": [
        "# 字符分析\r\n"
      ]
    },
    {
      "cell_type": "code",
      "metadata": {
        "colab": {
          "base_uri": "https://localhost:8080/"
        },
        "id": "LNQpmNkd5NlQ",
        "outputId": "2407bfbb-04f0-419d-c0c1-98c7e3b9a897"
      },
      "source": [
        "vocab_train=[]\r\n",
        "for i in range(20):\r\n",
        "    word_sequence = \" \".join(train_df['text'][i*10000:(i+1)*10000]).split() # 转为列表\r\n",
        "    vocab_train.extend(list(set(word_sequence)))\r\n",
        "vocab_train = list(set(vocab_train))\r\n",
        "print(len(vocab_train))\r\n"
      ],
      "execution_count": 9,
      "outputs": [
        {
          "output_type": "stream",
          "text": [
            "858\n"
          ],
          "name": "stdout"
        }
      ]
    },
    {
      "cell_type": "code",
      "metadata": {
        "colab": {
          "base_uri": "https://localhost:8080/"
        },
        "id": "efgV58TfBwZ0",
        "outputId": "0eaa6ef6-5b1f-4f8d-ec14-1516ef208da5"
      },
      "source": [
        "vocab_test=[]\r\n",
        "for i in range(20):\r\n",
        "    word_sequence = \" \".join(test_df['text'][i*10000:(i+1)*10000]).split() \r\n",
        "    vocab_test.extend(list(set(word_sequence)))\r\n",
        "vocab_test = list(set(vocab_test))\r\n",
        "print(len(vocab_test))"
      ],
      "execution_count": 10,
      "outputs": [
        {
          "output_type": "stream",
          "text": [
            "858\n"
          ],
          "name": "stdout"
        }
      ]
    },
    {
      "cell_type": "markdown",
      "metadata": {
        "id": "_yJOEXGiB9GU"
      },
      "source": [
        "共"
      ]
    },
    {
      "cell_type": "code",
      "metadata": {
        "colab": {
          "base_uri": "https://localhost:8080/"
        },
        "id": "i2c4oQkuCQB8",
        "outputId": "09a936b7-ca80-4d27-d756-d04f0c6d2714"
      },
      "source": [
        "vocab=[]\r\n",
        "vocab.extend(vocab_train)\r\n",
        "vocab.extend(vocab_test)\r\n",
        "vocab = list(set(vocab))\r\n",
        "print(len(vocab))"
      ],
      "execution_count": 11,
      "outputs": [
        {
          "output_type": "stream",
          "text": [
            "858\n"
          ],
          "name": "stdout"
        }
      ]
    }
  ]
}