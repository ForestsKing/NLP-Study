{
  "nbformat": 4,
  "nbformat_minor": 0,
  "metadata": {
    "colab": {
      "name": "train_predict.ipynb",
      "provenance": [],
      "collapsed_sections": [],
      "toc_visible": true
    },
    "kernelspec": {
      "name": "python3",
      "display_name": "Python 3"
    },
    "accelerator": "GPU"
  },
  "cells": [
    {
      "cell_type": "markdown",
      "metadata": {
        "id": "KwOQ1qKgGP_b"
      },
      "source": [
        "# 导包"
      ]
    },
    {
      "cell_type": "code",
      "metadata": {
        "id": "RAQVNliZLmLt",
        "colab": {
          "base_uri": "https://localhost:8080/"
        },
        "outputId": "8494dbd7-ca3d-4b10-8965-20fcf4ebbead"
      },
      "source": [
        "import torch\r\n",
        "import torch.nn as nn\r\n",
        "from torch.nn import init\r\n",
        "import torch.optim as optim\r\n",
        "import torch.utils.data as Data\r\n",
        "\r\n",
        "!pip install torchtext==0.4\r\n",
        "from torchtext import data\r\n",
        "from torchtext.vocab import Vectors\r\n",
        "from torchtext.data import Iterator, BucketIterator\r\n",
        "\r\n",
        "from sklearn.model_selection import train_test_split\r\n",
        "\r\n",
        "import csv\r\n",
        "import numpy as np\r\n",
        "import pandas as pd\r\n",
        "\r\n",
        "from google.colab import drive\r\n",
        "import time\r\n",
        "from tqdm import tqdm"
      ],
      "execution_count": 1,
      "outputs": [
        {
          "output_type": "stream",
          "text": [
            "Requirement already satisfied: torchtext==0.4 in /usr/local/lib/python3.7/dist-packages (0.4.0)\n",
            "Requirement already satisfied: six in /usr/local/lib/python3.7/dist-packages (from torchtext==0.4) (1.15.0)\n",
            "Requirement already satisfied: tqdm in /usr/local/lib/python3.7/dist-packages (from torchtext==0.4) (4.41.1)\n",
            "Requirement already satisfied: requests in /usr/local/lib/python3.7/dist-packages (from torchtext==0.4) (2.23.0)\n",
            "Requirement already satisfied: torch in /usr/local/lib/python3.7/dist-packages (from torchtext==0.4) (1.8.0+cu101)\n",
            "Requirement already satisfied: numpy in /usr/local/lib/python3.7/dist-packages (from torchtext==0.4) (1.19.5)\n",
            "Requirement already satisfied: chardet<4,>=3.0.2 in /usr/local/lib/python3.7/dist-packages (from requests->torchtext==0.4) (3.0.4)\n",
            "Requirement already satisfied: certifi>=2017.4.17 in /usr/local/lib/python3.7/dist-packages (from requests->torchtext==0.4) (2020.12.5)\n",
            "Requirement already satisfied: urllib3!=1.25.0,!=1.25.1,<1.26,>=1.21.1 in /usr/local/lib/python3.7/dist-packages (from requests->torchtext==0.4) (1.24.3)\n",
            "Requirement already satisfied: idna<3,>=2.5 in /usr/local/lib/python3.7/dist-packages (from requests->torchtext==0.4) (2.10)\n",
            "Requirement already satisfied: typing-extensions in /usr/local/lib/python3.7/dist-packages (from torch->torchtext==0.4) (3.7.4.3)\n"
          ],
          "name": "stdout"
        }
      ]
    },
    {
      "cell_type": "code",
      "metadata": {
        "id": "whwpOSSVLm49",
        "colab": {
          "base_uri": "https://localhost:8080/"
        },
        "outputId": "f3651c43-18b9-40b0-9773-5cae43f91c01"
      },
      "source": [
        "drive.mount('/content/drive')"
      ],
      "execution_count": 2,
      "outputs": [
        {
          "output_type": "stream",
          "text": [
            "Drive already mounted at /content/drive; to attempt to forcibly remount, call drive.mount(\"/content/drive\", force_remount=True).\n"
          ],
          "name": "stdout"
        }
      ]
    },
    {
      "cell_type": "markdown",
      "metadata": {
        "id": "dXyx2UOjW_TT"
      },
      "source": [
        "# 固定种子"
      ]
    },
    {
      "cell_type": "code",
      "metadata": {
        "id": "an-Rz2beXBFM"
      },
      "source": [
        "def seed_everything(seed):\r\n",
        "    np.random.seed(seed)\r\n",
        "    torch.manual_seed(seed)\r\n",
        "    torch.cuda.manual_seed(seed)\r\n",
        "    torch.cuda.manual_seed_all(seed)\r\n",
        "    torch.backends.cudnn.deterministic = True\r\n",
        "    torch.backends.cudnn.benchmark = False\r\n",
        "\r\n",
        "seed_everything(2021)"
      ],
      "execution_count": 3,
      "outputs": []
    },
    {
      "cell_type": "markdown",
      "metadata": {
        "id": "nzuDsLPsGhpR"
      },
      "source": [
        "# 定义超参数"
      ]
    },
    {
      "cell_type": "code",
      "metadata": {
        "id": "I2pMkRniLoy8"
      },
      "source": [
        "LEN_WORLD=50\r\n",
        "BATCH_SIZE = 1\r\n",
        "EPOCHS = 2\r\n",
        "FIX_LENGTH = 75\r\n",
        "N_CLASS=17\r\n",
        "LR=0.001\r\n",
        "OUT_CHANNEL = 50\r\n",
        "DEVICE = torch.device(\"cuda\" if torch.cuda.is_available() else \"cpu\")"
      ],
      "execution_count": 4,
      "outputs": []
    },
    {
      "cell_type": "markdown",
      "metadata": {
        "id": "Hp-emJvtuS1N"
      },
      "source": [
        "# 划分验证集"
      ]
    },
    {
      "cell_type": "code",
      "metadata": {
        "id": "PDlPMh9-uWJc"
      },
      "source": [
        "train_df = pd.read_csv('/content/drive/MyDrive/data/track1/tmp/train_total.csv', sep=',')\r\n",
        "\r\n",
        "train, val = train_test_split(train_df, test_size=0.1)\r\n",
        "train.to_csv(\"/content/drive/MyDrive/data/track1/tmp/train.csv\", index=False)\r\n",
        "val.to_csv(\"/content/drive/MyDrive/data/track1/tmp/val.csv\", index=False)"
      ],
      "execution_count": 5,
      "outputs": []
    },
    {
      "cell_type": "markdown",
      "metadata": {
        "id": "7ziehWKFGsSp"
      },
      "source": [
        "# 构建Dataset"
      ]
    },
    {
      "cell_type": "code",
      "metadata": {
        "id": "mWXPqhPJLspF",
        "colab": {
          "base_uri": "https://localhost:8080/"
        },
        "outputId": "98e8fdc2-8d5e-469b-d4c0-34f9a77a1f3c"
      },
      "source": [
        "train_data = pd.read_csv('/content/drive/MyDrive/data/track1/tmp/train.csv')\r\n",
        "valid_data = pd.read_csv('/content/drive/MyDrive/data/track1/tmp/val.csv')\r\n",
        "test_data = pd.read_csv('/content/drive/MyDrive/data/track1/track1_round1_testA_20210222.csv',sep=\"\\|,\\|\", header=None, names=['id','text'])\r\n",
        "\r\n",
        "# 对Label的处理\r\n",
        "# print([eval(str(train_data['label'][i])) for i in range(len(train_data['label']))])\r\n",
        "tokenize_text = lambda x: x.split()\r\n",
        "# fix_length指定了每条文本的长度，截断补长\r\n",
        "tokenize_label = lambda x: eval(x)\r\n",
        "ID = data.Field(sequential=False, use_vocab=False)\r\n",
        "TEXT = data.Field(sequential=True, tokenize=tokenize_text, lower=True, fix_length=FIX_LENGTH)\r\n",
        "LABEL = data.Field(sequential=False, use_vocab=False)\r\n",
        "\r\n",
        "def get_dataset(csv_data, id_field, text_field, label_field, test=False):\r\n",
        "\t# id数据对训练在训练过程中没用，使用None指定其对应的field\r\n",
        "    fields = [(\"id\", id_field), (\"text\", text_field), (\"label\", label_field)]       \r\n",
        "    examples = []\r\n",
        "\r\n",
        "    if test:\r\n",
        "        # 如果为测试集，则不加载label\r\n",
        "        for id, text in tqdm(zip(csv_data['id'], csv_data['text'])):\r\n",
        "            examples.append(data.Example.fromlist([id, text, None], fields))\r\n",
        "    else:\r\n",
        "        for text, label in tqdm(zip(csv_data['text'], [eval(str(train_data['label'][i])) for i in range(len(train_data['label']))])):\r\n",
        "            examples.append(data.Example.fromlist([None, text, label], fields))\r\n",
        "    return examples, fields\r\n",
        "\r\n",
        "\r\n",
        "# 得到构建Dataset所需的examples和fields\r\n",
        "train_examples, train_fields = get_dataset(train_data, None, TEXT, LABEL)\r\n",
        "valid_examples, valid_fields = get_dataset(valid_data, None, TEXT, LABEL)\r\n",
        "test_examples, test_fields = get_dataset(test_data, ID, TEXT, None, test=True)\r\n",
        "\r\n",
        "# 构建Dataset数据集\r\n",
        "train = data.Dataset(train_examples, train_fields)\r\n",
        "valid = data.Dataset(valid_examples, valid_fields)\r\n",
        "test = data.Dataset(test_examples, test_fields)"
      ],
      "execution_count": 6,
      "outputs": [
        {
          "output_type": "stream",
          "text": [
            "/usr/local/lib/python3.7/dist-packages/ipykernel_launcher.py:3: ParserWarning: Falling back to the 'python' engine because the 'c' engine does not support regex separators (separators > 1 char and different from '\\s+' are interpreted as regex); you can avoid this warning by specifying engine='python'.\n",
            "  This is separate from the ipykernel package so we can avoid doing imports until\n",
            "9000it [00:00, 51273.23it/s]\n",
            "1000it [00:00, 44358.82it/s]\n",
            "3000it [00:00, 23144.09it/s]\n"
          ],
          "name": "stderr"
        }
      ]
    },
    {
      "cell_type": "markdown",
      "metadata": {
        "id": "eYqXwa0mQL4H"
      },
      "source": [
        "# 定义迭代器"
      ]
    },
    {
      "cell_type": "code",
      "metadata": {
        "id": "AdOiUvqlQQM9"
      },
      "source": [
        "train_iter, val_iter = BucketIterator.splits(\r\n",
        "        (train, valid),\r\n",
        "        batch_sizes=(BATCH_SIZE, BATCH_SIZE),\r\n",
        "        device = DEVICE, # 如果使用gpu，此处将-1更换为GPU的编号\r\n",
        "        sort_key=lambda x: len(x.text), # the BucketIterator needs to be told what function it should use to group the data.\r\n",
        "        sort_within_batch=False,\r\n",
        "        repeat=False # we pass repeat=False because we want to wrap this Iterator layer.\r\n",
        ")\r\n",
        "\r\n",
        "test_iter = Iterator(test, batch_size=BATCH_SIZE, device=DEVICE, sort=False, train=False, sort_within_batch=False, repeat=False) # train=False可以保证顺序不变"
      ],
      "execution_count": 7,
      "outputs": []
    },
    {
      "cell_type": "markdown",
      "metadata": {
        "id": "V6Fe04JlG7hx"
      },
      "source": [
        "# 加载词向量"
      ]
    },
    {
      "cell_type": "code",
      "metadata": {
        "id": "hVjENZKuLxsu"
      },
      "source": [
        "vectors = Vectors(name='/content/drive/MyDrive/data/track1/tmp/mymodel.txt')\r\n",
        "TEXT.build_vocab(train, vectors=vectors)\r\n",
        "weight_matrix = TEXT.vocab.vectors"
      ],
      "execution_count": 8,
      "outputs": []
    },
    {
      "cell_type": "markdown",
      "metadata": {
        "id": "MviFc5zdG3_S"
      },
      "source": [
        "# 定义模型"
      ]
    },
    {
      "cell_type": "code",
      "metadata": {
        "id": "bwx1sFJaLzzH"
      },
      "source": [
        "class CNN(nn.Module):\r\n",
        "    def __init__(self):\r\n",
        "        super(CNN, self).__init__()\r\n",
        "        self.embedding = nn.Embedding(len(TEXT.vocab), LEN_WORLD)     \r\n",
        "        self.embedding.weight.data.copy_(weight_matrix)\r\n",
        "\r\n",
        "        self.conv = nn.Sequential(\r\n",
        "            # (8, 1, 50, 50)\r\n",
        "            nn.Conv2d(1, OUT_CHANNEL, (2, LEN_WORLD)), # input_channel(=1), output_channel, (filter_height, filter_width), stride=1]\r\n",
        "            # (8, 25, 49, 1)\r\n",
        "            nn.ReLU(),\r\n",
        "            nn.MaxPool2d((FIX_LENGTH-1, 1)), # ((filter_height, filter_width))\r\n",
        "            # (8, 25, 1, 1)\r\n",
        "        )\r\n",
        "        self.out = nn.Linear(OUT_CHANNEL, N_CLASS)\r\n",
        "\r\n",
        "    def forward(self, X): # X: [fix_length, batch_size]\r\n",
        "        embeds = self.embedding(X)  # [fix_length, batch_size, embedding_size]  \r\n",
        "        embeds = self.embedding(X).transpose(0, 1) # [batch_size, sequence_length, embedding_size]\r\n",
        "        embeds = embeds.unsqueeze(1) # [batch, channel(=1), sequence_length, embedding_size]\r\n",
        "        \r\n",
        "        conved = self.conv(embeds)\r\n",
        "        flatten = conved.view(BATCH_SIZE, -1)\r\n",
        "        y = self.out(flatten)\r\n",
        "        return y\r\n",
        "\r\n",
        "model = CNN().to(DEVICE)\r\n",
        "optimizer = optim.Adam(model.parameters(), lr=LR)"
      ],
      "execution_count": 9,
      "outputs": []
    },
    {
      "cell_type": "markdown",
      "metadata": {
        "id": "gn2RO4WtHApK"
      },
      "source": [
        "# 训练"
      ]
    },
    {
      "cell_type": "code",
      "metadata": {
        "id": "ZYE9qqHZLvLM",
        "colab": {
          "base_uri": "https://localhost:8080/"
        },
        "outputId": "e21d1a77-a90a-4ccb-9e54-b1b445968a95"
      },
      "source": [
        "start = time.perf_counter()\r\n",
        "for epoch in range(EPOCHS):\r\n",
        "    for train_batch in train_iter:\r\n",
        "        optimizer.zero_grad()\r\n",
        "        pred = model(train_batch.text)\r\n",
        "\r\n",
        "        # 因为是向量相乘，不是向量与索引相乘，暂时只能自己写损失函数\r\n",
        "        log_prob = torch.nn.functional.log_softmax(pred, dim=1)\r\n",
        "        loss = -torch.sum(log_prob * train_batch.label) / BATCH_SIZE\r\n",
        "\t\r\n",
        "        loss.backward()\r\n",
        "        optimizer.step()\r\n",
        "    if (epoch+1) % 1 == 0:\r\n",
        "        end = time.perf_counter()\r\n",
        "        print('Epoch: ', (epoch+1), '| train loss: %.6f' % loss, '| time: %.2f s' % (end-start))\r\n",
        "        start = time.perf_counter()"
      ],
      "execution_count": 10,
      "outputs": [
        {
          "output_type": "stream",
          "text": [
            "Epoch:  1 | train loss: 0.983960 | time: 14.04 s\n",
            "Epoch:  2 | train loss: -0.000000 | time: 13.91 s\n"
          ],
          "name": "stdout"
        }
      ]
    },
    {
      "cell_type": "markdown",
      "metadata": {
        "id": "cWxQQpbkwlgt"
      },
      "source": [
        "# 评估"
      ]
    },
    {
      "cell_type": "code",
      "metadata": {
        "id": "DGZ283fZEeDn"
      },
      "source": [
        "def get_acc(y ,p,eps=1e-15):\r\n",
        "    loss = 0\r\n",
        "    for i in range(len(y)):\r\n",
        "        for j in range(len(y[0])):\r\n",
        "            y[i][j]=max(eps,min(1-eps,y[i][j]))\r\n",
        "            p[i][j]=max(eps,min(1-eps,p[i][j]))\r\n",
        "            loss=loss + y[i][j]*np.log(p[i][j]) + (1-y[i][j])*np.log(1-p[i][j])\r\n",
        "    acc = 1+loss / (len(y)*len(y[0]))\r\n",
        "    return acc"
      ],
      "execution_count": 11,
      "outputs": []
    },
    {
      "cell_type": "code",
      "metadata": {
        "id": "XC04ox3xwm42",
        "colab": {
          "base_uri": "https://localhost:8080/"
        },
        "outputId": "fd25fb06-5726-4ad4-f33e-2c42721bf9c8"
      },
      "source": [
        "acc=[]\r\n",
        "for i, val_batch in enumerate(val_iter):\r\n",
        "    p = torch.sigmoid(model(val_batch.text)).cpu().detach().numpy().tolist()\r\n",
        "    y = (val_batch.label).cpu().detach().numpy().tolist()\r\n",
        "    acc.append(get_acc(y ,p))\r\n",
        "print('score: %.4f'% np.mean(acc))"
      ],
      "execution_count": 12,
      "outputs": [
        {
          "output_type": "stream",
          "text": [
            "score: 0.4772\n"
          ],
          "name": "stdout"
        }
      ]
    },
    {
      "cell_type": "markdown",
      "metadata": {
        "id": "OY8-bvFGQi7F"
      },
      "source": [
        "# 预测"
      ]
    },
    {
      "cell_type": "code",
      "metadata": {
        "id": "cvfw4zWmQkbm"
      },
      "source": [
        "result=[]\r\n",
        "for test_batch in test_iter:\r\n",
        "    ids = test_batch.id.cpu().numpy().tolist()\r\n",
        "    preds = torch.sigmoid(model(test_batch.text)).cpu().detach().numpy().tolist()\r\n",
        "    for i, id in enumerate(ids):\r\n",
        "        ob=[]\r\n",
        "        pp=[]\r\n",
        "        ob.append(str(id)+\"|\")\r\n",
        "        for j in range(len(preds[i])):\r\n",
        "            pp.append(\"{:.2f}\".format(preds[i][j]))\r\n",
        "        ob.append(\"|\"+\" \".join(pp))\r\n",
        "        result.append(ob)"
      ],
      "execution_count": 13,
      "outputs": []
    },
    {
      "cell_type": "markdown",
      "metadata": {
        "id": "DyUmSVbeHGXT"
      },
      "source": [
        "# 输出"
      ]
    },
    {
      "cell_type": "code",
      "metadata": {
        "id": "eAFnzWKkvVJp"
      },
      "source": [
        "with open('/content/drive/MyDrive/data/track1/tmp/result.csv','w')as f:\r\n",
        "    f_csv = csv.writer(f)\r\n",
        "    f_csv.writerows(result)"
      ],
      "execution_count": 14,
      "outputs": []
    }
  ]
}