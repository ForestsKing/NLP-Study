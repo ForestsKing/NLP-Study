{
  "nbformat": 4,
  "nbformat_minor": 0,
  "metadata": {
    "colab": {
      "name": "pre_training.ipynb",
      "provenance": [],
      "collapsed_sections": [],
      "toc_visible": true
    },
    "kernelspec": {
      "name": "python3",
      "display_name": "Python 3"
    }
  },
  "cells": [
    {
      "cell_type": "markdown",
      "metadata": {
        "id": "ldh4_rL7CuZk"
      },
      "source": [
        "预训练词向量**SGNS**"
      ]
    },
    {
      "cell_type": "markdown",
      "metadata": {
        "id": "iRVr0dGdDeaN"
      },
      "source": [
        "# 导包"
      ]
    },
    {
      "cell_type": "code",
      "metadata": {
        "id": "WG4cJzfpAoJi"
      },
      "source": [
        "import pandas as pd\r\n",
        "from gensim.models import word2vec\r\n",
        "from google.colab import drive\r\n",
        "import numpy as np\r\n",
        "import csv"
      ],
      "execution_count": 1,
      "outputs": []
    },
    {
      "cell_type": "code",
      "metadata": {
        "id": "gOS2K12e914o"
      },
      "source": [
        "N_CLASS = 17"
      ],
      "execution_count": 2,
      "outputs": []
    },
    {
      "cell_type": "markdown",
      "metadata": {
        "id": "vBjVhD7VDgLi"
      },
      "source": [
        "# 读取数据"
      ]
    },
    {
      "cell_type": "code",
      "metadata": {
        "colab": {
          "base_uri": "https://localhost:8080/"
        },
        "id": "dcswWiQmD-cr",
        "outputId": "41569e05-863e-4d97-cc65-bc374e2d9738"
      },
      "source": [
        "drive.mount('/content/drive')"
      ],
      "execution_count": 3,
      "outputs": [
        {
          "output_type": "stream",
          "text": [
            "Drive already mounted at /content/drive; to attempt to forcibly remount, call drive.mount(\"/content/drive\", force_remount=True).\n"
          ],
          "name": "stdout"
        }
      ]
    },
    {
      "cell_type": "code",
      "metadata": {
        "id": "gEYP4oCDEcOM",
        "colab": {
          "base_uri": "https://localhost:8080/"
        },
        "outputId": "c33dcb21-befc-4a49-f0d4-3dd23233a27b"
      },
      "source": [
        "train_df = pd.read_csv('/content/drive/MyDrive/data/track1/track1_round1_train_20210222.csv', sep=\"\\|,\\|\",header=None,names=['id','text','label'])\r\n",
        "test_df = pd.read_csv('/content/drive/MyDrive/data/track1/track1_round1_testA_20210222.csv', sep=\"\\|,\\|\",header=None,names=['id','text'])"
      ],
      "execution_count": 4,
      "outputs": [
        {
          "output_type": "stream",
          "text": [
            "/usr/local/lib/python3.7/dist-packages/ipykernel_launcher.py:1: ParserWarning: Falling back to the 'python' engine because the 'c' engine does not support regex separators (separators > 1 char and different from '\\s+' are interpreted as regex); you can avoid this warning by specifying engine='python'.\n",
            "  \"\"\"Entry point for launching an IPython kernel.\n",
            "/usr/local/lib/python3.7/dist-packages/ipykernel_launcher.py:2: ParserWarning: Falling back to the 'python' engine because the 'c' engine does not support regex separators (separators > 1 char and different from '\\s+' are interpreted as regex); you can avoid this warning by specifying engine='python'.\n",
            "  \n"
          ],
          "name": "stderr"
        }
      ]
    },
    {
      "cell_type": "code",
      "metadata": {
        "id": "SDUcceD1mFy2"
      },
      "source": [
        "pre_text=list(train_df['text']) + list(test_df['text'])\r\n",
        "with open('/content/drive/MyDrive/data/track1/tmp/text.txt','a',encoding='utf-8') as f:\r\n",
        "    for t in pre_text:\r\n",
        "        f.write(t+'\\n')"
      ],
      "execution_count": 7,
      "outputs": []
    },
    {
      "cell_type": "markdown",
      "metadata": {
        "id": "023ikufoRrTZ"
      },
      "source": [
        "# 将多标签转化为one-hot向量"
      ]
    },
    {
      "cell_type": "code",
      "metadata": {
        "id": "rEj99Yih88KG"
      },
      "source": [
        "content = []\r\n",
        "train_df['label'].fillna(value=-1,inplace=True)\r\n",
        "for i,id in enumerate(train_df['id']):\r\n",
        "    ob = []\r\n",
        "    ob.append(train_df['id'][i])\r\n",
        "    ob.append(train_df['text'][i])\r\n",
        "    labels = str(train_df['label'][i]).split()\r\n",
        "    if labels[0] == '-1':\r\n",
        "      a = list(np.zeros(N_CLASS))\r\n",
        "    else:\r\n",
        "      a = list(np.sum(np.eye(N_CLASS)[[eval(label) for label in labels]], axis=0))\r\n",
        "    ob.append(a)\r\n",
        "    content.append(ob)"
      ],
      "execution_count": 5,
      "outputs": []
    },
    {
      "cell_type": "code",
      "metadata": {
        "id": "u3PVIOhxOjVp"
      },
      "source": [
        "headers = ['id','text','label']\r\n",
        "with open('/content/drive/MyDrive/data/track1/tmp/train_total.csv','w')as f:\r\n",
        "    f_csv = csv.writer(f)\r\n",
        "    f_csv.writerow(headers)\r\n",
        "    f_csv.writerows(content)"
      ],
      "execution_count": 6,
      "outputs": []
    },
    {
      "cell_type": "markdown",
      "metadata": {
        "id": "5XfAfhjIr485"
      },
      "source": [
        "# 训练词向量"
      ]
    },
    {
      "cell_type": "code",
      "metadata": {
        "id": "shEXaaXjFmr9"
      },
      "source": [
        "text = word2vec.LineSentence('/content/drive/MyDrive/data/track1/tmp/text.txt')\r\n",
        "model = word2vec.Word2Vec(text, sg=1, size=50, negative=5, hs=1, seed=1)"
      ],
      "execution_count": 8,
      "outputs": []
    },
    {
      "cell_type": "markdown",
      "metadata": {
        "id": "QY5bGoi3FOkA"
      },
      "source": [
        "# 保存词向量"
      ]
    },
    {
      "cell_type": "code",
      "metadata": {
        "id": "opmNt8LfWc41"
      },
      "source": [
        "model.save('/content/drive/MyDrive/data/track1/tmp/MyModel')\r\n",
        "model.wv.save_word2vec_format('/content/drive/MyDrive/data/track1/tmp/mymodel.txt', binary=False)"
      ],
      "execution_count": 9,
      "outputs": []
    }
  ]
}