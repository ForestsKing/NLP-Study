{
  "nbformat": 4,
  "nbformat_minor": 0,
  "metadata": {
    "colab": {
      "name": "data analysis(3-11).ipynb",
      "provenance": [],
      "collapsed_sections": [],
      "toc_visible": true
    },
    "kernelspec": {
      "name": "python3",
      "display_name": "Python 3"
    }
  },
  "cells": [
    {
      "cell_type": "markdown",
      "metadata": {
        "id": "991N0_ySNnwZ"
      },
      "source": [
        "# 导包"
      ]
    },
    {
      "cell_type": "code",
      "metadata": {
        "id": "dFopL531NUBp",
        "colab": {
          "base_uri": "https://localhost:8080/"
        },
        "outputId": "2cda4aac-825c-4cc2-c8be-3db6d2ebc6c3"
      },
      "source": [
        "import pandas as pd\r\n",
        "import numpy as np\r\n",
        "import matplotlib.pyplot as plt\r\n",
        "import seaborn as sns\r\n",
        "\r\n",
        "plt.style.use('seaborn')\r\n",
        "sns.set(font_scale=2)\r\n",
        "\r\n",
        "plt.rcParams['font.sans-serif']=['SimHei'] # 正常显示中文标签\r\n",
        "plt.rcParams['axes.unicode_minus']=False # 正常显示负号\r\n",
        "\r\n",
        "from google.colab import drive\r\n",
        "drive.mount('/content/drive')"
      ],
      "execution_count": 1,
      "outputs": [
        {
          "output_type": "stream",
          "text": [
            "Drive already mounted at /content/drive; to attempt to forcibly remount, call drive.mount(\"/content/drive\", force_remount=True).\n"
          ],
          "name": "stdout"
        }
      ]
    },
    {
      "cell_type": "markdown",
      "metadata": {
        "id": "pB3YKlqON3RR"
      },
      "source": [
        "# 读取数据"
      ]
    },
    {
      "cell_type": "code",
      "metadata": {
        "id": "bRVscmHHOI4q"
      },
      "source": [
        "train_df=pd.read_csv('/content/drive/MyDrive/data/Emotion_Recognition/nCoV_100k_train.labled.csv')\r\n",
        "test_df=pd.read_csv('/content/drive/MyDrive/data/Emotion_Recognition/nCov_10k_test.csv')"
      ],
      "execution_count": 2,
      "outputs": []
    },
    {
      "cell_type": "code",
      "metadata": {
        "colab": {
          "base_uri": "https://localhost:8080/",
          "height": 414
        },
        "id": "PIrx9tXjOTpR",
        "outputId": "ed974714-8263-43bb-dfc2-0e10a8959eba"
      },
      "source": [
        "train_df.head()"
      ],
      "execution_count": 3,
      "outputs": [
        {
          "output_type": "execute_result",
          "data": {
            "text/html": [
              "<div>\n",
              "<style scoped>\n",
              "    .dataframe tbody tr th:only-of-type {\n",
              "        vertical-align: middle;\n",
              "    }\n",
              "\n",
              "    .dataframe tbody tr th {\n",
              "        vertical-align: top;\n",
              "    }\n",
              "\n",
              "    .dataframe thead th {\n",
              "        text-align: right;\n",
              "    }\n",
              "</style>\n",
              "<table border=\"1\" class=\"dataframe\">\n",
              "  <thead>\n",
              "    <tr style=\"text-align: right;\">\n",
              "      <th></th>\n",
              "      <th>微博id</th>\n",
              "      <th>微博发布时间</th>\n",
              "      <th>发布人账号</th>\n",
              "      <th>微博中文内容</th>\n",
              "      <th>微博图片</th>\n",
              "      <th>微博视频</th>\n",
              "      <th>情感倾向</th>\n",
              "    </tr>\n",
              "  </thead>\n",
              "  <tbody>\n",
              "    <tr>\n",
              "      <th>0</th>\n",
              "      <td>4456072029125500</td>\n",
              "      <td>01月01日 23:50</td>\n",
              "      <td>存曦1988</td>\n",
              "      <td>写在年末冬初孩子流感的第五天，我们仍然没有忘记热情拥抱这2020年的第一天。带着一丝迷信，早...</td>\n",
              "      <td>['https://ww2.sinaimg.cn/orj360/005VnA1zly1gah...</td>\n",
              "      <td>[]</td>\n",
              "      <td>0</td>\n",
              "    </tr>\n",
              "    <tr>\n",
              "      <th>1</th>\n",
              "      <td>4456074167480980</td>\n",
              "      <td>01月01日 23:58</td>\n",
              "      <td>LunaKrys</td>\n",
              "      <td>开年大模型…累到以为自己发烧了腰疼膝盖疼腿疼胳膊疼脖子疼#Luna的Krystallife#?</td>\n",
              "      <td>[]</td>\n",
              "      <td>[]</td>\n",
              "      <td>-1</td>\n",
              "    </tr>\n",
              "    <tr>\n",
              "      <th>2</th>\n",
              "      <td>4456054253264520</td>\n",
              "      <td>01月01日 22:39</td>\n",
              "      <td>小王爷学辩论o_O</td>\n",
              "      <td>邱晨这就是我爹，爹，发烧快好，毕竟美好的假期拿来养病不太好，假期还是要好好享受快乐，爹，新...</td>\n",
              "      <td>['https://ww2.sinaimg.cn/thumb150/006ymYXKgy1g...</td>\n",
              "      <td>[]</td>\n",
              "      <td>1</td>\n",
              "    </tr>\n",
              "    <tr>\n",
              "      <th>3</th>\n",
              "      <td>4456061509126470</td>\n",
              "      <td>01月01日 23:08</td>\n",
              "      <td>芩鎟</td>\n",
              "      <td>新年的第一天感冒又发烧的也太衰了但是我要想着明天一定会好的?</td>\n",
              "      <td>['https://ww2.sinaimg.cn/orj360/005FL9LZgy1gah...</td>\n",
              "      <td>[]</td>\n",
              "      <td>1</td>\n",
              "    </tr>\n",
              "    <tr>\n",
              "      <th>4</th>\n",
              "      <td>4455979322528190</td>\n",
              "      <td>01月01日 17:42</td>\n",
              "      <td>changlwj</td>\n",
              "      <td>问：我们意念里有坏的想法了，天神就会给记下来，那如果有好的想法也会被记下来吗？答：那当然了。...</td>\n",
              "      <td>[]</td>\n",
              "      <td>[]</td>\n",
              "      <td>1</td>\n",
              "    </tr>\n",
              "  </tbody>\n",
              "</table>\n",
              "</div>"
            ],
            "text/plain": [
              "               微博id        微博发布时间  ... 微博视频 情感倾向\n",
              "0  4456072029125500  01月01日 23:50  ...   []    0\n",
              "1  4456074167480980  01月01日 23:58  ...   []   -1\n",
              "2  4456054253264520  01月01日 22:39  ...   []    1\n",
              "3  4456061509126470  01月01日 23:08  ...   []    1\n",
              "4  4455979322528190  01月01日 17:42  ...   []    1\n",
              "\n",
              "[5 rows x 7 columns]"
            ]
          },
          "metadata": {
            "tags": []
          },
          "execution_count": 3
        }
      ]
    },
    {
      "cell_type": "code",
      "metadata": {
        "colab": {
          "base_uri": "https://localhost:8080/"
        },
        "id": "hkQwZ1l6OWwB",
        "outputId": "95d86086-4337-4505-e286-582096564e58"
      },
      "source": [
        "train_df.info(memory_usage='deep')"
      ],
      "execution_count": 4,
      "outputs": [
        {
          "output_type": "stream",
          "text": [
            "<class 'pandas.core.frame.DataFrame'>\n",
            "RangeIndex: 100000 entries, 0 to 99999\n",
            "Data columns (total 7 columns):\n",
            " #   Column  Non-Null Count   Dtype \n",
            "---  ------  --------------   ----- \n",
            " 0   微博id    100000 non-null  int64 \n",
            " 1   微博发布时间  100000 non-null  object\n",
            " 2   发布人账号   100000 non-null  object\n",
            " 3   微博中文内容  99646 non-null   object\n",
            " 4   微博图片    100000 non-null  object\n",
            " 5   微博视频    100000 non-null  object\n",
            " 6   情感倾向    99919 non-null   object\n",
            "dtypes: int64(1), object(6)\n",
            "memory usage: 74.6 MB\n"
          ],
          "name": "stdout"
        }
      ]
    },
    {
      "cell_type": "code",
      "metadata": {
        "colab": {
          "base_uri": "https://localhost:8080/"
        },
        "id": "GAu6Ue2xOZPA",
        "outputId": "2f56c4dd-baab-4274-e7dc-c73fe38278b4"
      },
      "source": [
        "train_df['情感倾向'].value_counts()"
      ],
      "execution_count": 5,
      "outputs": [
        {
          "output_type": "execute_result",
          "data": {
            "text/plain": [
              "0     57619\n",
              "1     25392\n",
              "-1    16902\n",
              "4         1\n",
              "9         1\n",
              "10        1\n",
              "-         1\n",
              "-2        1\n",
              "·         1\n",
              "Name: 情感倾向, dtype: int64"
            ]
          },
          "metadata": {
            "tags": []
          },
          "execution_count": 5
        }
      ]
    },
    {
      "cell_type": "markdown",
      "metadata": {
        "id": "P011KHfqOcBQ"
      },
      "source": [
        "# 数据清洗"
      ]
    },
    {
      "cell_type": "code",
      "metadata": {
        "colab": {
          "base_uri": "https://localhost:8080/"
        },
        "id": "-DEE_WKjOevY",
        "outputId": "324152d1-435d-431f-922d-49499ce51d3a"
      },
      "source": [
        "train_df=train_df[train_df['情感倾向'].isin(['-1','0','1'])]\r\n",
        "train_df.info(memory_usage='deep')\r\n",
        "train_df.to_csv('/content/drive/MyDrive/data/Emotion_Recognition/nCoV_100k_train.labled.csv')"
      ],
      "execution_count": 6,
      "outputs": [
        {
          "output_type": "stream",
          "text": [
            "<class 'pandas.core.frame.DataFrame'>\n",
            "Int64Index: 99913 entries, 0 to 99999\n",
            "Data columns (total 7 columns):\n",
            " #   Column  Non-Null Count  Dtype \n",
            "---  ------  --------------  ----- \n",
            " 0   微博id    99913 non-null  int64 \n",
            " 1   微博发布时间  99913 non-null  object\n",
            " 2   发布人账号   99913 non-null  object\n",
            " 3   微博中文内容  99560 non-null  object\n",
            " 4   微博图片    99913 non-null  object\n",
            " 5   微博视频    99913 non-null  object\n",
            " 6   情感倾向    99913 non-null  object\n",
            "dtypes: int64(1), object(6)\n",
            "memory usage: 75.3 MB\n"
          ],
          "name": "stdout"
        }
      ]
    },
    {
      "cell_type": "markdown",
      "metadata": {
        "id": "qdRLYilUOhTo"
      },
      "source": [
        "# 标签分布"
      ]
    },
    {
      "cell_type": "code",
      "metadata": {
        "colab": {
          "base_uri": "https://localhost:8080/"
        },
        "id": "BHGv_lIfOoSe",
        "outputId": "bc351bbf-6e11-4e2d-bd0d-6aff23ea4145"
      },
      "source": [
        "train_df['情感倾向'].value_counts() / train_df['情感倾向'].count()"
      ],
      "execution_count": 7,
      "outputs": [
        {
          "output_type": "execute_result",
          "data": {
            "text/plain": [
              "0     0.576692\n",
              "1     0.254141\n",
              "-1    0.169167\n",
              "Name: 情感倾向, dtype: float64"
            ]
          },
          "metadata": {
            "tags": []
          },
          "execution_count": 7
        }
      ]
    },
    {
      "cell_type": "code",
      "metadata": {
        "colab": {
          "base_uri": "https://localhost:8080/",
          "height": 305
        },
        "id": "NSWztlSJOjXp",
        "outputId": "8b4bf176-b43e-4d27-e18d-91b59d4225c7"
      },
      "source": [
        "(train_df['情感倾向'].value_counts() / train_df['情感倾向'].count()).plot.bar()"
      ],
      "execution_count": 8,
      "outputs": [
        {
          "output_type": "execute_result",
          "data": {
            "text/plain": [
              "<matplotlib.axes._subplots.AxesSubplot at 0x7f4c05786d90>"
            ]
          },
          "metadata": {
            "tags": []
          },
          "execution_count": 8
        },
        {
          "output_type": "stream",
          "text": [
            "findfont: Font family ['sans-serif'] not found. Falling back to DejaVu Sans.\n"
          ],
          "name": "stderr"
        },
        {
          "output_type": "display_data",
          "data": {
            "image/png": "[encoded data removed]",
            "text/plain": [
              "<Figure size 432x288 with 1 Axes>"
            ]
          },
          "metadata": {
            "tags": [],
            "needs_background": "light"
          }
        }
      ]
    },
    {
      "cell_type": "markdown",
      "metadata": {
        "id": "10LuV_NkT15h"
      },
      "source": [
        "# 文本数据"
      ]
    },
    {
      "cell_type": "code",
      "metadata": {
        "id": "HfvyA_LHT5h1"
      },
      "source": [
        "train_df['char_length']=train_df['微博中文内容'].astype(str).apply(len)"
      ],
      "execution_count": 9,
      "outputs": []
    },
    {
      "cell_type": "code",
      "metadata": {
        "colab": {
          "base_uri": "https://localhost:8080/"
        },
        "id": "ZAuofdQ0UVWQ",
        "outputId": "3f144239-bc7c-42e1-c820-40c0a972799a"
      },
      "source": [
        "np.percentile(train_df['char_length'].tolist(), 75)"
      ],
      "execution_count": 10,
      "outputs": [
        {
          "output_type": "execute_result",
          "data": {
            "text/plain": [
              "140.0"
            ]
          },
          "metadata": {
            "tags": []
          },
          "execution_count": 10
        }
      ]
    },
    {
      "cell_type": "code",
      "metadata": {
        "colab": {
          "base_uri": "https://localhost:8080/"
        },
        "id": "0EhDE6P_Ulny",
        "outputId": "dd6abbe4-da81-4745-cb1b-1857c141c361"
      },
      "source": [
        "np.percentile(train_df['char_length'].tolist(), 99)"
      ],
      "execution_count": 11,
      "outputs": [
        {
          "output_type": "execute_result",
          "data": {
            "text/plain": [
              "162.0"
            ]
          },
          "metadata": {
            "tags": []
          },
          "execution_count": 11
        }
      ]
    },
    {
      "cell_type": "code",
      "metadata": {
        "colab": {
          "base_uri": "https://localhost:8080/"
        },
        "id": "3Rro-U9_WIBQ",
        "outputId": "489f6d41-1640-4aca-fb25-95d551544dfe"
      },
      "source": [
        "# 分词\r\n",
        "! pip install pkuseg\r\n",
        "import pkuseg\r\n",
        "seg=pkuseg.pkuseg()\r\n",
        "train_df['word_length']=train_df['微博中文内容'].astype(str).apply(lambda x: len(seg.cut(x)))\r\n",
        "np.percentile(train_df['word_length'].tolist(), 99)"
      ],
      "execution_count": 12,
      "outputs": [
        {
          "output_type": "stream",
          "text": [
            "Collecting pkuseg\n",
            "\u001b[?25l  Downloading https://files.pythonhosted.org/packages/6f/59/09644bdf620738f93520c28d83a67b9550e446705eac6438f444bb6563ca/pkuseg-0.0.25-cp37-cp37m-manylinux1_x86_64.whl (50.2MB)\n",
            "\u001b[K     |████████████████████████████████| 50.2MB 158kB/s \n",
            "\u001b[?25hRequirement already satisfied: numpy>=1.16.0 in /usr/local/lib/python3.7/dist-packages (from pkuseg) (1.19.5)\n",
            "Requirement already satisfied: cython in /usr/local/lib/python3.7/dist-packages (from pkuseg) (0.29.22)\n",
            "Installing collected packages: pkuseg\n",
            "Successfully installed pkuseg-0.0.25\n"
          ],
          "name": "stdout"
        },
        {
          "output_type": "execute_result",
          "data": {
            "text/plain": [
              "100.0"
            ]
          },
          "metadata": {
            "tags": []
          },
          "execution_count": 12
        }
      ]
    },
    {
      "cell_type": "markdown",
      "metadata": {
        "id": "BMzcgeQ0XWON"
      },
      "source": [
        "# 图片分析"
      ]
    },
    {
      "cell_type": "code",
      "metadata": {
        "colab": {
          "base_uri": "https://localhost:8080/"
        },
        "id": "lKC4EeZpXZZ6",
        "outputId": "60206fd5-c9c2-4b06-8c61-83fbcc4a37da"
      },
      "source": [
        "train_df['pic_length']=train_df['微博图片'].astype(str).apply(lambda x: len(eval(x)))\r\n",
        "train_df['pic_length'].value_counts()"
      ],
      "execution_count": 13,
      "outputs": [
        {
          "output_type": "execute_result",
          "data": {
            "text/plain": [
              "1    48888\n",
              "0    32080\n",
              "2     4577\n",
              "3     4344\n",
              "9     4171\n",
              "4     2487\n",
              "6     2001\n",
              "5      795\n",
              "7      300\n",
              "8      270\n",
              "Name: pic_length, dtype: int64"
            ]
          },
          "metadata": {
            "tags": []
          },
          "execution_count": 13
        }
      ]
    },
    {
      "cell_type": "code",
      "metadata": {
        "colab": {
          "base_uri": "https://localhost:8080/",
          "height": 291
        },
        "id": "tbMXETPxXwUR",
        "outputId": "d4fd2e1b-fc18-421e-b787-96f7044231ae"
      },
      "source": [
        "train_df['pic_length'].value_counts().plot.bar()"
      ],
      "execution_count": 14,
      "outputs": [
        {
          "output_type": "execute_result",
          "data": {
            "text/plain": [
              "<matplotlib.axes._subplots.AxesSubplot at 0x7f4be258a750>"
            ]
          },
          "metadata": {
            "tags": []
          },
          "execution_count": 14
        },
        {
          "output_type": "display_data",
          "data": {
            "image/png": "[encoded data removed]",
            "text/plain": [
              "<Figure size 432x288 with 1 Axes>"
            ]
          },
          "metadata": {
            "tags": [],
            "needs_background": "light"
          }
        }
      ]
    },
    {
      "cell_type": "markdown",
      "metadata": {
        "id": "mvO29l27YOLK"
      },
      "source": [
        "# 视频分析"
      ]
    },
    {
      "cell_type": "code",
      "metadata": {
        "colab": {
          "base_uri": "https://localhost:8080/"
        },
        "id": "1mNZKoVAYNjf",
        "outputId": "2bb4c4dc-6b08-4d69-d4b5-099eaf825ea7"
      },
      "source": [
        "train_df['video_length']=train_df['微博视频'].astype(str).apply(lambda x: len(eval(x)))\r\n",
        "train_df['video_length'].value_counts()"
      ],
      "execution_count": 15,
      "outputs": [
        {
          "output_type": "execute_result",
          "data": {
            "text/plain": [
              "0    77496\n",
              "1    22417\n",
              "Name: video_length, dtype: int64"
            ]
          },
          "metadata": {
            "tags": []
          },
          "execution_count": 15
        }
      ]
    },
    {
      "cell_type": "code",
      "metadata": {
        "colab": {
          "base_uri": "https://localhost:8080/",
          "height": 291
        },
        "id": "7GXpMXy1Yd9A",
        "outputId": "6884f004-484c-4828-f1d9-41f328c92ece"
      },
      "source": [
        "train_df['video_length'].value_counts().plot.bar()"
      ],
      "execution_count": 16,
      "outputs": [
        {
          "output_type": "execute_result",
          "data": {
            "text/plain": [
              "<matplotlib.axes._subplots.AxesSubplot at 0x7f4be2507990>"
            ]
          },
          "metadata": {
            "tags": []
          },
          "execution_count": 16
        },
        {
          "output_type": "display_data",
          "data": {
            "image/png": "[encoded data removed]",
            "text/plain": [
              "<Figure size 432x288 with 1 Axes>"
            ]
          },
          "metadata": {
            "tags": [],
            "needs_background": "light"
          }
        }
      ]
    }
  ]
}