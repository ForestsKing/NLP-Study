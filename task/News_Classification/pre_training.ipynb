{
  "nbformat": 4,
  "nbformat_minor": 0,
  "metadata": {
    "colab": {
      "name": "pre_training.ipynb",
      "provenance": [],
      "collapsed_sections": [],
      "toc_visible": true
    },
    "kernelspec": {
      "name": "python3",
      "display_name": "Python 3"
    },
    "accelerator": "GPU"
  },
  "cells": [
    {
      "cell_type": "markdown",
      "metadata": {
        "id": "ldh4_rL7CuZk"
      },
      "source": [
        "预训练词向量**SGNS**"
      ]
    },
    {
      "cell_type": "markdown",
      "metadata": {
        "id": "iRVr0dGdDeaN"
      },
      "source": [
        "# 导包"
      ]
    },
    {
      "cell_type": "code",
      "metadata": {
        "id": "WG4cJzfpAoJi"
      },
      "source": [
        "import pandas as pd\r\n",
        "from gensim.models import word2vec\r\n",
        "from google.colab import drive"
      ],
      "execution_count": null,
      "outputs": []
    },
    {
      "cell_type": "markdown",
      "metadata": {
        "id": "vBjVhD7VDgLi"
      },
      "source": [
        "# 读取数据"
      ]
    },
    {
      "cell_type": "code",
      "metadata": {
        "colab": {
          "base_uri": "https://localhost:8080/"
        },
        "id": "dcswWiQmD-cr",
        "outputId": "1557fc69-ed90-4f30-9b85-8b225fa77c6b"
      },
      "source": [
        "drive.mount('/content/drive')"
      ],
      "execution_count": null,
      "outputs": [
        {
          "output_type": "stream",
          "text": [
            "Drive already mounted at /content/drive; to attempt to forcibly remount, call drive.mount(\"/content/drive\", force_remount=True).\n"
          ],
          "name": "stdout"
        }
      ]
    },
    {
      "cell_type": "code",
      "metadata": {
        "id": "gEYP4oCDEcOM"
      },
      "source": [
        "train_df = pd.read_csv('/content/drive/MyDrive/data/News classification/train_set.csv', sep='\\t')\r\n",
        "test_df = pd.read_csv('/content/drive/MyDrive/data/News classification/test_a.csv', sep='\\t')\r\n",
        "pre_text=list(train_df['text']) + list(test_df['text'])"
      ],
      "execution_count": null,
      "outputs": []
    },
    {
      "cell_type": "code",
      "metadata": {
        "id": "SDUcceD1mFy2"
      },
      "source": [
        "with open('/content/drive/MyDrive/data/News classification/tmp/text.txt','a',encoding='utf-8') as f:\r\n",
        "    for t in pre_text:\r\n",
        "        f.write(t+'\\n')"
      ],
      "execution_count": null,
      "outputs": []
    },
    {
      "cell_type": "markdown",
      "metadata": {
        "id": "5XfAfhjIr485"
      },
      "source": [
        "# 训练词向量"
      ]
    },
    {
      "cell_type": "code",
      "metadata": {
        "id": "shEXaaXjFmr9"
      },
      "source": [
        "text = word2vec.LineSentence('/content/drive/MyDrive/data/News classification/tmp/text.txt')\r\n",
        "model = word2vec.Word2Vec(text, sg=1, size=100, negative=5, hs=1, seed=1)"
      ],
      "execution_count": null,
      "outputs": []
    },
    {
      "cell_type": "markdown",
      "metadata": {
        "id": "QY5bGoi3FOkA"
      },
      "source": [
        "# 保存词向量"
      ]
    },
    {
      "cell_type": "code",
      "metadata": {
        "id": "opmNt8LfWc41"
      },
      "source": [
        "model.save('/content/drive/MyDrive/data/News classification/tmp/MyModel')\r\n",
        "model.wv.save_word2vec_format('/content/drive/MyDrive/data/News classification/tmp/mymodel.txt', binary=False)"
      ],
      "execution_count": null,
      "outputs": []
    }
  ]
}