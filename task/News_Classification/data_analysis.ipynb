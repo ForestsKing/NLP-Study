{
  "nbformat": 4,
  "nbformat_minor": 0,
  "metadata": {
    "colab": {
      "name": "Data analysis.ipynb",
      "provenance": [],
      "collapsed_sections": [],
      "toc_visible": true
    },
    "kernelspec": {
      "name": "python3",
      "display_name": "Python 3"
    }
  },
  "cells": [
    {
      "cell_type": "markdown",
      "metadata": {
        "id": "kasMp4BZ26Bj"
      },
      "source": [
        "对训练数据进行基本分析"
      ]
    },
    {
      "cell_type": "markdown",
      "metadata": {
        "id": "4udofaHb3Axc"
      },
      "source": [
        "# 导入数据\r\n",
        "链接云盘"
      ]
    },
    {
      "cell_type": "code",
      "metadata": {
        "colab": {
          "base_uri": "https://localhost:8080/"
        },
        "id": "4SxF_eQ0zL-J",
        "outputId": "5da36401-56dd-46ba-f31f-7c1fbcb38e7c"
      },
      "source": [
        "from google.colab import drive\r\n",
        "drive.mount('/content/drive')"
      ],
      "execution_count": null,
      "outputs": [
        {
          "output_type": "stream",
          "text": [
            "Drive already mounted at /content/drive; to attempt to forcibly remount, call drive.mount(\"/content/drive\", force_remount=True).\n"
          ],
          "name": "stdout"
        }
      ]
    },
    {
      "cell_type": "markdown",
      "metadata": {
        "id": "atfEHWqT3D-s"
      },
      "source": [
        "导入数据"
      ]
    },
    {
      "cell_type": "code",
      "metadata": {
        "id": "HN3S7xSYzQ73"
      },
      "source": [
        "import pandas as pd\r\n",
        "train_df = pd.read_csv('/content/drive/MyDrive/data/News classification/train_set.csv', sep='\\t')\r\n",
        "test_df = pd.read_csv('/content/drive/MyDrive/data/News classification/test_a.csv', sep='\\t')\r\n",
        "\r\n",
        "# train_df = pd.read_csv('/content/drive/MyDrive/data/News classification/train_set.csv', sep='\\t', nrows=100) # 读取的行数"
      ],
      "execution_count": null,
      "outputs": []
    },
    {
      "cell_type": "markdown",
      "metadata": {
        "id": "mP1Z7tzh3HWz"
      },
      "source": [
        "\r\n",
        "查看数据"
      ]
    },
    {
      "cell_type": "code",
      "metadata": {
        "colab": {
          "base_uri": "https://localhost:8080/",
          "height": 204
        },
        "id": "6nkE91-A0X0F",
        "outputId": "de9d410b-fc76-4f78-f5d3-1c596be561eb"
      },
      "source": [
        "train_df.head()"
      ],
      "execution_count": null,
      "outputs": [
        {
          "output_type": "execute_result",
          "data": {
            "text/html": [
              "<div>\n",
              "<style scoped>\n",
              "    .dataframe tbody tr th:only-of-type {\n",
              "        vertical-align: middle;\n",
              "    }\n",
              "\n",
              "    .dataframe tbody tr th {\n",
              "        vertical-align: top;\n",
              "    }\n",
              "\n",
              "    .dataframe thead th {\n",
              "        text-align: right;\n",
              "    }\n",
              "</style>\n",
              "<table border=\"1\" class=\"dataframe\">\n",
              "  <thead>\n",
              "    <tr style=\"text-align: right;\">\n",
              "      <th></th>\n",
              "      <th>label</th>\n",
              "      <th>text</th>\n",
              "    </tr>\n",
              "  </thead>\n",
              "  <tbody>\n",
              "    <tr>\n",
              "      <th>0</th>\n",
              "      <td>2</td>\n",
              "      <td>2967 6758 339 2021 1854 3731 4109 3792 4149 15...</td>\n",
              "    </tr>\n",
              "    <tr>\n",
              "      <th>1</th>\n",
              "      <td>11</td>\n",
              "      <td>4464 486 6352 5619 2465 4802 1452 3137 5778 54...</td>\n",
              "    </tr>\n",
              "    <tr>\n",
              "      <th>2</th>\n",
              "      <td>3</td>\n",
              "      <td>7346 4068 5074 3747 5681 6093 1777 2226 7354 6...</td>\n",
              "    </tr>\n",
              "    <tr>\n",
              "      <th>3</th>\n",
              "      <td>2</td>\n",
              "      <td>7159 948 4866 2109 5520 2490 211 3956 5520 549...</td>\n",
              "    </tr>\n",
              "    <tr>\n",
              "      <th>4</th>\n",
              "      <td>3</td>\n",
              "      <td>3646 3055 3055 2490 4659 6065 3370 5814 2465 5...</td>\n",
              "    </tr>\n",
              "  </tbody>\n",
              "</table>\n",
              "</div>"
            ],
            "text/plain": [
              "   label                                               text\n",
              "0      2  2967 6758 339 2021 1854 3731 4109 3792 4149 15...\n",
              "1     11  4464 486 6352 5619 2465 4802 1452 3137 5778 54...\n",
              "2      3  7346 4068 5074 3747 5681 6093 1777 2226 7354 6...\n",
              "3      2  7159 948 4866 2109 5520 2490 211 3956 5520 549...\n",
              "4      3  3646 3055 3055 2490 4659 6065 3370 5814 2465 5..."
            ]
          },
          "metadata": {
            "tags": []
          },
          "execution_count": 3
        }
      ]
    },
    {
      "cell_type": "code",
      "metadata": {
        "colab": {
          "base_uri": "https://localhost:8080/",
          "height": 204
        },
        "id": "0v3ASELmBARw",
        "outputId": "4c52fd29-3134-4be1-ce4d-6c02a05106ba"
      },
      "source": [
        "test_df.head()"
      ],
      "execution_count": null,
      "outputs": [
        {
          "output_type": "execute_result",
          "data": {
            "text/html": [
              "<div>\n",
              "<style scoped>\n",
              "    .dataframe tbody tr th:only-of-type {\n",
              "        vertical-align: middle;\n",
              "    }\n",
              "\n",
              "    .dataframe tbody tr th {\n",
              "        vertical-align: top;\n",
              "    }\n",
              "\n",
              "    .dataframe thead th {\n",
              "        text-align: right;\n",
              "    }\n",
              "</style>\n",
              "<table border=\"1\" class=\"dataframe\">\n",
              "  <thead>\n",
              "    <tr style=\"text-align: right;\">\n",
              "      <th></th>\n",
              "      <th>text</th>\n",
              "    </tr>\n",
              "  </thead>\n",
              "  <tbody>\n",
              "    <tr>\n",
              "      <th>0</th>\n",
              "      <td>5399 3117 1070 4321 4568 2621 5466 3772 4516 2...</td>\n",
              "    </tr>\n",
              "    <tr>\n",
              "      <th>1</th>\n",
              "      <td>2491 4109 1757 7539 648 3695 3038 4490 23 7019...</td>\n",
              "    </tr>\n",
              "    <tr>\n",
              "      <th>2</th>\n",
              "      <td>2673 5076 6835 2835 5948 5677 3247 4124 2465 5...</td>\n",
              "    </tr>\n",
              "    <tr>\n",
              "      <th>3</th>\n",
              "      <td>4562 4893 2210 4761 3659 1324 2595 5949 4583 2...</td>\n",
              "    </tr>\n",
              "    <tr>\n",
              "      <th>4</th>\n",
              "      <td>4269 7134 2614 1724 4464 1324 3370 3370 2106 2...</td>\n",
              "    </tr>\n",
              "  </tbody>\n",
              "</table>\n",
              "</div>"
            ],
            "text/plain": [
              "                                                text\n",
              "0  5399 3117 1070 4321 4568 2621 5466 3772 4516 2...\n",
              "1  2491 4109 1757 7539 648 3695 3038 4490 23 7019...\n",
              "2  2673 5076 6835 2835 5948 5677 3247 4124 2465 5...\n",
              "3  4562 4893 2210 4761 3659 1324 2595 5949 4583 2...\n",
              "4  4269 7134 2614 1724 4464 1324 3370 3370 2106 2..."
            ]
          },
          "metadata": {
            "tags": []
          },
          "execution_count": 4
        }
      ]
    },
    {
      "cell_type": "markdown",
      "metadata": {
        "id": "WZnT7-xG3JR8"
      },
      "source": [
        "# 文本分析\r\n",
        "查看数据分布，可以看出本次赛题给定的文本比较长，每个句子平均由907个字符构成，最短的句子长度为2，最长的句子长度为57921。"
      ]
    },
    {
      "cell_type": "code",
      "metadata": {
        "colab": {
          "base_uri": "https://localhost:8080/"
        },
        "id": "j9z9_-kY1CMJ",
        "outputId": "60791187-2674-4b18-a47f-364a80a19c82"
      },
      "source": [
        "train_df['text_len'] = train_df['text'].apply(lambda x: len(x.split(' ')))\r\n",
        "print(train_df['text_len'].describe())"
      ],
      "execution_count": null,
      "outputs": [
        {
          "output_type": "stream",
          "text": [
            "count    200000.000000\n",
            "mean        907.207110\n",
            "std         996.029036\n",
            "min           2.000000\n",
            "25%         374.000000\n",
            "50%         676.000000\n",
            "75%        1131.000000\n",
            "max       57921.000000\n",
            "Name: text_len, dtype: float64\n"
          ],
          "name": "stdout"
        }
      ]
    },
    {
      "cell_type": "code",
      "metadata": {
        "colab": {
          "base_uri": "https://localhost:8080/"
        },
        "id": "cQuOBJH8BRuz",
        "outputId": "9824125e-ceb1-40a0-8ae1-66b84a99db7b"
      },
      "source": [
        "test_df['text_len'] = test_df['text'].apply(lambda x: len(x.split(' ')))\r\n",
        "print(test_df['text_len'].describe())"
      ],
      "execution_count": null,
      "outputs": [
        {
          "output_type": "stream",
          "text": [
            "count    50000.000000\n",
            "mean       909.844960\n",
            "std       1032.313375\n",
            "min         14.000000\n",
            "25%        370.000000\n",
            "50%        676.000000\n",
            "75%       1133.000000\n",
            "max      41861.000000\n",
            "Name: text_len, dtype: float64\n"
          ],
          "name": "stdout"
        }
      ]
    },
    {
      "cell_type": "markdown",
      "metadata": {
        "id": "GIswZQh53R5U"
      },
      "source": [
        "由直方图可知大部分数据在5000以内"
      ]
    },
    {
      "cell_type": "code",
      "metadata": {
        "colab": {
          "base_uri": "https://localhost:8080/",
          "height": 313
        },
        "id": "PqKXeblr1eUn",
        "outputId": "df4819ee-b63b-4f3b-af96-90b2841ffc2a"
      },
      "source": [
        "import matplotlib.pyplot as plt\r\n",
        "_ = plt.hist(train_df['text_len'], bins=200)\r\n",
        "plt.xlabel('Text char count')\r\n",
        "plt.title(\"Histogram of char count\")"
      ],
      "execution_count": null,
      "outputs": [
        {
          "output_type": "execute_result",
          "data": {
            "text/plain": [
              "Text(0.5, 1.0, 'Histogram of char count')"
            ]
          },
          "metadata": {
            "tags": []
          },
          "execution_count": 7
        },
        {
          "output_type": "display_data",
          "data": {
            "image/png": "[encoded data removed]",
            "text/plain": [
              "<Figure size 432x288 with 1 Axes>"
            ]
          },
          "metadata": {
            "tags": [],
            "needs_background": "light"
          }
        }
      ]
    },
    {
      "cell_type": "code",
      "metadata": {
        "colab": {
          "base_uri": "https://localhost:8080/",
          "height": 313
        },
        "id": "FyNzpGq6BhxL",
        "outputId": "530bc3d7-2d8a-4213-8447-b675ad4be2e6"
      },
      "source": [
        "_ = plt.hist(test_df['text_len'], bins=200)\r\n",
        "plt.xlabel('Text char count')\r\n",
        "plt.title(\"Histogram of char count\")"
      ],
      "execution_count": null,
      "outputs": [
        {
          "output_type": "execute_result",
          "data": {
            "text/plain": [
              "Text(0.5, 1.0, 'Histogram of char count')"
            ]
          },
          "metadata": {
            "tags": []
          },
          "execution_count": 8
        },
        {
          "output_type": "display_data",
          "data": {
            "image/png": "[encoded data removed]",
            "text/plain": [
              "<Figure size 432x288 with 1 Axes>"
            ]
          },
          "metadata": {
            "tags": [],
            "needs_background": "light"
          }
        }
      ]
    },
    {
      "cell_type": "markdown",
      "metadata": {
        "id": "FS5STKbC3xnb"
      },
      "source": [
        "# 标签分析\r\n",
        "在数据集中标签的对应的关系如下：{'科技': 0, '股票': 1, '体育': 2, '娱乐': 3, '时政': 4, '社会': 5, '教育': 6, '财经': 7, '家居': 8, '游戏': 9, '房产': 10, '时尚': 11, '彩票': 12, '星座': 13}\r\n",
        "\r\n",
        "从统计结果可以看出，赛题的数据集类别分布存在较为不均匀的情况。在训练集中科技类新闻最多，其次是股票类新闻，最少的新闻是星座新闻。"
      ]
    },
    {
      "cell_type": "code",
      "metadata": {
        "colab": {
          "base_uri": "https://localhost:8080/",
          "height": 316
        },
        "id": "XoydgueJ2qmZ",
        "outputId": "6dbe9fb6-8723-4c0a-eea9-06247b99de21"
      },
      "source": [
        "train_df['label'].value_counts().plot(kind='bar')\r\n",
        "plt.title('News class count')\r\n",
        "plt.xlabel(\"category\")"
      ],
      "execution_count": null,
      "outputs": [
        {
          "output_type": "execute_result",
          "data": {
            "text/plain": [
              "Text(0.5, 0, 'category')"
            ]
          },
          "metadata": {
            "tags": []
          },
          "execution_count": 9
        },
        {
          "output_type": "display_data",
          "data": {
            "image/png": "[encoded data removed]",
            "text/plain": [
              "<Figure size 432x288 with 1 Axes>"
            ]
          },
          "metadata": {
            "tags": [],
            "needs_background": "light"
          }
        }
      ]
    },
    {
      "cell_type": "markdown",
      "metadata": {
        "id": "MYPf4lou4g0R"
      },
      "source": [
        "# 字符分析\r\n",
        "从统计结果中可以看出，在训练集中总共包括6869个字"
      ]
    },
    {
      "cell_type": "code",
      "metadata": {
        "colab": {
          "base_uri": "https://localhost:8080/"
        },
        "id": "LNQpmNkd5NlQ",
        "outputId": "d2bd80f5-be1b-4314-ee40-3f79ce3fad67"
      },
      "source": [
        "vocab_train=[]\r\n",
        "for i in range(20):\r\n",
        "    word_sequence = \" \".join(train_df['text'][i*10000:(i+1)*10000]).split() # 转为列表\r\n",
        "    vocab_train.extend(list(set(word_sequence)))\r\n",
        "vocab_train = list(set(vocab_train))\r\n",
        "print(len(vocab_train))\r\n"
      ],
      "execution_count": null,
      "outputs": [
        {
          "output_type": "stream",
          "text": [
            "6869\n"
          ],
          "name": "stdout"
        }
      ]
    },
    {
      "cell_type": "markdown",
      "metadata": {
        "id": "h1GKSGoYB7YM"
      },
      "source": [
        "在训练集中总共包括6869个字"
      ]
    },
    {
      "cell_type": "code",
      "metadata": {
        "colab": {
          "base_uri": "https://localhost:8080/"
        },
        "id": "efgV58TfBwZ0",
        "outputId": "11b0327d-b606-444e-abc3-172cfa425eaa"
      },
      "source": [
        "vocab_test=[]\r\n",
        "for i in range(20):\r\n",
        "    word_sequence = \" \".join(test_df['text'][i*10000:(i+1)*10000]).split() \r\n",
        "    vocab_test.extend(list(set(word_sequence)))\r\n",
        "vocab_test = list(set(vocab_test))\r\n",
        "print(len(vocab_test))"
      ],
      "execution_count": null,
      "outputs": [
        {
          "output_type": "stream",
          "text": [
            "6203\n"
          ],
          "name": "stdout"
        }
      ]
    },
    {
      "cell_type": "markdown",
      "metadata": {
        "id": "_yJOEXGiB9GU"
      },
      "source": [
        "共"
      ]
    },
    {
      "cell_type": "code",
      "metadata": {
        "colab": {
          "base_uri": "https://localhost:8080/"
        },
        "id": "i2c4oQkuCQB8",
        "outputId": "aba4645e-0172-49dc-808b-f2ead17de8e8"
      },
      "source": [
        "vocab=[]\r\n",
        "vocab.extend(vocab_train)\r\n",
        "vocab.extend(vocab_test)\r\n",
        "vocab = list(set(vocab))\r\n",
        "print(len(vocab))"
      ],
      "execution_count": null,
      "outputs": [
        {
          "output_type": "stream",
          "text": [
            "6977\n"
          ],
          "name": "stdout"
        }
      ]
    }
  ]
}