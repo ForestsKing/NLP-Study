{
  "nbformat": 4,
  "nbformat_minor": 0,
  "metadata": {
    "colab": {
      "name": "train_predict.ipynb",
      "provenance": [],
      "collapsed_sections": [],
      "machine_shape": "hm"
    },
    "kernelspec": {
      "name": "python3",
      "display_name": "Python 3"
    },
    "accelerator": "GPU"
  },
  "cells": [
    {
      "cell_type": "markdown",
      "metadata": {
        "id": "KwOQ1qKgGP_b"
      },
      "source": [
        "# 导包"
      ]
    },
    {
      "cell_type": "code",
      "metadata": {
        "id": "RAQVNliZLmLt"
      },
      "source": [
        "import torch\r\n",
        "import torch.nn as nn\r\n",
        "from torch.nn import init\r\n",
        "import torch.optim as optim\r\n",
        "import torch.utils.data as Data\r\n",
        "\r\n",
        "from torchtext import data\r\n",
        "from torchtext.vocab import Vectors\r\n",
        "from torchtext.data import Iterator, BucketIterator\r\n",
        "\r\n",
        "from sklearn.model_selection import train_test_split\r\n",
        "\r\n",
        "import csv\r\n",
        "import numpy as np\r\n",
        "import pandas as pd\r\n",
        "\r\n",
        "from google.colab import drive\r\n",
        "import time\r\n",
        "from tqdm import tqdm"
      ],
      "execution_count": 1,
      "outputs": []
    },
    {
      "cell_type": "code",
      "metadata": {
        "colab": {
          "base_uri": "https://localhost:8080/"
        },
        "id": "whwpOSSVLm49",
        "outputId": "60cb527b-fdf8-4e54-9977-7e957836104f"
      },
      "source": [
        "drive.mount('/content/drive')"
      ],
      "execution_count": 2,
      "outputs": [
        {
          "output_type": "stream",
          "text": [
            "Mounted at /content/drive\n"
          ],
          "name": "stdout"
        }
      ]
    },
    {
      "cell_type": "markdown",
      "metadata": {
        "id": "nzuDsLPsGhpR"
      },
      "source": [
        "# 定义超参数"
      ]
    },
    {
      "cell_type": "code",
      "metadata": {
        "id": "I2pMkRniLoy8"
      },
      "source": [
        "BATCH_SIZE = 8\r\n",
        "EPOCHS = 10\r\n",
        "FIX_LENGTH = 2500\r\n",
        "N_CLASS=14\r\n",
        "LR=0.001\r\n",
        "N_HIDDEN = 100\r\n",
        "OUT_CHANNEL=1000\r\n",
        "DEVICE = torch.device(\"cuda\" if torch.cuda.is_available() else \"cpu\")"
      ],
      "execution_count": 16,
      "outputs": []
    },
    {
      "cell_type": "markdown",
      "metadata": {
        "id": "ktfhcdRFGma_"
      },
      "source": [
        "# 划分训练集验证集"
      ]
    },
    {
      "cell_type": "code",
      "metadata": {
        "id": "WXLm92ppLqvu"
      },
      "source": [
        "train_df = pd.read_csv('/content/drive/MyDrive/data/News classification/train_set.csv', sep='\\t', nrows=2000)\r\n",
        "\r\n",
        "train, val = train_test_split(train_df, test_size=0.1)\r\n",
        "train.to_csv(\"/content/drive/MyDrive/data/News classification/tmp/train.csv\", index=False)\r\n",
        "val.to_csv(\"/content/drive/MyDrive/data/News classification/tmp/val.csv\", index=False)"
      ],
      "execution_count": 4,
      "outputs": []
    },
    {
      "cell_type": "markdown",
      "metadata": {
        "id": "7ziehWKFGsSp"
      },
      "source": [
        "# 构建Dataset"
      ]
    },
    {
      "cell_type": "code",
      "metadata": {
        "colab": {
          "base_uri": "https://localhost:8080/"
        },
        "id": "mWXPqhPJLspF",
        "outputId": "d121c18a-65a5-4333-8e17-b4c0bd594c09"
      },
      "source": [
        "train_data = pd.read_csv('/content/drive/MyDrive/data/News classification/tmp/train.csv')\r\n",
        "valid_data = pd.read_csv('/content/drive/MyDrive/data/News classification/tmp/val.csv')\r\n",
        "test_data = pd.read_csv(\"/content/drive/MyDrive/data/News classification/test_a.csv\", nrows=200)\r\n",
        "\r\n",
        "tokenize = lambda x: x.split()\r\n",
        "# fix_length指定了每条文本的长度，截断补长\r\n",
        "TEXT = data.Field(sequential=True, tokenize=tokenize, lower=True, fix_length=FIX_LENGTH)\r\n",
        "LABEL = data.Field(sequential=False, use_vocab=False)\r\n",
        "\r\n",
        "def get_dataset(csv_data, text_field, label_field, test=False):\r\n",
        "\t# id数据对训练在训练过程中没用，使用None指定其对应的field\r\n",
        "    fields = [(\"id\", None), # we won't be needing the id, so we pass in None as the field\r\n",
        "                 (\"text\", text_field), (\"label\", label_field)]       \r\n",
        "    examples = []\r\n",
        "\r\n",
        "    if test:\r\n",
        "        # 如果为测试集，则不加载label\r\n",
        "        for text in tqdm(csv_data['text']):\r\n",
        "            examples.append(data.Example.fromlist([None, text, None], fields))\r\n",
        "    else:\r\n",
        "        for text, label in tqdm(zip(csv_data['text'], csv_data['label'])):\r\n",
        "            examples.append(data.Example.fromlist([None, text, label], fields))\r\n",
        "    return examples, fields\r\n",
        "\r\n",
        "\r\n",
        "# 得到构建Dataset所需的examples和fields\r\n",
        "train_examples, train_fields = get_dataset(train_data, TEXT, LABEL)\r\n",
        "valid_examples, valid_fields = get_dataset(valid_data, TEXT, LABEL)\r\n",
        "test_examples, test_fields = get_dataset(test_data, TEXT, None, test=True)\r\n",
        "\r\n",
        "# 构建Dataset数据集\r\n",
        "train = data.Dataset(train_examples, train_fields)\r\n",
        "valid = data.Dataset(valid_examples, valid_fields)\r\n",
        "test = data.Dataset(test_examples, test_fields)"
      ],
      "execution_count": 5,
      "outputs": [
        {
          "output_type": "stream",
          "text": [
            "1800it [00:00, 4233.32it/s]\n",
            "200it [00:00, 4432.16it/s]\n",
            "100%|██████████| 200/200 [00:00<00:00, 3970.53it/s]\n"
          ],
          "name": "stderr"
        }
      ]
    },
    {
      "cell_type": "markdown",
      "metadata": {
        "id": "UYbPl4QKGvGJ"
      },
      "source": [
        "# 构建迭代器"
      ]
    },
    {
      "cell_type": "code",
      "metadata": {
        "id": "ZYE9qqHZLvLM"
      },
      "source": [
        "train_iter, val_iter = BucketIterator.splits(\r\n",
        "        (train, valid),\r\n",
        "        batch_sizes=(BATCH_SIZE, BATCH_SIZE),\r\n",
        "        device = DEVICE, # 如果使用gpu，此处将-1更换为GPU的编号\r\n",
        "        sort_key=lambda x: len(x.text), # the BucketIterator needs to be told what function it should use to group the data.\r\n",
        "        sort_within_batch=False,\r\n",
        "        repeat=False # we pass repeat=False because we want to wrap this Iterator layer.\r\n",
        ")\r\n",
        "\r\n",
        "test_iter = Iterator(test, batch_size=BATCH_SIZE, device=DEVICE, sort=False, train=False, sort_within_batch=False, repeat=False) # train=False可以保证顺序不变"
      ],
      "execution_count": 6,
      "outputs": []
    },
    {
      "cell_type": "markdown",
      "metadata": {
        "id": "V6Fe04JlG7hx"
      },
      "source": [
        "# 加载词向量"
      ]
    },
    {
      "cell_type": "code",
      "metadata": {
        "id": "hVjENZKuLxsu",
        "colab": {
          "base_uri": "https://localhost:8080/"
        },
        "outputId": "0c502d92-64d2-4d47-eb71-db264f2ff80b"
      },
      "source": [
        "vectors = Vectors(name='/content/drive/MyDrive/data/News classification/tmp/mymodel.txt')\r\n",
        "TEXT.build_vocab(train, vectors=vectors)\r\n",
        "weight_matrix = TEXT.vocab.vectors"
      ],
      "execution_count": 7,
      "outputs": [
        {
          "output_type": "stream",
          "text": [
            "  0%|          | 0/6151 [00:00<?, ?it/s]Skipping token b'6151' with 1-dimensional vector [b'100']; likely a header\n",
            " 77%|███████▋  | 4710/6151 [00:00<00:00, 18266.57it/s]\n"
          ],
          "name": "stderr"
        }
      ]
    },
    {
      "cell_type": "markdown",
      "metadata": {
        "id": "MviFc5zdG3_S"
      },
      "source": [
        "# 定义模型"
      ]
    },
    {
      "cell_type": "code",
      "metadata": {
        "id": "bwx1sFJaLzzH"
      },
      "source": [
        "class BiLSTM(nn.Module):\r\n",
        "    def __init__(self):\r\n",
        "        super(BiLSTM, self).__init__()\r\n",
        "        self.embedding = nn.Embedding(len(TEXT.vocab), 100)     \r\n",
        "        self.embedding.weight.data.copy_(weight_matrix)\r\n",
        "\r\n",
        "        self.lstm = nn.LSTM(input_size=100, hidden_size=N_HIDDEN, bidirectional=True) # 是否双向\r\n",
        "        \r\n",
        "        self.conv = nn.Sequential(\r\n",
        "            # (8, 1, n_hidden*2, 1)\r\n",
        "            nn.Conv2d(1, OUT_CHANNEL, (2, 1)), # input_channel(=1), output_channel, (filter_height, filter_width), stride=1]\r\n",
        "            # (8, 1000, n_hidden*2-1, 1)\r\n",
        "            nn.ReLU(),\r\n",
        "            nn.MaxPool2d((N_HIDDEN*2-1, 1)), # ((filter_height, filter_width))\r\n",
        "        )\r\n",
        "        \r\n",
        "        self.out = nn.Linear(OUT_CHANNEL, N_CLASS)\r\n",
        "\r\n",
        "    def forward(self, X): # X: [fix_length, batch_size]\r\n",
        "        input = self.embedding(X)\r\n",
        "\r\n",
        "        hidden_state = torch.randn(1*2, BATCH_SIZE, N_HIDDEN).to(DEVICE)   # [num_layers(=1) * num_directions(=2), batch_size, n_hidden]\r\n",
        "        cell_state = torch.randn(1*2, BATCH_SIZE, N_HIDDEN).to(DEVICE)     # [num_layers(=1) * num_directions(=2), batch_size, n_hidden]\r\n",
        "\r\n",
        "        outputs, (_, _) = self.lstm(input, (hidden_state, cell_state))\r\n",
        "        outputs = outputs[-1]  # [batch_size, n_hidden * 2]\r\n",
        "        \r\n",
        "        embeds = outputs.unsqueeze(1) # [batch, channel(=1), sequence_length, embedding_size]\r\n",
        "        embeds = embeds.unsqueeze(3)\r\n",
        "        \r\n",
        "        conved = self.conv(embeds)\r\n",
        "        flatten = conved.view(BATCH_SIZE, -1)\r\n",
        "        y = self.out(flatten)\r\n",
        "\r\n",
        "        return y\r\n",
        "\r\n",
        "model = BiLSTM().to(DEVICE)\r\n",
        "loss_fc = nn.CrossEntropyLoss().to(DEVICE)\r\n",
        "optimizer = optim.Adam(model.parameters(), lr=LR)"
      ],
      "execution_count": 21,
      "outputs": []
    },
    {
      "cell_type": "markdown",
      "metadata": {
        "id": "gn2RO4WtHApK"
      },
      "source": [
        "# 训练"
      ]
    },
    {
      "cell_type": "code",
      "metadata": {
        "colab": {
          "base_uri": "https://localhost:8080/"
        },
        "id": "JSUkPCc-L2DN",
        "outputId": "2a27342a-10a5-4ed6-c4e8-6d120a6ea782"
      },
      "source": [
        "start = time.perf_counter()\r\n",
        "for epoch in range(EPOCHS):\r\n",
        "    for i, batch in enumerate(train_iter):\r\n",
        "        optimizer.zero_grad()\r\n",
        "        pred = model(batch.text)\r\n",
        "\t\r\n",
        "        loss = loss_fc(pred, batch.label)\r\n",
        "        loss.backward()\r\n",
        "        optimizer.step()\r\n",
        "        # if (i+1) % 50 == 0:\r\n",
        "        #     end = time.perf_counter()\r\n",
        "        #     print('Epoch: ', epoch, '| batch: ', (i+1)*8, '| train loss: %.4f' % loss, '| time: %.2f s' % (end-start))\r\n",
        "end = time.perf_counter()\r\n",
        "print('time: %.2f s' % (end-start))\r\n"
      ],
      "execution_count": 22,
      "outputs": [
        {
          "output_type": "stream",
          "text": [
            "time: 260.44 s\n"
          ],
          "name": "stdout"
        }
      ]
    },
    {
      "cell_type": "markdown",
      "metadata": {
        "id": "7wTIg4icHDo4"
      },
      "source": [
        "# 评估"
      ]
    },
    {
      "cell_type": "code",
      "metadata": {
        "colab": {
          "base_uri": "https://localhost:8080/"
        },
        "id": "9UWvl_k1L4Es",
        "outputId": "8aadd804-f9a6-41e8-ff85-1809da0ff5f1"
      },
      "source": [
        "true = 0.0\r\n",
        "all = 0.0\r\n",
        "for i, val_batch in enumerate(val_iter):\r\n",
        "    pred_y = torch.max(model(val_batch.text), 1)[1].cpu().data.numpy()\r\n",
        "    real_y = val_batch.label.cpu().data.numpy()\r\n",
        "    true += float((pred_y == real_y).astype(int).sum())\r\n",
        "    all += float(len(real_y))\r\n",
        "accuracy = true / all\r\n",
        "print(accuracy)\r\n"
      ],
      "execution_count": 23,
      "outputs": [
        {
          "output_type": "stream",
          "text": [
            "0.255\n"
          ],
          "name": "stdout"
        }
      ]
    },
    {
      "cell_type": "markdown",
      "metadata": {
        "id": "DyUmSVbeHGXT"
      },
      "source": [
        "# 预测"
      ]
    },
    {
      "cell_type": "code",
      "metadata": {
        "id": "pSLxbjUBL7Tm"
      },
      "source": [
        "# result=[['label']]\r\n",
        "# for i, test_batch in enumerate(test_iter):\r\n",
        "#     for label in torch.max(model(test_batch.text), 1)[1].cpu().data.numpy():\r\n",
        "#        result.append([label]) \r\n",
        "# with open(\"/content/drive/MyDrive/data/News classification/tmp/result.csv\", \"a\", newline='', encoding='utf-8') as file:\r\n",
        "#     writer = csv.writer(file ,delimiter=',')\r\n",
        "#     writer.writerows(result)"
      ],
      "execution_count": null,
      "outputs": []
    }
  ]
}