{
  "nbformat": 4,
  "nbformat_minor": 0,
  "metadata": {
    "colab": {
      "name": "frame",
      "provenance": [],
      "toc_visible": true
    },
    "kernelspec": {
      "name": "python3",
      "display_name": "Python 3"
    }
  },
  "cells": [
    {
      "cell_type": "markdown",
      "metadata": {
        "id": "XiaisMuqac6H"
      },
      "source": [
        "# 导包"
      ]
    },
    {
      "cell_type": "code",
      "metadata": {
        "id": "qMmnT3EtIPAG"
      },
      "source": [
        "import torch\r\n",
        "import numpy as np\r\n",
        "import torch.nn as nn\r\n",
        "import torch.optim as optim\r\n",
        "import torch.utils.data as Data"
      ],
      "execution_count": null,
      "outputs": []
    },
    {
      "cell_type": "markdown",
      "metadata": {
        "id": "61DCvzuramlz"
      },
      "source": [
        "# 定义参数"
      ]
    },
    {
      "cell_type": "code",
      "metadata": {
        "id": "TtfzpYZuarL0"
      },
      "source": [
        "LR = 0.01\r\n",
        "BATCH_SIZE = 32\r\n",
        "EPOCH = 12\r\n",
        "\r\n",
        "device = torch.device(\"cuda\" if torch.cuda.is_available() else \"cpu\")"
      ],
      "execution_count": null,
      "outputs": []
    },
    {
      "cell_type": "markdown",
      "metadata": {
        "id": "_cMSNjRMarpT"
      },
      "source": [
        "# 数据预处理"
      ]
    },
    {
      "cell_type": "code",
      "metadata": {
        "id": "-wVMI9wMawRE"
      },
      "source": [
        "def make_data():\r\n",
        "    pass\r\n",
        "\r\n",
        "input_batch, target_batch = make_data()\r\n",
        "input_data, output_data = torch.Tensor(input_data), torch.LongTensor(output_data)\r\n",
        "dataset = Data.TensorDataset(input_batch, target_batch)\r\n",
        "loader = Data.DataLoader(dataset, BATCH_SIZE, True)"
      ],
      "execution_count": null,
      "outputs": []
    },
    {
      "cell_type": "markdown",
      "metadata": {
        "id": "h1Z0yiE7awb8"
      },
      "source": [
        "# 定义模型"
      ]
    },
    {
      "cell_type": "code",
      "metadata": {
        "id": "3tdi70lxazX9"
      },
      "source": [
        "class MyModel(torch.nn.Module):\r\n",
        "    def __init__(self):\r\n",
        "        super(MyModel, self).__init__()\r\n",
        "        \r\n",
        "\r\n",
        "    def forward(self):\r\n",
        "        pass"
      ],
      "execution_count": null,
      "outputs": []
    },
    {
      "cell_type": "code",
      "metadata": {
        "id": "UHq6HRrXa2Ib"
      },
      "source": [
        "MyModel = torch.nn.Sequential(\r\n",
        "    \r\n",
        ")"
      ],
      "execution_count": null,
      "outputs": []
    },
    {
      "cell_type": "code",
      "metadata": {
        "id": "4u6ae61Ha25b"
      },
      "source": [
        "model = MyModel().to(device)\r\n",
        "loss_func = nn.CrossEntropyLoss().to(device)\r\n",
        "optimizer = optim.Adam(model.parameters(), lr=LR)"
      ],
      "execution_count": null,
      "outputs": []
    },
    {
      "cell_type": "markdown",
      "metadata": {
        "id": "G0reEk-6ayqT"
      },
      "source": [
        "# 训练"
      ]
    },
    {
      "cell_type": "code",
      "metadata": {
        "id": "k6fsM9wHa4rM"
      },
      "source": [
        "for epoch in range(EPOCH):\r\n",
        "    for step, (batch_x, batch_y) in enumerate(loader):\r\n",
        "      batch_x, batch_y = batch_x.to(device), batch_y.to(device)\r\n",
        "      pred = model(batch_x)\r\n",
        "      loss = loss_func(pred, batch_y)\r\n",
        "      \r\n",
        "      if (epoch + 1) % 2500 == 0:\r\n",
        "          print('Epoch:', '%04d' % (epoch + 1), 'cost =', '{:.6f}'.format(loss))\r\n",
        "\r\n",
        "      optimizer.zero_grad()\r\n",
        "      loss.backward()\r\n",
        "      optimizer.step()"
      ],
      "execution_count": null,
      "outputs": []
    },
    {
      "cell_type": "markdown",
      "metadata": {
        "id": "Iww9DsNPa49j"
      },
      "source": [
        "# 测试"
      ]
    },
    {
      "cell_type": "code",
      "metadata": {
        "id": "7ryZKijIa6p7"
      },
      "source": [
        ""
      ],
      "execution_count": null,
      "outputs": []
    }
  ]
}