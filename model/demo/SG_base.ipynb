{
  "nbformat": 4,
  "nbformat_minor": 0,
  "metadata": {
    "colab": {
      "name": "SG_base.ipynb",
      "provenance": [],
      "collapsed_sections": []
    },
    "kernelspec": {
      "name": "python3",
      "display_name": "Python 3"
    }
  },
  "cells": [
    {
      "cell_type": "markdown",
      "metadata": {
        "id": "xftVdWDBgC2x"
      },
      "source": [
        "# 导包"
      ]
    },
    {
      "cell_type": "code",
      "metadata": {
        "id": "zT0sJ7TIbinF"
      },
      "source": [
        "import torch\r\n",
        "import numpy as np\r\n",
        "import torch.nn as nn\r\n",
        "import torch.optim as optim\r\n",
        "import matplotlib.pyplot as plt\r\n",
        "import torch.utils.data as Data\r\n",
        "\r\n",
        "dtype = torch.FloatTensor\r\n",
        "device = torch.device(\"cuda\" if torch.cuda.is_available() else \"cpu\")"
      ],
      "execution_count": null,
      "outputs": []
    },
    {
      "cell_type": "markdown",
      "metadata": {
        "id": "LJoQ53OygQAe"
      },
      "source": [
        "# 文本预处理"
      ]
    },
    {
      "cell_type": "code",
      "metadata": {
        "id": "_A9NM2HjgL-O"
      },
      "source": [
        "sentences = [\"jack like dog\", \"jack like cat\", \"jack like animal\",\r\n",
        "  \"dog cat animal\", \"banana apple cat dog like\", \"dog fish milk like\",\r\n",
        "  \"dog cat animal like\", \"jack like apple\", \"apple like\", \"jack like banana\",\r\n",
        "  \"apple banana jack movie book music like\", \"cat dog hate\", \"cat dog like\"]\r\n",
        "\r\n",
        "word_sequence = \" \".join(sentences).split() # 转为列表\r\n",
        "vocab = list(set(word_sequence)) # 去重\r\n",
        "word2idx = {w: i for i, w in enumerate(vocab)} # 添加索引"
      ],
      "execution_count": null,
      "outputs": []
    },
    {
      "cell_type": "code",
      "metadata": {
        "id": "fAhZWWzVk6gZ"
      },
      "source": [
        "# print(word_sequence)\r\n",
        "# print(vocab)\r\n",
        "# print(word2idx)"
      ],
      "execution_count": null,
      "outputs": []
    },
    {
      "cell_type": "markdown",
      "metadata": {
        "id": "7cy5sLqLhJgq"
      },
      "source": [
        "# 模型相关参数"
      ]
    },
    {
      "cell_type": "code",
      "metadata": {
        "id": "UXTuDmo0hITf"
      },
      "source": [
        "batch_size = 8\r\n",
        "embedding_size = 2  # 词向量维度\r\n",
        "C = 2 # 窗口大小\r\n",
        "voc_size = len(vocab)"
      ],
      "execution_count": null,
      "outputs": []
    },
    {
      "cell_type": "markdown",
      "metadata": {
        "id": "mILmWjB6h8d_"
      },
      "source": [
        "# 数据预处理"
      ]
    },
    {
      "cell_type": "code",
      "metadata": {
        "id": "_J9FwDMpiGbx"
      },
      "source": [
        "# 构建[中心词，上下文]对\r\n",
        "skip_grams = []\r\n",
        "for idx in range(C, len(word_sequence) - C):\r\n",
        "  center = word2idx[word_sequence[idx]] # 中心词索引\r\n",
        "  context_idx = list(range(idx - C, idx)) + list(range(idx + 1, idx + C + 1)) # context word idx\r\n",
        "  context = [word2idx[word_sequence[i]] for i in context_idx]\r\n",
        "  for w in context:\r\n",
        "    skip_grams.append([center, w])\r\n"
      ],
      "execution_count": null,
      "outputs": []
    },
    {
      "cell_type": "code",
      "metadata": {
        "id": "ktvGNcDslT7n"
      },
      "source": [
        "# print(skip_grams)"
      ],
      "execution_count": null,
      "outputs": []
    },
    {
      "cell_type": "code",
      "metadata": {
        "id": "IU-BhHsXmUiL"
      },
      "source": [
        "# 构建输入输出的one-hot（可以转变为CBOW）\r\n",
        "def make_data(skip_grams):\r\n",
        "  input_data = []\r\n",
        "  output_data = []\r\n",
        "  for i in range(len(skip_grams)):\r\n",
        "    input_data.append(np.eye(voc_size)[skip_grams[i][0]]) # np.eye()生成对角矩阵\r\n",
        "    output_data.append(skip_grams[i][1]) # 输出不用one-hot\r\n",
        "  return input_data, output_data"
      ],
      "execution_count": null,
      "outputs": []
    },
    {
      "cell_type": "code",
      "metadata": {
        "id": "Pxtkw3WWmW2n"
      },
      "source": [
        "# 准备批处理\r\n",
        "input_data, output_data = make_data(skip_grams)\r\n",
        "input_data, output_data = torch.Tensor(input_data), torch.LongTensor(output_data)\r\n",
        "dataset = Data.TensorDataset(input_data, output_data)\r\n",
        "loader = Data.DataLoader(dataset, batch_size, True)"
      ],
      "execution_count": null,
      "outputs": []
    },
    {
      "cell_type": "code",
      "metadata": {
        "id": "iGgivaN_pBbA"
      },
      "source": [
        "# print(input_data.shape,output_data.shape)"
      ],
      "execution_count": null,
      "outputs": []
    },
    {
      "cell_type": "markdown",
      "metadata": {
        "id": "vDZ4KvgKnK7n"
      },
      "source": [
        "# 构建模型"
      ]
    },
    {
      "cell_type": "code",
      "metadata": {
        "id": "AdGh24i3nMVA"
      },
      "source": [
        "class Word2Vec(nn.Module):\r\n",
        "  def __init__(self):\r\n",
        "    super(Word2Vec, self).__init__()\r\n",
        "\r\n",
        "    # W and V is not Traspose relationship\r\n",
        "    self.W = nn.Parameter(torch.randn(voc_size, embedding_size).type(dtype))\r\n",
        "    self.V = nn.Parameter(torch.randn(embedding_size, voc_size).type(dtype))\r\n",
        "\r\n",
        "  def forward(self, X):\r\n",
        "    # X : [batch_size, voc_size] one-hot\r\n",
        "    # torch.mm only for 2 dim matrix, but torch.matmul can use to any dim\r\n",
        "    hidden_layer = torch.matmul(X, self.W) # hidden_layer : [batch_size, embedding_size]\r\n",
        "    output_layer = torch.matmul(hidden_layer, self.V) # output_layer : [batch_size, voc_size]\r\n",
        "    return output_layer\r\n",
        "\r\n",
        "model = Word2Vec().to(device)\r\n",
        "criterion = nn.CrossEntropyLoss().to(device)\r\n",
        "optimizer = optim.Adam(model.parameters(), lr=1e-3)"
      ],
      "execution_count": null,
      "outputs": []
    },
    {
      "cell_type": "markdown",
      "metadata": {
        "id": "gcnak1CSoP_K"
      },
      "source": [
        "# 训练"
      ]
    },
    {
      "cell_type": "code",
      "metadata": {
        "colab": {
          "base_uri": "https://localhost:8080/"
        },
        "id": "skR8gMKOoRW9",
        "outputId": "86aaf85d-00f0-4a24-b4fb-cf0385ab38f5"
      },
      "source": [
        "for epoch in range(2000):\r\n",
        "  for i, (batch_x, batch_y) in enumerate(loader):\r\n",
        "    batch_x = batch_x.to(device)\r\n",
        "    batch_y = batch_y.to(device)\r\n",
        "    pred = model(batch_x)\r\n",
        "    loss = criterion(pred, batch_y)\r\n",
        "    \r\n",
        "    optimizer.zero_grad()\r\n",
        "    loss.backward()\r\n",
        "    optimizer.step()\r\n",
        "  if epoch % 100 == 0:\r\n",
        "     print(epoch, loss.item())"
      ],
      "execution_count": null,
      "outputs": [
        {
          "output_type": "stream",
          "text": [
            "0 2.636781692504883\n",
            "100 2.5256502628326416\n",
            "200 2.244569778442383\n",
            "300 2.2515273094177246\n",
            "400 2.2990562915802\n",
            "500 1.847149133682251\n",
            "600 1.6601660251617432\n",
            "700 2.2679362297058105\n",
            "800 1.9816515445709229\n",
            "900 1.8822674751281738\n",
            "1000 1.9135830402374268\n",
            "1100 2.3997395038604736\n",
            "1200 2.052896022796631\n",
            "1300 1.995782732963562\n",
            "1400 1.6866400241851807\n",
            "1500 2.2813127040863037\n",
            "1600 2.13763689994812\n",
            "1700 1.6265262365341187\n",
            "1800 1.8197742700576782\n",
            "1900 1.9625627994537354\n"
          ],
          "name": "stdout"
        }
      ]
    },
    {
      "cell_type": "markdown",
      "metadata": {
        "id": "fI0pu5THqXjS"
      },
      "source": [
        "# 可视化"
      ]
    },
    {
      "cell_type": "code",
      "metadata": {
        "colab": {
          "base_uri": "https://localhost:8080/"
        },
        "id": "-lRJgbhVqaUS",
        "outputId": "79b60b74-3b5e-44a2-c1d3-c9abe2ac487f"
      },
      "source": [
        "for i, label in enumerate(vocab):\r\n",
        "  W, WT = model.parameters()\r\n",
        "  x,y = float(W[i][0]), float(W[i][1])\r\n",
        "  plt.scatter(x, y)\r\n",
        "  plt.annotate(label, xy=(x, y), xytext=(5, 2), textcoords='offset points', ha='right', va='bottom')\r\n",
        "plt.show()"
      ],
      "execution_count": null,
      "outputs": [
        {
          "output_type": "display_data",
          "data": {
            "image/png": "[encoded data removed]",
            "text/plain": [
              "<Figure size 432x288 with 1 Axes>"
            ]
          },
          "metadata": {
            "tags": [],
            "needs_background": "light"
          }
        }
      ]
    }
  ]
}