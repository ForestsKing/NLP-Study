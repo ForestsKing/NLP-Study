{
  "nbformat": 4,
  "nbformat_minor": 0,
  "metadata": {
    "colab": {
      "name": "Seq2Seq(Attention).ipynb",
      "provenance": [],
      "toc_visible": true
    },
    "kernelspec": {
      "name": "python3",
      "display_name": "Python 3"
    },
    "accelerator": "GPU"
  },
  "cells": [
    {
      "cell_type": "markdown",
      "metadata": {
        "id": "LTkVzJwd48dz"
      },
      "source": [
        "# 背景\r\n",
        "实现简单的机器翻译任务"
      ]
    },
    {
      "cell_type": "markdown",
      "metadata": {
        "id": "swdIWy5fESnz"
      },
      "source": [
        "# 导包"
      ]
    },
    {
      "cell_type": "code",
      "metadata": {
        "id": "pte5Ve6D4zGm"
      },
      "source": [
        "import torch\r\n",
        "import torch.nn as nn\r\n",
        "import torch.optim as optim\r\n",
        "import torch.nn.functional as F\r\n",
        "\r\n",
        "from torchtext.datasets import Multi30k\r\n",
        "from torchtext.data import Field, BucketIterator\r\n",
        "\r\n",
        "import spacy\r\n",
        "import numpy as np\r\n",
        "\r\n",
        "import random\r\n",
        "import math\r\n",
        "import time"
      ],
      "execution_count": 1,
      "outputs": []
    },
    {
      "cell_type": "markdown",
      "metadata": {
        "id": "mhMu_1I-NzhD"
      },
      "source": [
        "# 下载资源"
      ]
    },
    {
      "cell_type": "code",
      "metadata": {
        "colab": {
          "base_uri": "https://localhost:8080/"
        },
        "id": "gK2qtK0yDZlx",
        "outputId": "a3238bc3-b442-4fbb-e816-3ddda00988c8"
      },
      "source": [
        "! python -m spacy download de\r\n",
        "spacy_de = spacy.load('de')\r\n",
        "spacy_en = spacy.load('en')"
      ],
      "execution_count": 2,
      "outputs": [
        {
          "output_type": "stream",
          "text": [
            "Collecting de_core_news_sm==2.2.5\n",
            "\u001b[?25l  Downloading https://github.com/explosion/spacy-models/releases/download/de_core_news_sm-2.2.5/de_core_news_sm-2.2.5.tar.gz (14.9MB)\n",
            "\u001b[K     |████████████████████████████████| 14.9MB 5.6MB/s \n",
            "\u001b[?25hRequirement already satisfied: spacy>=2.2.2 in /usr/local/lib/python3.6/dist-packages (from de_core_news_sm==2.2.5) (2.2.4)\n",
            "Requirement already satisfied: blis<0.5.0,>=0.4.0 in /usr/local/lib/python3.6/dist-packages (from spacy>=2.2.2->de_core_news_sm==2.2.5) (0.4.1)\n",
            "Requirement already satisfied: catalogue<1.1.0,>=0.0.7 in /usr/local/lib/python3.6/dist-packages (from spacy>=2.2.2->de_core_news_sm==2.2.5) (1.0.0)\n",
            "Requirement already satisfied: thinc==7.4.0 in /usr/local/lib/python3.6/dist-packages (from spacy>=2.2.2->de_core_news_sm==2.2.5) (7.4.0)\n",
            "Requirement already satisfied: numpy>=1.15.0 in /usr/local/lib/python3.6/dist-packages (from spacy>=2.2.2->de_core_news_sm==2.2.5) (1.19.5)\n",
            "Requirement already satisfied: srsly<1.1.0,>=1.0.2 in /usr/local/lib/python3.6/dist-packages (from spacy>=2.2.2->de_core_news_sm==2.2.5) (1.0.5)\n",
            "Requirement already satisfied: cymem<2.1.0,>=2.0.2 in /usr/local/lib/python3.6/dist-packages (from spacy>=2.2.2->de_core_news_sm==2.2.5) (2.0.5)\n",
            "Requirement already satisfied: preshed<3.1.0,>=3.0.2 in /usr/local/lib/python3.6/dist-packages (from spacy>=2.2.2->de_core_news_sm==2.2.5) (3.0.5)\n",
            "Requirement already satisfied: setuptools in /usr/local/lib/python3.6/dist-packages (from spacy>=2.2.2->de_core_news_sm==2.2.5) (53.0.0)\n",
            "Requirement already satisfied: tqdm<5.0.0,>=4.38.0 in /usr/local/lib/python3.6/dist-packages (from spacy>=2.2.2->de_core_news_sm==2.2.5) (4.41.1)\n",
            "Requirement already satisfied: requests<3.0.0,>=2.13.0 in /usr/local/lib/python3.6/dist-packages (from spacy>=2.2.2->de_core_news_sm==2.2.5) (2.23.0)\n",
            "Requirement already satisfied: wasabi<1.1.0,>=0.4.0 in /usr/local/lib/python3.6/dist-packages (from spacy>=2.2.2->de_core_news_sm==2.2.5) (0.8.2)\n",
            "Requirement already satisfied: murmurhash<1.1.0,>=0.28.0 in /usr/local/lib/python3.6/dist-packages (from spacy>=2.2.2->de_core_news_sm==2.2.5) (1.0.5)\n",
            "Requirement already satisfied: plac<1.2.0,>=0.9.6 in /usr/local/lib/python3.6/dist-packages (from spacy>=2.2.2->de_core_news_sm==2.2.5) (1.1.3)\n",
            "Requirement already satisfied: importlib-metadata>=0.20; python_version < \"3.8\" in /usr/local/lib/python3.6/dist-packages (from catalogue<1.1.0,>=0.0.7->spacy>=2.2.2->de_core_news_sm==2.2.5) (3.4.0)\n",
            "Requirement already satisfied: chardet<4,>=3.0.2 in /usr/local/lib/python3.6/dist-packages (from requests<3.0.0,>=2.13.0->spacy>=2.2.2->de_core_news_sm==2.2.5) (3.0.4)\n",
            "Requirement already satisfied: certifi>=2017.4.17 in /usr/local/lib/python3.6/dist-packages (from requests<3.0.0,>=2.13.0->spacy>=2.2.2->de_core_news_sm==2.2.5) (2020.12.5)\n",
            "Requirement already satisfied: urllib3!=1.25.0,!=1.25.1,<1.26,>=1.21.1 in /usr/local/lib/python3.6/dist-packages (from requests<3.0.0,>=2.13.0->spacy>=2.2.2->de_core_news_sm==2.2.5) (1.24.3)\n",
            "Requirement already satisfied: idna<3,>=2.5 in /usr/local/lib/python3.6/dist-packages (from requests<3.0.0,>=2.13.0->spacy>=2.2.2->de_core_news_sm==2.2.5) (2.10)\n",
            "Requirement already satisfied: typing-extensions>=3.6.4; python_version < \"3.8\" in /usr/local/lib/python3.6/dist-packages (from importlib-metadata>=0.20; python_version < \"3.8\"->catalogue<1.1.0,>=0.0.7->spacy>=2.2.2->de_core_news_sm==2.2.5) (3.7.4.3)\n",
            "Requirement already satisfied: zipp>=0.5 in /usr/local/lib/python3.6/dist-packages (from importlib-metadata>=0.20; python_version < \"3.8\"->catalogue<1.1.0,>=0.0.7->spacy>=2.2.2->de_core_news_sm==2.2.5) (3.4.0)\n",
            "Building wheels for collected packages: de-core-news-sm\n",
            "  Building wheel for de-core-news-sm (setup.py) ... \u001b[?25l\u001b[?25hdone\n",
            "  Created wheel for de-core-news-sm: filename=de_core_news_sm-2.2.5-cp36-none-any.whl size=14907057 sha256=7f34690866a8e45898316eef1ffdb6624206bb652eaf0d8f27637ce3d67f9d22\n",
            "  Stored in directory: /tmp/pip-ephem-wheel-cache-2v39vv64/wheels/ba/3f/ed/d4aa8e45e7191b7f32db4bfad565e7da1edbf05c916ca7a1ca\n",
            "Successfully built de-core-news-sm\n",
            "Installing collected packages: de-core-news-sm\n",
            "Successfully installed de-core-news-sm-2.2.5\n",
            "\u001b[38;5;2m✔ Download and installation successful\u001b[0m\n",
            "You can now load the model via spacy.load('de_core_news_sm')\n",
            "\u001b[38;5;2m✔ Linking successful\u001b[0m\n",
            "/usr/local/lib/python3.6/dist-packages/de_core_news_sm -->\n",
            "/usr/local/lib/python3.6/dist-packages/spacy/data/de\n",
            "You can now load the model via spacy.load('de')\n"
          ],
          "name": "stdout"
        }
      ]
    },
    {
      "cell_type": "markdown",
      "metadata": {
        "id": "SX4OOPV8OD1p"
      },
      "source": [
        "# 固定随机数种子"
      ]
    },
    {
      "cell_type": "code",
      "metadata": {
        "id": "RKkwGKPhDW-r"
      },
      "source": [
        "SEED = 1234\r\n",
        "\r\n",
        "random.seed(SEED)\r\n",
        "np.random.seed(SEED)\r\n",
        "torch.manual_seed(SEED)\r\n",
        "torch.cuda.manual_seed(SEED)\r\n",
        "torch.backends.cudnn.deterministic = True\r\n",
        "\r\n",
        "# Define the device.\r\n",
        "device = torch.device('cuda' if torch.cuda.is_available() else 'cpu')"
      ],
      "execution_count": 3,
      "outputs": []
    },
    {
      "cell_type": "markdown",
      "metadata": {
        "id": "w7WMsDmFQd9A"
      },
      "source": [
        "# 预处理数据"
      ]
    },
    {
      "cell_type": "code",
      "metadata": {
        "id": "Lbwkp0g7Df15"
      },
      "source": [
        "#  create the tokenizers.\r\n",
        "def tokenize_de(text):\r\n",
        "    # Tokenizes German text from a string into a list of strings\r\n",
        "    return [tok.text for tok in spacy_de.tokenizer(text)]\r\n",
        "\r\n",
        "def tokenize_en(text):\r\n",
        "    # Tokenizes English text from a string into a list of strings\r\n",
        "    return [tok.text for tok in spacy_en.tokenizer(text)]"
      ],
      "execution_count": 4,
      "outputs": []
    },
    {
      "cell_type": "code",
      "metadata": {
        "id": "i8eGFZw2Djt-"
      },
      "source": [
        "# The fields remain the same as before.\r\n",
        "SRC = Field(tokenize = tokenize_de, \r\n",
        "            init_token = '<sos>', \r\n",
        "            eos_token = '<eos>', \r\n",
        "            lower = True)\r\n",
        "\r\n",
        "TRG = Field(tokenize = tokenize_en, \r\n",
        "            init_token = '<sos>', \r\n",
        "            eos_token = '<eos>', \r\n",
        "            lower = True)"
      ],
      "execution_count": 5,
      "outputs": []
    },
    {
      "cell_type": "code",
      "metadata": {
        "colab": {
          "base_uri": "https://localhost:8080/"
        },
        "id": "3i8bsSDjQcha",
        "outputId": "f48411a6-c5ce-42ff-e09c-1376b044c605"
      },
      "source": [
        "# Load the data.\r\n",
        "train_data, valid_data, test_data = Multi30k.splits(exts = ('.de', '.en'),fields = (SRC, TRG))"
      ],
      "execution_count": 6,
      "outputs": [
        {
          "output_type": "stream",
          "text": [
            "downloading training.tar.gz\n"
          ],
          "name": "stdout"
        },
        {
          "output_type": "stream",
          "text": [
            "training.tar.gz: 100%|██████████| 1.21M/1.21M [00:03<00:00, 317kB/s]\n"
          ],
          "name": "stderr"
        },
        {
          "output_type": "stream",
          "text": [
            "downloading validation.tar.gz\n"
          ],
          "name": "stdout"
        },
        {
          "output_type": "stream",
          "text": [
            "validation.tar.gz: 100%|██████████| 46.3k/46.3k [00:00<00:00, 90.2kB/s]\n"
          ],
          "name": "stderr"
        },
        {
          "output_type": "stream",
          "text": [
            "downloading mmt_task1_test2016.tar.gz\n"
          ],
          "name": "stdout"
        },
        {
          "output_type": "stream",
          "text": [
            "mmt_task1_test2016.tar.gz: 100%|██████████| 66.2k/66.2k [00:00<00:00, 87.1kB/s]\n"
          ],
          "name": "stderr"
        }
      ]
    },
    {
      "cell_type": "code",
      "metadata": {
        "id": "qF-H--USDm2R"
      },
      "source": [
        "# Build the vocabulary.\r\n",
        "SRC.build_vocab(train_data, min_freq = 2)\r\n",
        "TRG.build_vocab(train_data, min_freq = 2)"
      ],
      "execution_count": 7,
      "outputs": []
    },
    {
      "cell_type": "code",
      "metadata": {
        "id": "zhVYuH6EDov7"
      },
      "source": [
        "# Create the iterators.\r\n",
        "BATCH_SIZE = 128\r\n",
        "train_iterator, valid_iterator, test_iterator = BucketIterator.splits(\r\n",
        "    (train_data, valid_data, test_data), \r\n",
        "    batch_size = BATCH_SIZE,\r\n",
        "    device = device)"
      ],
      "execution_count": 8,
      "outputs": []
    },
    {
      "cell_type": "markdown",
      "metadata": {
        "id": "ABbFu1qrR5UJ"
      },
      "source": [
        "# 编码器\r\n",
        "单层双向GRU"
      ]
    },
    {
      "cell_type": "code",
      "metadata": {
        "id": "nbk-gsc1DyH5"
      },
      "source": [
        "class Encoder(nn.Module):\r\n",
        "    def __init__(self, input_dim, emb_dim, enc_hid_dim, dec_hid_dim, dropout):\r\n",
        "        super().__init__()\r\n",
        "        self.embedding = nn.Embedding(input_dim, emb_dim)\r\n",
        "        self.rnn = nn.GRU(emb_dim, enc_hid_dim, bidirectional = True)\r\n",
        "        self.fc = nn.Linear(enc_hid_dim * 2, dec_hid_dim)\r\n",
        "        self.dropout = nn.Dropout(dropout)\r\n",
        "        \r\n",
        "    def forward(self, src): \r\n",
        "        '''\r\n",
        "        src = [src_len, batch_size]\r\n",
        "        '''\r\n",
        "        src = src.transpose(0, 1) # src = [batch_size, src_len]\r\n",
        "        embedded = self.dropout(self.embedding(src)).transpose(0, 1) # embedded = [src_len, batch_size, emb_dim]\r\n",
        "        \r\n",
        "        # enc_output = [src_len, batch_size, hid_dim * num_directions]\r\n",
        "        # enc_hidden = [n_layers * num_directions, batch_size, hid_dim]\r\n",
        "        enc_output, enc_hidden = self.rnn(embedded) # if h_0 is not give, it will be set 0 acquiescently\r\n",
        "\r\n",
        "        # enc_hidden is stacked [forward_1, backward_1, forward_2, backward_2, ...]\r\n",
        "        # enc_output are always from the last layer\r\n",
        "        \r\n",
        "        # enc_hidden [-2, :, : ] is the last of the forwards RNN \r\n",
        "        # enc_hidden [-1, :, : ] is the last of the backwards RNN\r\n",
        "        \r\n",
        "        # initial decoder hidden is final hidden state of the forwards and backwards \r\n",
        "        # encoder RNNs fed through a linear layer\r\n",
        "        # s = [batch_size, dec_hid_dim]\r\n",
        "        s = torch.tanh(self.fc(torch.cat((enc_hidden[-2,:,:], enc_hidden[-1,:,:]), dim = 1)))\r\n",
        "        \r\n",
        "        return enc_output, s"
      ],
      "execution_count": 9,
      "outputs": []
    },
    {
      "cell_type": "markdown",
      "metadata": {
        "id": "8G7M-WhUV_fo"
      },
      "source": [
        "# 注意力层"
      ]
    },
    {
      "cell_type": "code",
      "metadata": {
        "id": "qyXpsWvXDyla"
      },
      "source": [
        "class Attention(nn.Module):\r\n",
        "    def __init__(self, enc_hid_dim, dec_hid_dim):\r\n",
        "        super().__init__()\r\n",
        "        self.attn = nn.Linear((enc_hid_dim * 2) + dec_hid_dim, dec_hid_dim, bias=False)\r\n",
        "        self.v = nn.Linear(dec_hid_dim, 1, bias = False)\r\n",
        "        \r\n",
        "    def forward(self, s, enc_output):\r\n",
        "        \r\n",
        "        # s = [batch_size, dec_hid_dim]\r\n",
        "        # enc_output = [src_len, batch_size, enc_hid_dim * 2]\r\n",
        "        \r\n",
        "        batch_size = enc_output.shape[1]\r\n",
        "        src_len = enc_output.shape[0]\r\n",
        "        \r\n",
        "        # repeat decoder hidden state src_len times\r\n",
        "        # s = [batch_size, src_len, dec_hid_dim]\r\n",
        "        # enc_output = [batch_size, src_len, enc_hid_dim * 2]\r\n",
        "        s = s.unsqueeze(1).repeat(1, src_len, 1)\r\n",
        "        enc_output = enc_output.transpose(0, 1)\r\n",
        "        \r\n",
        "        # energy = [batch_size, src_len, dec_hid_dim]\r\n",
        "        energy = torch.tanh(self.attn(torch.cat((s, enc_output), dim = 2)))\r\n",
        "        \r\n",
        "        # attention = [batch_size, src_len]\r\n",
        "        attention = self.v(energy).squeeze(2)\r\n",
        "        \r\n",
        "        return F.softmax(attention, dim=1)"
      ],
      "execution_count": 10,
      "outputs": []
    },
    {
      "cell_type": "markdown",
      "metadata": {
        "id": "Og4nd-qvW98u"
      },
      "source": [
        "# 解码器"
      ]
    },
    {
      "cell_type": "code",
      "metadata": {
        "id": "0JbGG-hJD1AD"
      },
      "source": [
        "class Decoder(nn.Module):\r\n",
        "    def __init__(self, output_dim, emb_dim, enc_hid_dim, dec_hid_dim, dropout, attention):\r\n",
        "        super().__init__()\r\n",
        "        self.output_dim = output_dim\r\n",
        "        self.attention = attention\r\n",
        "        self.embedding = nn.Embedding(output_dim, emb_dim)\r\n",
        "        self.rnn = nn.GRU((enc_hid_dim * 2) + emb_dim, dec_hid_dim)\r\n",
        "        self.fc_out = nn.Linear((enc_hid_dim * 2) + dec_hid_dim + emb_dim, output_dim)\r\n",
        "        self.dropout = nn.Dropout(dropout)\r\n",
        "        \r\n",
        "    def forward(self, dec_input, s, enc_output):\r\n",
        "             \r\n",
        "        # dec_input = [batch_size]\r\n",
        "        # s = [batch_size, dec_hid_dim]\r\n",
        "        # enc_output = [src_len, batch_size, enc_hid_dim * 2]\r\n",
        "        \r\n",
        "        dec_input = dec_input.unsqueeze(1) # dec_input = [batch_size, 1]\r\n",
        "        \r\n",
        "        embedded = self.dropout(self.embedding(dec_input)).transpose(0, 1) # embedded = [1, batch_size, emb_dim]\r\n",
        "        \r\n",
        "        # a = [batch_size, 1, src_len]  \r\n",
        "        a = self.attention(s, enc_output).unsqueeze(1)\r\n",
        "        \r\n",
        "        # enc_output = [batch_size, src_len, enc_hid_dim * 2]\r\n",
        "        enc_output = enc_output.transpose(0, 1)\r\n",
        "\r\n",
        "        # c = [1, batch_size, enc_hid_dim * 2]\r\n",
        "        c = torch.bmm(a, enc_output).transpose(0, 1)\r\n",
        "\r\n",
        "        # rnn_input = [1, batch_size, (enc_hid_dim * 2) + emb_dim]\r\n",
        "        rnn_input = torch.cat((embedded, c), dim = 2)\r\n",
        "            \r\n",
        "        # dec_output = [src_len(=1), batch_size, dec_hid_dim]\r\n",
        "        # dec_hidden = [n_layers * num_directions, batch_size, dec_hid_dim]\r\n",
        "        dec_output, dec_hidden = self.rnn(rnn_input, s.unsqueeze(0))\r\n",
        "        \r\n",
        "        # embedded = [batch_size, emb_dim]\r\n",
        "        # dec_output = [batch_size, dec_hid_dim]\r\n",
        "        # c = [batch_size, enc_hid_dim * 2]\r\n",
        "        embedded = embedded.squeeze(0)\r\n",
        "        dec_output = dec_output.squeeze(0)\r\n",
        "        c = c.squeeze(0)\r\n",
        "        \r\n",
        "        # pred = [batch_size, output_dim]\r\n",
        "        pred = self.fc_out(torch.cat((dec_output, c, embedded), dim = 1))\r\n",
        "        \r\n",
        "        return pred, dec_hidden.squeeze(0)"
      ],
      "execution_count": 11,
      "outputs": []
    },
    {
      "cell_type": "markdown",
      "metadata": {
        "id": "pt4kjlv3XPgA"
      },
      "source": [
        "# 构建模型"
      ]
    },
    {
      "cell_type": "code",
      "metadata": {
        "id": "CO7HyP4ED3ki"
      },
      "source": [
        "class Seq2Seq(nn.Module):\r\n",
        "    def __init__(self, encoder, decoder, device):\r\n",
        "        super().__init__()\r\n",
        "        self.encoder = encoder\r\n",
        "        self.decoder = decoder\r\n",
        "        self.device = device\r\n",
        "        \r\n",
        "    def forward(self, src, trg, teacher_forcing_ratio = 0.5):\r\n",
        "        \r\n",
        "        # src = [src_len, batch_size]\r\n",
        "        # trg = [trg_len, batch_size]\r\n",
        "        # teacher_forcing_ratio is probability to use teacher forcing\r\n",
        "        \r\n",
        "        batch_size = src.shape[1]\r\n",
        "        trg_len = trg.shape[0]\r\n",
        "        trg_vocab_size = self.decoder.output_dim\r\n",
        "        \r\n",
        "        # tensor to store decoder outputs\r\n",
        "        outputs = torch.zeros(trg_len, batch_size, trg_vocab_size).to(self.device)\r\n",
        "        \r\n",
        "        # enc_output is all hidden states of the input sequence, back and forwards\r\n",
        "        # s is the final forward and backward hidden states, passed through a linear layer\r\n",
        "        enc_output, s = self.encoder(src)\r\n",
        "                \r\n",
        "        # first input to the decoder is the <sos> tokens\r\n",
        "        dec_input = trg[0,:]\r\n",
        "        \r\n",
        "        for t in range(1, trg_len):\r\n",
        "            \r\n",
        "            # insert dec_input token embedding, previous hidden state and all encoder hidden states\r\n",
        "            # receive output tensor (predictions) and new hidden state\r\n",
        "            dec_output, s = self.decoder(dec_input, s, enc_output)\r\n",
        "            \r\n",
        "            # place predictions in a tensor holding predictions for each token\r\n",
        "            outputs[t] = dec_output\r\n",
        "            \r\n",
        "            # decide if we are going to use teacher forcing or not\r\n",
        "            teacher_force = random.random() < teacher_forcing_ratio\r\n",
        "            \r\n",
        "            # get the highest predicted token from our predictions\r\n",
        "            top1 = dec_output.argmax(1) \r\n",
        "            \r\n",
        "            # if teacher forcing, use actual next token as next input\r\n",
        "            # if not, use predicted token\r\n",
        "            dec_input = trg[t] if teacher_force else top1\r\n",
        "\r\n",
        "        return outputs"
      ],
      "execution_count": 12,
      "outputs": []
    },
    {
      "cell_type": "markdown",
      "metadata": {
        "id": "dw0fdUE0XtiO"
      },
      "source": [
        "# 训练模型"
      ]
    },
    {
      "cell_type": "code",
      "metadata": {
        "id": "YfkfFaJlD6sT"
      },
      "source": [
        "\r\n",
        "INPUT_DIM = len(SRC.vocab)\r\n",
        "OUTPUT_DIM = len(TRG.vocab)\r\n",
        "ENC_EMB_DIM = 256\r\n",
        "DEC_EMB_DIM = 256\r\n",
        "ENC_HID_DIM = 512\r\n",
        "DEC_HID_DIM = 512\r\n",
        "ENC_DROPOUT = 0.5\r\n",
        "DEC_DROPOUT = 0.5\r\n",
        "\r\n",
        "attn = Attention(ENC_HID_DIM, DEC_HID_DIM)\r\n",
        "enc = Encoder(INPUT_DIM, ENC_EMB_DIM, ENC_HID_DIM, DEC_HID_DIM, ENC_DROPOUT)\r\n",
        "dec = Decoder(OUTPUT_DIM, DEC_EMB_DIM, ENC_HID_DIM, DEC_HID_DIM, DEC_DROPOUT, attn)\r\n",
        "\r\n",
        "model = Seq2Seq(enc, dec, device).to(device)\r\n",
        "TRG_PAD_IDX = TRG.vocab.stoi[TRG.pad_token]\r\n",
        "criterion = nn.CrossEntropyLoss(ignore_index = TRG_PAD_IDX).to(device)\r\n",
        "optimizer = optim.Adam(model.parameters(), lr=1e-3)"
      ],
      "execution_count": 13,
      "outputs": []
    },
    {
      "cell_type": "code",
      "metadata": {
        "id": "E-y57O0_D9BD"
      },
      "source": [
        "def train(model, iterator, optimizer, criterion):\r\n",
        "    model.train()    \r\n",
        "    epoch_loss = 0\r\n",
        "    for i, batch in enumerate(iterator):\r\n",
        "        src = batch.src\r\n",
        "        trg = batch.trg # trg = [trg_len, batch_size]\r\n",
        "\r\n",
        "        # pred = [trg_len, batch_size, pred_dim]\r\n",
        "        pred = model(src, trg)\r\n",
        "        \r\n",
        "        pred_dim = pred.shape[-1]\r\n",
        "        \r\n",
        "        # trg = [(trg len - 1) * batch size]\r\n",
        "        # pred = [(trg len - 1) * batch size, pred_dim]\r\n",
        "        trg = trg[1:].view(-1)\r\n",
        "        pred = pred[1:].view(-1, pred_dim)\r\n",
        "        \r\n",
        "        loss = criterion(pred, trg)\r\n",
        "        optimizer.zero_grad()\r\n",
        "        loss.backward()\r\n",
        "        optimizer.step()\r\n",
        "        epoch_loss += loss.item()\r\n",
        "  \r\n",
        "    return epoch_loss / len(iterator)"
      ],
      "execution_count": 14,
      "outputs": []
    },
    {
      "cell_type": "markdown",
      "metadata": {
        "id": "oDaKV4SoX9b4"
      },
      "source": [
        "# 评估"
      ]
    },
    {
      "cell_type": "code",
      "metadata": {
        "id": "b2hAWmpIEBFC"
      },
      "source": [
        "def evaluate(model, iterator, criterion):\r\n",
        "    model.eval()\r\n",
        "    epoch_loss = 0\r\n",
        "    with torch.no_grad():\r\n",
        "        for i, batch in enumerate(iterator):\r\n",
        "            src = batch.src\r\n",
        "            trg = batch.trg # trg = [trg_len, batch_size]\r\n",
        "\r\n",
        "            # output = [trg_len, batch_size, output_dim]\r\n",
        "            output = model(src, trg, 0) # turn off teacher forcing\r\n",
        "          \r\n",
        "            output_dim = output.shape[-1]\r\n",
        "            \r\n",
        "            # trg = [(trg_len - 1) * batch_size]\r\n",
        "            # output = [(trg_len - 1) * batch_size, output_dim]\r\n",
        "            output = output[1:].view(-1, output_dim)\r\n",
        "            trg = trg[1:].view(-1)\r\n",
        "\r\n",
        "            loss = criterion(output, trg)\r\n",
        "            epoch_loss += loss.item()\r\n",
        "\r\n",
        "    return epoch_loss / len(iterator)"
      ],
      "execution_count": 15,
      "outputs": []
    },
    {
      "cell_type": "markdown",
      "metadata": {
        "id": "Dbntkm0LYIh3"
      },
      "source": [
        "# timing function"
      ]
    },
    {
      "cell_type": "code",
      "metadata": {
        "id": "Q7ImIKA1EDcM"
      },
      "source": [
        "def epoch_time(start_time, end_time):\r\n",
        "    elapsed_time = end_time - start_time\r\n",
        "    elapsed_mins = int(elapsed_time / 60)\r\n",
        "    elapsed_secs = int(elapsed_time - (elapsed_mins * 60))\r\n",
        "    return elapsed_mins, elapsed_secs"
      ],
      "execution_count": 16,
      "outputs": []
    },
    {
      "cell_type": "markdown",
      "metadata": {
        "id": "0CZdu28NYW7P"
      },
      "source": [
        "# 主函数"
      ]
    },
    {
      "cell_type": "code",
      "metadata": {
        "colab": {
          "base_uri": "https://localhost:8080/"
        },
        "id": "81Lu9E6LEFm0",
        "outputId": "d7532ba3-c306-4ad9-d0e1-9a208e203600"
      },
      "source": [
        "best_valid_loss = float('inf')\r\n",
        "\r\n",
        "for epoch in range(10):\r\n",
        "    start_time = time.time()\r\n",
        "    \r\n",
        "    train_loss = train(model, train_iterator, optimizer, criterion)\r\n",
        "    valid_loss = evaluate(model, valid_iterator, criterion)\r\n",
        "    \r\n",
        "    end_time = time.time()\r\n",
        "    \r\n",
        "    epoch_mins, epoch_secs = epoch_time(start_time, end_time)\r\n",
        "    \r\n",
        "    if valid_loss < best_valid_loss:\r\n",
        "        best_valid_loss = valid_loss\r\n",
        "        torch.save(model.state_dict(), 'tut3-model.pt')\r\n",
        "    \r\n",
        "    print(f'Epoch: {epoch+1:02} | Time: {epoch_mins}m {epoch_secs}s')\r\n",
        "    print(f'\\tTrain Loss: {train_loss:.3f} | Train PPL: {math.exp(train_loss):7.3f}')\r\n",
        "    print(f'\\t Val. Loss: {valid_loss:.3f} |  Val. PPL: {math.exp(valid_loss):7.3f}')"
      ],
      "execution_count": 17,
      "outputs": [
        {
          "output_type": "stream",
          "text": [
            "Epoch: 01 | Time: 2m 45s\n",
            "\tTrain Loss: 4.346 | Train PPL:  77.160\n",
            "\t Val. Loss: 3.630 |  Val. PPL:  37.699\n",
            "Epoch: 02 | Time: 2m 46s\n",
            "\tTrain Loss: 3.115 | Train PPL:  22.536\n",
            "\t Val. Loss: 3.292 |  Val. PPL:  26.884\n",
            "Epoch: 03 | Time: 2m 46s\n",
            "\tTrain Loss: 2.653 | Train PPL:  14.197\n",
            "\t Val. Loss: 3.276 |  Val. PPL:  26.474\n",
            "Epoch: 04 | Time: 2m 46s\n",
            "\tTrain Loss: 2.355 | Train PPL:  10.535\n",
            "\t Val. Loss: 3.290 |  Val. PPL:  26.835\n",
            "Epoch: 05 | Time: 2m 45s\n",
            "\tTrain Loss: 2.136 | Train PPL:   8.466\n",
            "\t Val. Loss: 3.289 |  Val. PPL:  26.805\n",
            "Epoch: 06 | Time: 2m 47s\n",
            "\tTrain Loss: 1.991 | Train PPL:   7.322\n",
            "\t Val. Loss: 3.334 |  Val. PPL:  28.052\n",
            "Epoch: 07 | Time: 2m 45s\n",
            "\tTrain Loss: 1.885 | Train PPL:   6.587\n",
            "\t Val. Loss: 3.295 |  Val. PPL:  26.966\n",
            "Epoch: 08 | Time: 2m 45s\n",
            "\tTrain Loss: 1.781 | Train PPL:   5.938\n",
            "\t Val. Loss: 3.291 |  Val. PPL:  26.878\n",
            "Epoch: 09 | Time: 2m 46s\n",
            "\tTrain Loss: 1.690 | Train PPL:   5.418\n",
            "\t Val. Loss: 3.366 |  Val. PPL:  28.972\n",
            "Epoch: 10 | Time: 2m 45s\n",
            "\tTrain Loss: 1.651 | Train PPL:   5.214\n",
            "\t Val. Loss: 3.473 |  Val. PPL:  32.241\n"
          ],
          "name": "stdout"
        }
      ]
    },
    {
      "cell_type": "code",
      "metadata": {
        "colab": {
          "base_uri": "https://localhost:8080/"
        },
        "id": "wBSNQj7mEIMd",
        "outputId": "7ab2c876-0b2d-4672-c1be-3aed3f95762f"
      },
      "source": [
        "model.load_state_dict(torch.load('tut3-model.pt'))\r\n",
        "\r\n",
        "test_loss = evaluate(model, test_iterator, criterion)\r\n",
        "\r\n",
        "print(f'| Test Loss: {test_loss:.3f} | Test PPL: {math.exp(test_loss):7.3f} |')"
      ],
      "execution_count": 18,
      "outputs": [
        {
          "output_type": "stream",
          "text": [
            "| Test Loss: 3.345 | Test PPL:  28.356 |\n"
          ],
          "name": "stdout"
        }
      ]
    }
  ]
}